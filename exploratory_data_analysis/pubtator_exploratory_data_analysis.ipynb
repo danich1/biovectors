{
 "cells": [
  {
   "cell_type": "markdown",
   "metadata": {},
   "source": [
    "# Pubtator Central Update"
   ]
  },
  {
   "cell_type": "markdown",
   "metadata": {},
   "source": [
    "Pubtator Central updates their data monthly; however, they changed their data to be xml format instead of common text.\n",
    "Based on this update it is imperative to know what changes have been made/format this data to make future experiments easier to work with.\n",
    "This notebook is being created to make training word2vec a whole lot easier."
   ]
  },
  {
   "cell_type": "code",
   "execution_count": 1,
   "metadata": {
    "ExecuteTime": {
     "end_time": "2021-03-24T13:36:53.774286Z",
     "start_time": "2021-03-24T13:36:52.757562Z"
    }
   },
   "outputs": [],
   "source": [
    "%load_ext autoreload\n",
    "%autoreload 2\n",
    "\n",
    "from collections import defaultdict, Counter\n",
    "import csv\n",
    "from datetime import datetime\n",
    "import itertools\n",
    "import lzma\n",
    "from pathlib import Path\n",
    "import pickle\n",
    "import tarfile\n",
    "\n",
    "import lxml.etree as ET\n",
    "import numpy as np\n",
    "import pandas as pd\n",
    "import plotnine as p9\n",
    "import tqdm\n",
    "\n",
    "from biovectors_modules.word2vec_run_helper import (\n",
    "    PubMedSentencesIterator,\n",
    "    PubtatorTarIterator,\n",
    "    chunks,\n",
    ")"
   ]
  },
  {
   "cell_type": "markdown",
   "metadata": {
    "ExecuteTime": {
     "end_time": "2021-02-14T17:47:18.089567Z",
     "start_time": "2021-02-14T17:47:18.084433Z"
    }
   },
   "source": [
    "# Look at xml example"
   ]
  },
  {
   "cell_type": "markdown",
   "metadata": {},
   "source": [
    "Lets look at an example entry for each tagged document. Looks like it is regular BioCXML format which is good for processing."
   ]
  },
  {
   "cell_type": "code",
   "execution_count": 2,
   "metadata": {
    "ExecuteTime": {
     "end_time": "2021-03-24T13:36:53.791812Z",
     "start_time": "2021-03-24T13:36:53.775589Z"
    }
   },
   "outputs": [
    {
     "name": "stdout",
     "output_type": "stream",
     "text": [
      "10\n"
     ]
    }
   ],
   "source": [
    "# Move up a level in the repository, enter the folder with all the pubmed abstracts\n",
    "# grab all files with the .gz extenstion for processing\n",
    "pubtator_abstract_batch = list(Path(\"../pubtator_abstracts\").rglob(\"*.gz\"))\n",
    "print(len(pubtator_abstract_batch))"
   ]
  },
  {
   "cell_type": "code",
   "execution_count": 3,
   "metadata": {
    "ExecuteTime": {
     "end_time": "2021-03-24T13:36:53.814777Z",
     "start_time": "2021-03-24T13:36:53.793507Z"
    },
    "scrolled": false
   },
   "outputs": [
    {
     "name": "stdout",
     "output_type": "stream",
     "text": [
      "<passage>\n",
      "  <infon key=\"section_type\">ABSTRACT</infon>\n",
      "  <infon key=\"type\">abstract</infon>\n",
      "  <offset>127</offset>\n",
      "  <text>CuA is a dinuclear mixed-valence center located in subunit 2 of the ba3 type cytochrome oxidase from Thermus thermophilus. The assembly of this site within the periplasmic membrane is believed to be mediated by the copper chaperones Sco and/or PCuAC, but the biological mechanisms are still poorly understood, thereby stimulating interest in the mechanisms of CuA formation from inorganic ions. The formulation of the CuA center as an electron-delocalized Cu1.5 - Cu1.5 system, implicates both Cu(II) and Cu(I) states in the metalation process. In earlier work we showed that selenomethionine (SeM) substitution of the coordinated M160 residue provided a ligand-directed probe for studying the copper coordination environment via the Se XAS signal, which was particularly useful for interrogating the Cu(I) states where other spectroscopic probes are absent. In the present study we have investigated the formation of mixed-valence CuA and its M160SeM derivative by stopped-flow UV-vis, EPR, and XAS at both Cu and Se edges, while the formation of fully reduced di-Cu(I) CuA has been studied by XAS alone. Our results establish the presence of previously undetected mononuclear intermediates, and show important differences from the metalation reactions of purple CuA azurin. XAS spectroscopy at Cu and Se edges has allowed us to extend mechanistic inferences to formation of the di-Cu(I) state which may be more relevant to biological CuA assembly. In particular, we find that T. thermophilus CuA assembles more rapidly than reported for other CuA systems, and that the dominant intermediate along the pathway to mixed-valence is a new green species with lambdamax = 460 nm. This intermediate has been isolated in a homogeneous state, and shown to be a mononuclear Cu(II)-(His)(Cys)2 species with no observable Cu(II)-(Met) interaction. Reduction with dithionite generates its Cu(I) homologue which is again mononuclear, but now shows a strong interaction with the Met160 thioether. The results are discussed within the framework of (i) the \"coupled distortion\" model for Cu(II) thiolates, and (ii) their relevance to biological metalation reactions of the CuA center.</text>\n",
      "  <annotation id=\"24\">\n",
      "    <infon key=\"identifier\">274</infon>\n",
      "    <infon key=\"type\">Species</infon>\n",
      "    <location offset=\"228\" length=\"20\"/>\n",
      "    <text>Thermus thermophilus</text>\n",
      "  </annotation>\n",
      "  <annotation id=\"25\">\n",
      "    <infon key=\"identifier\">274</infon>\n",
      "    <infon key=\"type\">Species</infon>\n",
      "    <location offset=\"1605\" length=\"15\"/>\n",
      "    <text>T. thermophilus</text>\n",
      "  </annotation>\n",
      "  <annotation id=\"26\">\n",
      "    <infon key=\"identifier\">-</infon>\n",
      "    <infon key=\"type\">Chemical</infon>\n",
      "    <location offset=\"371\" length=\"5\"/>\n",
      "    <text>PCuAC</text>\n",
      "  </annotation>\n",
      "  <annotation id=\"27\">\n",
      "    <infon key=\"identifier\">-</infon>\n",
      "    <infon key=\"type\">Chemical</infon>\n",
      "    <location offset=\"632\" length=\"5\"/>\n",
      "    <text>Cu(I)</text>\n",
      "  </annotation>\n",
      "  <annotation id=\"28\">\n",
      "    <infon key=\"identifier\">MESH:D003545</infon>\n",
      "    <infon key=\"type\">Chemical</infon>\n",
      "    <location offset=\"1906\" length=\"3\"/>\n",
      "    <text>Cys</text>\n",
      "  </annotation>\n",
      "  <annotation id=\"29\">\n",
      "    <infon key=\"identifier\">-</infon>\n",
      "    <infon key=\"type\">Chemical</infon>\n",
      "    <location offset=\"1893\" length=\"6\"/>\n",
      "    <text>Cu(II)</text>\n",
      "  </annotation>\n",
      "  <annotation id=\"30\">\n",
      "    <infon key=\"identifier\">-</infon>\n",
      "    <infon key=\"type\">Chemical</infon>\n",
      "    <location offset=\"2200\" length=\"16\"/>\n",
      "    <text>Cu(II) thiolates</text>\n",
      "  </annotation>\n",
      "  <annotation id=\"31\">\n",
      "    <infon key=\"identifier\">-</infon>\n",
      "    <infon key=\"type\">Chemical</infon>\n",
      "    <location offset=\"621\" length=\"6\"/>\n",
      "    <text>Cu(II)</text>\n",
      "  </annotation>\n",
      "  <annotation id=\"32\">\n",
      "    <infon key=\"identifier\">MESH:D003300</infon>\n",
      "    <infon key=\"type\">Chemical</infon>\n",
      "    <location offset=\"342\" length=\"6\"/>\n",
      "    <text>copper</text>\n",
      "  </annotation>\n",
      "  <annotation id=\"33\">\n",
      "    <infon key=\"identifier\">MESH:D004227</infon>\n",
      "    <infon key=\"type\">Chemical</infon>\n",
      "    <location offset=\"1980\" length=\"10\"/>\n",
      "    <text>dithionite</text>\n",
      "  </annotation>\n",
      "  <annotation id=\"34\">\n",
      "    <infon key=\"identifier\">-</infon>\n",
      "    <infon key=\"type\">Chemical</infon>\n",
      "    <location offset=\"2093\" length=\"16\"/>\n",
      "    <text>Met160 thioether</text>\n",
      "  </annotation>\n",
      "  <annotation id=\"35\">\n",
      "    <infon key=\"identifier\">MESH:D003300</infon>\n",
      "    <infon key=\"type\">Chemical</infon>\n",
      "    <location offset=\"821\" length=\"6\"/>\n",
      "    <text>copper</text>\n",
      "  </annotation>\n",
      "  <annotation id=\"36\">\n",
      "    <infon key=\"identifier\">MESH:D006639</infon>\n",
      "    <infon key=\"type\">Chemical</infon>\n",
      "    <location offset=\"1901\" length=\"3\"/>\n",
      "    <text>His</text>\n",
      "  </annotation>\n",
      "  <annotation id=\"37\">\n",
      "    <infon key=\"identifier\">-</infon>\n",
      "    <infon key=\"type\">Chemical</infon>\n",
      "    <location offset=\"1391\" length=\"10\"/>\n",
      "    <text>CuA azurin</text>\n",
      "  </annotation>\n",
      "  <annotation id=\"38\">\n",
      "    <infon key=\"identifier\">-</infon>\n",
      "    <infon key=\"type\">Chemical</infon>\n",
      "    <location offset=\"487\" length=\"3\"/>\n",
      "    <text>CuA</text>\n",
      "  </annotation>\n",
      "  <annotation id=\"39\">\n",
      "    <infon key=\"identifier\">MESH:D012645</infon>\n",
      "    <infon key=\"type\">Chemical</infon>\n",
      "    <location offset=\"703\" length=\"16\"/>\n",
      "    <text>selenomethionine</text>\n",
      "  </annotation>\n",
      "  <annotation id=\"40\">\n",
      "    <infon key=\"identifier\">-</infon>\n",
      "    <infon key=\"type\">Chemical</infon>\n",
      "    <location offset=\"1939\" length=\"6\"/>\n",
      "    <text>Cu(II)</text>\n",
      "  </annotation>\n",
      "  <annotation id=\"41\">\n",
      "    <infon key=\"identifier\">-</infon>\n",
      "    <infon key=\"type\">Chemical</infon>\n",
      "    <location offset=\"545\" length=\"3\"/>\n",
      "    <text>CuA</text>\n",
      "  </annotation>\n",
      "</passage>\n",
      "\n"
     ]
    }
   ],
   "source": [
    "for batch_directory in pubtator_abstract_batch:\n",
    "    for doc_obj in PubtatorTarIterator(batch_directory, return_ibatch_file=False):\n",
    "        passages = doc_obj.xpath(\"//passage\")\n",
    "        lxml_str = ET.tostring(passages[1], pretty_print=True)\n",
    "        print(lxml_str.decode(\"utf-8\"))\n",
    "        break\n",
    "    break"
   ]
  },
  {
   "cell_type": "markdown",
   "metadata": {},
   "source": [
    "# Grab Document Metadata"
   ]
  },
  {
   "cell_type": "code",
   "execution_count": 4,
   "metadata": {
    "ExecuteTime": {
     "end_time": "2021-03-24T18:15:01.432240Z",
     "start_time": "2021-03-24T13:36:53.816126Z"
    },
    "lines_to_next_cell": 2,
    "scrolled": false
   },
   "outputs": [
    {
     "name": "stderr",
     "output_type": "stream",
     "text": [
      "3152627it [28:15, 1859.91it/s]\n",
      "3152380it [28:18, 1855.44it/s]\n",
      "3152900it [28:22, 1852.09it/s]\n",
      "3153206it [28:21, 1853.07it/s]\n",
      "3151867it [28:20, 1853.39it/s]\n",
      "2324504it [23:19, 1660.68it/s]\n",
      "35it [00:00, 340.06it/s]"
     ]
    },
    {
     "name": "stdout",
     "output_type": "stream",
     "text": [
      "Parsing the archive reached an error. Breaking out the loop\n"
     ]
    },
    {
     "name": "stderr",
     "output_type": "stream",
     "text": [
      "3152711it [28:16, 1858.81it/s]\n",
      "3152424it [28:15, 1858.79it/s]\n",
      "3152935it [28:18, 1856.37it/s]\n",
      "3152083it [28:18, 1855.83it/s]\n"
     ]
    }
   ],
   "source": [
    "if not Path(\"output/pmc_metadata_2.tsv.xz\").exists():\n",
    "    with lzma.open(\"output/pmc_metadata_2.tsv.xz\", \"wt\") as outfile:\n",
    "        writer = csv.DictWriter(\n",
    "            outfile,\n",
    "            fieldnames=[\n",
    "                \"batch_folder\",\n",
    "                \"batch_file\",\n",
    "                \"doc_id\",\n",
    "                \"doi\",\n",
    "                \"pmc\",\n",
    "                \"pmid\",\n",
    "                \"section\",\n",
    "                \"published_year\",\n",
    "            ],\n",
    "            delimiter=\"\\t\",\n",
    "        )\n",
    "        writer.writeheader()\n",
    "\n",
    "        # Cycle through each batch file\n",
    "        for batch_directory in pubtator_abstract_batch:\n",
    "\n",
    "            # Cycle through each document\n",
    "            for file_name, doc_obj in tqdm.tqdm(\n",
    "                PubtatorTarIterator(batch_directory, return_ibatch_file=True)\n",
    "            ):\n",
    "                doc_id = doc_obj.xpath(\"id/text()\")\n",
    "                doi = doc_obj.xpath(\"passage/infon[@key='article-id_doi']/text()\")\n",
    "                pmc_id = doc_obj.xpath(\"passage/infon[@key='article-id_pmc']/text()\")\n",
    "                pmid = doc_obj.xpath(\"passage/infon[@key='article-id_pmid']/text()\")\n",
    "                sections = doc_obj.xpath(\"passage/infon[@key='section_type']/text()\")\n",
    "                section_type = doc_obj.xpath(\"passage/infon[@key='type']/text()\")\n",
    "                year = doc_obj.xpath(\"passage/infon[@key='year']/text()\")\n",
    "\n",
    "                section_headers = \"|\".join(sorted(list(set(sections))))\n",
    "                section_headers_type = \"|\".join(\n",
    "                    sorted(list(set(map(lambda x: x.upper(), section_type))))\n",
    "                )\n",
    "\n",
    "                writer.writerow(\n",
    "                    {\n",
    "                        \"batch_folder\": batch_directory.name,\n",
    "                        \"batch_file\": file_name,\n",
    "                        \"doc_id\": doc_id[0],\n",
    "                        \"doi\": doi[0] if len(doi) > 0 else \"\",\n",
    "                        \"pmc\": pmc_id[0] if len(pmc_id) > 0 else \"\",\n",
    "                        \"pmid\": pmid[0] if len(pmid) > 0 else \"\",\n",
    "                        \"section\": section_headers\n",
    "                        if len(section_headers) > 0\n",
    "                        else section_headers_type,\n",
    "                        \"published_year\": year[0]\n",
    "                        if len(year) > 0\n",
    "                        else 0,  # Shouldnt get to the else statement\n",
    "                    }\n",
    "                )"
   ]
  },
  {
   "cell_type": "markdown",
   "metadata": {},
   "source": [
    "# Analyze Abstract/Full Text Dataset"
   ]
  },
  {
   "cell_type": "code",
   "execution_count": 5,
   "metadata": {
    "ExecuteTime": {
     "end_time": "2021-03-24T18:20:43.829729Z",
     "start_time": "2021-03-24T18:20:12.328781Z"
    }
   },
   "outputs": [
    {
     "name": "stderr",
     "output_type": "stream",
     "text": [
      "/home/danich1/anaconda3/envs/biovectors/lib/python3.7/site-packages/IPython/core/interactiveshell.py:3156: DtypeWarning: Columns (4) have mixed types.Specify dtype option on import or set low_memory=False.\n"
     ]
    },
    {
     "name": "stdout",
     "output_type": "stream",
     "text": [
      "(30697637, 8)\n"
     ]
    },
    {
     "data": {
      "text/html": [
       "<div>\n",
       "<style scoped>\n",
       "    .dataframe tbody tr th:only-of-type {\n",
       "        vertical-align: middle;\n",
       "    }\n",
       "\n",
       "    .dataframe tbody tr th {\n",
       "        vertical-align: top;\n",
       "    }\n",
       "\n",
       "    .dataframe thead th {\n",
       "        text-align: right;\n",
       "    }\n",
       "</style>\n",
       "<table border=\"1\" class=\"dataframe\">\n",
       "  <thead>\n",
       "    <tr style=\"text-align: right;\">\n",
       "      <th></th>\n",
       "      <th>batch_folder</th>\n",
       "      <th>batch_file</th>\n",
       "      <th>doc_id</th>\n",
       "      <th>doi</th>\n",
       "      <th>pmc</th>\n",
       "      <th>pmid</th>\n",
       "      <th>section</th>\n",
       "      <th>published_year</th>\n",
       "    </tr>\n",
       "  </thead>\n",
       "  <tbody>\n",
       "    <tr>\n",
       "      <th>0</th>\n",
       "      <td>BioCXML.3.gz</td>\n",
       "      <td>output/BioCXML/10003.bioc.xml</td>\n",
       "      <td>3616644</td>\n",
       "      <td>10.1021/ja307276z</td>\n",
       "      <td>3616644</td>\n",
       "      <td>22946616.0</td>\n",
       "      <td>ABSTRACT|DISCUSS|FIG|INTRO|METHODS|REF|RESULTS...</td>\n",
       "      <td>2012</td>\n",
       "    </tr>\n",
       "    <tr>\n",
       "      <th>1</th>\n",
       "      <td>BioCXML.3.gz</td>\n",
       "      <td>output/BioCXML/10003.bioc.xml</td>\n",
       "      <td>3616678</td>\n",
       "      <td>10.1097/ADT.0b013e31815c2ded</td>\n",
       "      <td>3616678</td>\n",
       "      <td>23565053.0</td>\n",
       "      <td>ABSTRACT|DISCUSS|INTRO|METHODS|REF|RESULTS|TAB...</td>\n",
       "      <td>2008</td>\n",
       "    </tr>\n",
       "    <tr>\n",
       "      <th>2</th>\n",
       "      <td>BioCXML.3.gz</td>\n",
       "      <td>output/BioCXML/10003.bioc.xml</td>\n",
       "      <td>3616697</td>\n",
       "      <td>10.1093/nar/gkt072</td>\n",
       "      <td>3616697</td>\n",
       "      <td>23396444.0</td>\n",
       "      <td>ABSTRACT|ACK_FUND|CONCL|FIG|INTRO|METHODS|REF|...</td>\n",
       "      <td>2013</td>\n",
       "    </tr>\n",
       "    <tr>\n",
       "      <th>3</th>\n",
       "      <td>BioCXML.3.gz</td>\n",
       "      <td>output/BioCXML/10003.bioc.xml</td>\n",
       "      <td>3616698</td>\n",
       "      <td>10.1093/nar/gkt006</td>\n",
       "      <td>3616698</td>\n",
       "      <td>23335781.0</td>\n",
       "      <td>ABSTRACT|ACK_FUND|DISCUSS|FIG|INTRO|METHODS|RE...</td>\n",
       "      <td>2013</td>\n",
       "    </tr>\n",
       "    <tr>\n",
       "      <th>4</th>\n",
       "      <td>BioCXML.3.gz</td>\n",
       "      <td>output/BioCXML/10003.bioc.xml</td>\n",
       "      <td>3616699</td>\n",
       "      <td>10.1093/nar/gkt030</td>\n",
       "      <td>3616699</td>\n",
       "      <td>23393190.0</td>\n",
       "      <td>ABSTRACT|ACK_FUND|DISCUSS|FIG|INTRO|METHODS|RE...</td>\n",
       "      <td>2013</td>\n",
       "    </tr>\n",
       "  </tbody>\n",
       "</table>\n",
       "</div>"
      ],
      "text/plain": [
       "   batch_folder                     batch_file   doc_id  \\\n",
       "0  BioCXML.3.gz  output/BioCXML/10003.bioc.xml  3616644   \n",
       "1  BioCXML.3.gz  output/BioCXML/10003.bioc.xml  3616678   \n",
       "2  BioCXML.3.gz  output/BioCXML/10003.bioc.xml  3616697   \n",
       "3  BioCXML.3.gz  output/BioCXML/10003.bioc.xml  3616698   \n",
       "4  BioCXML.3.gz  output/BioCXML/10003.bioc.xml  3616699   \n",
       "\n",
       "                            doi      pmc        pmid  \\\n",
       "0             10.1021/ja307276z  3616644  22946616.0   \n",
       "1  10.1097/ADT.0b013e31815c2ded  3616678  23565053.0   \n",
       "2            10.1093/nar/gkt072  3616697  23396444.0   \n",
       "3            10.1093/nar/gkt006  3616698  23335781.0   \n",
       "4            10.1093/nar/gkt030  3616699  23393190.0   \n",
       "\n",
       "                                             section  published_year  \n",
       "0  ABSTRACT|DISCUSS|FIG|INTRO|METHODS|REF|RESULTS...            2012  \n",
       "1  ABSTRACT|DISCUSS|INTRO|METHODS|REF|RESULTS|TAB...            2008  \n",
       "2  ABSTRACT|ACK_FUND|CONCL|FIG|INTRO|METHODS|REF|...            2013  \n",
       "3  ABSTRACT|ACK_FUND|DISCUSS|FIG|INTRO|METHODS|RE...            2013  \n",
       "4  ABSTRACT|ACK_FUND|DISCUSS|FIG|INTRO|METHODS|RE...            2013  "
      ]
     },
     "execution_count": 5,
     "metadata": {},
     "output_type": "execute_result"
    }
   ],
   "source": [
    "pubtator_central_metadata_df = pd.read_csv(\"output/pmc_metadata_2.tsv.xz\", sep=\"\\t\")\n",
    "print(pubtator_central_metadata_df.shape)\n",
    "pubtator_central_metadata_df.head()"
   ]
  },
  {
   "cell_type": "markdown",
   "metadata": {},
   "source": [
    "## Sanity Check the data"
   ]
  },
  {
   "cell_type": "code",
   "execution_count": 6,
   "metadata": {
    "ExecuteTime": {
     "end_time": "2021-03-24T18:21:00.717212Z",
     "start_time": "2021-03-24T18:21:00.257509Z"
    }
   },
   "outputs": [
    {
     "data": {
      "text/plain": [
       "(0, 8)"
      ]
     },
     "execution_count": 6,
     "metadata": {},
     "output_type": "execute_result"
    }
   ],
   "source": [
    "# Sanity check that all documents have a published year\n",
    "(pubtator_central_metadata_df.query(\"published_year.isnull()\").shape)"
   ]
  },
  {
   "cell_type": "code",
   "execution_count": 7,
   "metadata": {
    "ExecuteTime": {
     "end_time": "2021-03-24T18:21:00.825829Z",
     "start_time": "2021-03-24T18:21:00.718711Z"
    }
   },
   "outputs": [
    {
     "data": {
      "text/plain": [
       "(0, 8)"
      ]
     },
     "execution_count": 7,
     "metadata": {},
     "output_type": "execute_result"
    }
   ],
   "source": [
    "# Do all documents have an id?\n",
    "(pubtator_central_metadata_df.query(\"doc_id.isnull()\").shape)"
   ]
  },
  {
   "cell_type": "code",
   "execution_count": 8,
   "metadata": {
    "ExecuteTime": {
     "end_time": "2021-03-24T18:21:05.579846Z",
     "start_time": "2021-03-24T18:21:00.827411Z"
    }
   },
   "outputs": [
    {
     "data": {
      "text/plain": [
       "(27244927, 8)"
      ]
     },
     "execution_count": 8,
     "metadata": {},
     "output_type": "execute_result"
    }
   ],
   "source": [
    "# Do all documents have a pmid?\n",
    "(pubtator_central_metadata_df.query(\"pmid.isnull()\").shape)"
   ]
  },
  {
   "cell_type": "code",
   "execution_count": 9,
   "metadata": {
    "ExecuteTime": {
     "end_time": "2021-03-24T18:21:07.841123Z",
     "start_time": "2021-03-24T18:21:05.581296Z"
    }
   },
   "outputs": [
    {
     "data": {
      "text/plain": [
       "(24449017, 8)"
      ]
     },
     "execution_count": 9,
     "metadata": {},
     "output_type": "execute_result"
    }
   ],
   "source": [
    "# Do all documents have a pmc id?\n",
    "(pubtator_central_metadata_df.query(\"pmc.isnull()\").shape)"
   ]
  },
  {
   "cell_type": "code",
   "execution_count": 10,
   "metadata": {
    "ExecuteTime": {
     "end_time": "2021-03-24T18:21:10.276145Z",
     "start_time": "2021-03-24T18:21:07.842510Z"
    }
   },
   "outputs": [
    {
     "data": {
      "text/plain": [
       "(27517661, 8)"
      ]
     },
     "execution_count": 10,
     "metadata": {},
     "output_type": "execute_result"
    }
   ],
   "source": [
    "# Do all documents have a doi?\n",
    "(pubtator_central_metadata_df.query(\"doi.isnull()\").shape)"
   ]
  },
  {
   "cell_type": "markdown",
   "metadata": {},
   "source": [
    "## Published Year Distribution"
   ]
  },
  {
   "cell_type": "code",
   "execution_count": 11,
   "metadata": {
    "ExecuteTime": {
     "end_time": "2021-03-24T18:21:13.874593Z",
     "start_time": "2021-03-24T18:21:10.277325Z"
    },
    "scrolled": false
   },
   "outputs": [
    {
     "data": {
      "text/plain": [
       "array([   0, 1781, 1782, 1783, 1784, 1785, 1786, 1787, 1788, 1789, 1790,\n",
       "       1791, 1792, 1793, 1794, 1795, 1796, 1797, 1798, 1799, 1800, 1801,\n",
       "       1802, 1803, 1804, 1805, 1806, 1807, 1808, 1809, 1810, 1811, 1812,\n",
       "       1813, 1814, 1815, 1816, 1817, 1818, 1819, 1820, 1821, 1822, 1823,\n",
       "       1824, 1825, 1826, 1827, 1828, 1829, 1830, 1831, 1832, 1833, 1834,\n",
       "       1835, 1836, 1837, 1838, 1839, 1840, 1841, 1842, 1843, 1844, 1845,\n",
       "       1846, 1847, 1848, 1849, 1850, 1851, 1852, 1853, 1854, 1855, 1856,\n",
       "       1857, 1858, 1859, 1860, 1861, 1862, 1863, 1864, 1865, 1866, 1867,\n",
       "       1868, 1869, 1870, 1871, 1872, 1873, 1874, 1875, 1876, 1877, 1878,\n",
       "       1879, 1880, 1881, 1882, 1883, 1884, 1885, 1886, 1887, 1888, 1889,\n",
       "       1890, 1891, 1892, 1893, 1894, 1895, 1896, 1897, 1898, 1899, 1900,\n",
       "       1901, 1902, 1903, 1904, 1905, 1906, 1907, 1908, 1909, 1910, 1911,\n",
       "       1912, 1913, 1914, 1915, 1916, 1917, 1918, 1919, 1920, 1921, 1922,\n",
       "       1923, 1924, 1925, 1926, 1927, 1928, 1929, 1930, 1931, 1932, 1933,\n",
       "       1934, 1935, 1936, 1937, 1938, 1939, 1940, 1941, 1942, 1943, 1944,\n",
       "       1945, 1946, 1947, 1948, 1949, 1950, 1951, 1952, 1953, 1954, 1955,\n",
       "       1956, 1957, 1958, 1959, 1960, 1961, 1962, 1963, 1964, 1965, 1966,\n",
       "       1967, 1968, 1969, 1970, 1971, 1972, 1973, 1974, 1975, 1976, 1977,\n",
       "       1978, 1979, 1980, 1981, 1982, 1983, 1984, 1985, 1986, 1987, 1988,\n",
       "       1989, 1990, 1991, 1992, 1993, 1994, 1995, 1996, 1997, 1998, 1999,\n",
       "       2000, 2001, 2002, 2003, 2004, 2005, 2006, 2007, 2008, 2009, 2010,\n",
       "       2011, 2012, 2013, 2014, 2015, 2016, 2017, 2018, 2019, 2020, 2021])"
      ]
     },
     "execution_count": 11,
     "metadata": {},
     "output_type": "execute_result"
    }
   ],
   "source": [
    "(pubtator_central_metadata_df.sort_values(\"published_year\").published_year.unique())"
   ]
  },
  {
   "cell_type": "code",
   "execution_count": 12,
   "metadata": {
    "ExecuteTime": {
     "end_time": "2021-03-24T18:21:25.406512Z",
     "start_time": "2021-03-24T18:21:24.980693Z"
    }
   },
   "outputs": [
    {
     "data": {
      "text/html": [
       "<div>\n",
       "<style scoped>\n",
       "    .dataframe tbody tr th:only-of-type {\n",
       "        vertical-align: middle;\n",
       "    }\n",
       "\n",
       "    .dataframe tbody tr th {\n",
       "        vertical-align: top;\n",
       "    }\n",
       "\n",
       "    .dataframe thead th {\n",
       "        text-align: right;\n",
       "    }\n",
       "</style>\n",
       "<table border=\"1\" class=\"dataframe\">\n",
       "  <thead>\n",
       "    <tr style=\"text-align: right;\">\n",
       "      <th></th>\n",
       "      <th>published_year</th>\n",
       "      <th>doc_count</th>\n",
       "    </tr>\n",
       "  </thead>\n",
       "  <tbody>\n",
       "    <tr>\n",
       "      <th>0</th>\n",
       "      <td>0</td>\n",
       "      <td>43010</td>\n",
       "    </tr>\n",
       "    <tr>\n",
       "      <th>1</th>\n",
       "      <td>1781</td>\n",
       "      <td>68</td>\n",
       "    </tr>\n",
       "    <tr>\n",
       "      <th>2</th>\n",
       "      <td>1782</td>\n",
       "      <td>22</td>\n",
       "    </tr>\n",
       "    <tr>\n",
       "      <th>3</th>\n",
       "      <td>1783</td>\n",
       "      <td>26</td>\n",
       "    </tr>\n",
       "    <tr>\n",
       "      <th>4</th>\n",
       "      <td>1784</td>\n",
       "      <td>31</td>\n",
       "    </tr>\n",
       "  </tbody>\n",
       "</table>\n",
       "</div>"
      ],
      "text/plain": [
       "   published_year  doc_count\n",
       "0               0      43010\n",
       "1            1781         68\n",
       "2            1782         22\n",
       "3            1783         26\n",
       "4            1784         31"
      ]
     },
     "execution_count": 12,
     "metadata": {},
     "output_type": "execute_result"
    }
   ],
   "source": [
    "doc_count_df = (\n",
    "    pubtator_central_metadata_df.groupby(\"published_year\")\n",
    "    .agg({\"published_year\": \"size\"})\n",
    "    .rename(index=str, columns={\"published_year\": \"doc_count\"})\n",
    "    .reset_index()\n",
    "    .astype({\"published_year\": int, \"doc_count\": int})\n",
    ")\n",
    "doc_count_df.head()"
   ]
  },
  {
   "cell_type": "code",
   "execution_count": 13,
   "metadata": {
    "ExecuteTime": {
     "end_time": "2021-03-24T18:21:26.476090Z",
     "start_time": "2021-03-24T18:21:25.408052Z"
    }
   },
   "outputs": [
    {
     "name": "stderr",
     "output_type": "stream",
     "text": [
      "/home/danich1/anaconda3/envs/biovectors/lib/python3.7/site-packages/plotnine/ggplot.py:729: PlotnineWarning: Saving 6.4 x 4.8 in image.\n",
      "/home/danich1/anaconda3/envs/biovectors/lib/python3.7/site-packages/plotnine/ggplot.py:730: PlotnineWarning: Filename: output/figures/pre_1950_doc_count.png\n"
     ]
    },
    {
     "data": {
      "image/png": "[encoded data removed]",
      "text/plain": [
       "<Figure size 640x480 with 1 Axes>"
      ]
     },
     "metadata": {},
     "output_type": "display_data"
    },
    {
     "name": "stdout",
     "output_type": "stream",
     "text": [
      "<ggplot: (-9223363302384357018)>\n"
     ]
    }
   ],
   "source": [
    "g = (\n",
    "    p9.ggplot(\n",
    "        doc_count_df.query(\"published_year > 0& published_year < 1950\"),\n",
    "        p9.aes(x=\"published_year\", y=\"doc_count\"),\n",
    "    )\n",
    "    + p9.geom_col(position=p9.position_dodge(width=0.9), fill=\"#1f78b4\")\n",
    "    + p9.labs(\n",
    "        title=\"Number of Documents Pre 1950\", x=\"Publication Year\", y=\"Document Count\"\n",
    "    )\n",
    ")\n",
    "g.save(\"output/figures/pre_1950_doc_count.png\", dpi=500)\n",
    "print(g)"
   ]
  },
  {
   "cell_type": "code",
   "execution_count": 14,
   "metadata": {
    "ExecuteTime": {
     "end_time": "2021-03-24T18:21:27.262046Z",
     "start_time": "2021-03-24T18:21:26.477884Z"
    }
   },
   "outputs": [
    {
     "name": "stderr",
     "output_type": "stream",
     "text": [
      "/home/danich1/anaconda3/envs/biovectors/lib/python3.7/site-packages/plotnine/ggplot.py:729: PlotnineWarning: Saving 6.4 x 4.8 in image.\n",
      "/home/danich1/anaconda3/envs/biovectors/lib/python3.7/site-packages/plotnine/ggplot.py:730: PlotnineWarning: Filename: output/figures/post_1950_doc_count.png\n"
     ]
    },
    {
     "data": {
      "image/png": "[encoded data removed]",
      "text/plain": [
       "<Figure size 640x480 with 1 Axes>"
      ]
     },
     "metadata": {},
     "output_type": "display_data"
    },
    {
     "name": "stdout",
     "output_type": "stream",
     "text": [
      "<ggplot: (-9223363302523621779)>\n"
     ]
    }
   ],
   "source": [
    "g = (\n",
    "    p9.ggplot(\n",
    "        doc_count_df.query(\"published_year >= 1950\"),\n",
    "        p9.aes(x=\"published_year\", y=\"doc_count\"),\n",
    "    )\n",
    "    + p9.geom_col(position=p9.position_dodge(width=0.9), fill=\"#1f78b4\")\n",
    "    + p9.labs(\n",
    "        title=\"Number of Documents Post 1950\", x=\"Publication Year\", y=\"Document Count\"\n",
    "    )\n",
    ")\n",
    "g.save(\"output/figures/post_1950_doc_count.png\", dpi=500)\n",
    "print(g)"
   ]
  },
  {
   "cell_type": "markdown",
   "metadata": {
    "ExecuteTime": {
     "end_time": "2021-02-25T17:23:28.046940Z",
     "start_time": "2021-02-25T17:23:28.041919Z"
    }
   },
   "source": [
    "# Shared Tokens Across Time - Abstract Only"
   ]
  },
  {
   "cell_type": "code",
   "execution_count": 24,
   "metadata": {
    "ExecuteTime": {
     "end_time": "2021-03-24T18:24:50.975204Z",
     "start_time": "2021-03-24T18:24:50.956752Z"
    }
   },
   "outputs": [],
   "source": [
    "tokens_by_year = defaultdict(Counter)\n",
    "sentence_iterator = PubMedSentencesIterator(\n",
    "    pubtator_abstract_batch,\n",
    "    year_filter=list(range(1990, datetime.now().year + 1, 1)),\n",
    "    return_year=True,\n",
    "    jobs=3,\n",
    ")"
   ]
  },
  {
   "cell_type": "code",
   "execution_count": 25,
   "metadata": {
    "ExecuteTime": {
     "end_time": "2021-03-24T18:24:50.993859Z",
     "start_time": "2021-03-24T18:24:50.976493Z"
    }
   },
   "outputs": [],
   "source": [
    "if not Path(\"output/unique_tokens_by_year.pkl\").exists():\n",
    "    for year, sentence in tqdm.tqdm(sentence_iterator):\n",
    "        tokens_by_year[year].update(Counter(sentence))"
   ]
  },
  {
   "cell_type": "code",
   "execution_count": 26,
   "metadata": {
    "ExecuteTime": {
     "end_time": "2021-03-24T18:24:53.934273Z",
     "start_time": "2021-03-24T18:24:50.995135Z"
    }
   },
   "outputs": [],
   "source": [
    "if not Path(\"output/unique_tokens_by_year.pkl\").exists():\n",
    "    pickle.dump(tokens_by_year, open(\"output/unique_tokens_by_year.pkl\", \"wb\"))\n",
    "else:\n",
    "    tokens_by_year = pickle.load(open(\"output/unique_tokens_by_year.pkl\", \"rb\"))"
   ]
  },
  {
   "cell_type": "markdown",
   "metadata": {},
   "source": [
    "## Unique Tokens Available per Year"
   ]
  },
  {
   "cell_type": "code",
   "execution_count": 27,
   "metadata": {
    "ExecuteTime": {
     "end_time": "2021-03-24T18:25:03.834065Z",
     "start_time": "2021-03-24T18:25:03.813535Z"
    }
   },
   "outputs": [],
   "source": [
    "data_rows = []\n",
    "\n",
    "for query_year in tokens_by_year:\n",
    "\n",
    "    data_rows.append(\n",
    "        {\n",
    "            \"year\": query_year,\n",
    "            \"num_tokens\": len(tokens_by_year[query_year]),\n",
    "        }\n",
    "    )"
   ]
  },
  {
   "cell_type": "code",
   "execution_count": 28,
   "metadata": {
    "ExecuteTime": {
     "end_time": "2021-03-24T18:25:03.860859Z",
     "start_time": "2021-03-24T18:25:03.835702Z"
    }
   },
   "outputs": [
    {
     "data": {
      "text/html": [
       "<div>\n",
       "<style scoped>\n",
       "    .dataframe tbody tr th:only-of-type {\n",
       "        vertical-align: middle;\n",
       "    }\n",
       "\n",
       "    .dataframe tbody tr th {\n",
       "        vertical-align: top;\n",
       "    }\n",
       "\n",
       "    .dataframe thead th {\n",
       "        text-align: right;\n",
       "    }\n",
       "</style>\n",
       "<table border=\"1\" class=\"dataframe\">\n",
       "  <thead>\n",
       "    <tr style=\"text-align: right;\">\n",
       "      <th></th>\n",
       "      <th>year</th>\n",
       "      <th>num_tokens</th>\n",
       "    </tr>\n",
       "  </thead>\n",
       "  <tbody>\n",
       "    <tr>\n",
       "      <th>0</th>\n",
       "      <td>2012</td>\n",
       "      <td>468397</td>\n",
       "    </tr>\n",
       "    <tr>\n",
       "      <th>1</th>\n",
       "      <td>2008</td>\n",
       "      <td>223728</td>\n",
       "    </tr>\n",
       "    <tr>\n",
       "      <th>2</th>\n",
       "      <td>2013</td>\n",
       "      <td>523002</td>\n",
       "    </tr>\n",
       "    <tr>\n",
       "      <th>3</th>\n",
       "      <td>2014</td>\n",
       "      <td>595254</td>\n",
       "    </tr>\n",
       "    <tr>\n",
       "      <th>4</th>\n",
       "      <td>2009</td>\n",
       "      <td>317222</td>\n",
       "    </tr>\n",
       "    <tr>\n",
       "      <th>5</th>\n",
       "      <td>2010</td>\n",
       "      <td>366843</td>\n",
       "    </tr>\n",
       "    <tr>\n",
       "      <th>6</th>\n",
       "      <td>2011</td>\n",
       "      <td>421909</td>\n",
       "    </tr>\n",
       "    <tr>\n",
       "      <th>7</th>\n",
       "      <td>2002</td>\n",
       "      <td>49926</td>\n",
       "    </tr>\n",
       "    <tr>\n",
       "      <th>8</th>\n",
       "      <td>2006</td>\n",
       "      <td>101090</td>\n",
       "    </tr>\n",
       "    <tr>\n",
       "      <th>9</th>\n",
       "      <td>2007</td>\n",
       "      <td>130669</td>\n",
       "    </tr>\n",
       "    <tr>\n",
       "      <th>10</th>\n",
       "      <td>1993</td>\n",
       "      <td>30515</td>\n",
       "    </tr>\n",
       "    <tr>\n",
       "      <th>11</th>\n",
       "      <td>1995</td>\n",
       "      <td>32379</td>\n",
       "    </tr>\n",
       "    <tr>\n",
       "      <th>12</th>\n",
       "      <td>2015</td>\n",
       "      <td>649185</td>\n",
       "    </tr>\n",
       "    <tr>\n",
       "      <th>13</th>\n",
       "      <td>2003</td>\n",
       "      <td>50182</td>\n",
       "    </tr>\n",
       "    <tr>\n",
       "      <th>14</th>\n",
       "      <td>2004</td>\n",
       "      <td>61363</td>\n",
       "    </tr>\n",
       "    <tr>\n",
       "      <th>15</th>\n",
       "      <td>2005</td>\n",
       "      <td>81137</td>\n",
       "    </tr>\n",
       "    <tr>\n",
       "      <th>16</th>\n",
       "      <td>2016</td>\n",
       "      <td>694527</td>\n",
       "    </tr>\n",
       "    <tr>\n",
       "      <th>17</th>\n",
       "      <td>1990</td>\n",
       "      <td>26602</td>\n",
       "    </tr>\n",
       "    <tr>\n",
       "      <th>18</th>\n",
       "      <td>2001</td>\n",
       "      <td>45626</td>\n",
       "    </tr>\n",
       "    <tr>\n",
       "      <th>19</th>\n",
       "      <td>1998</td>\n",
       "      <td>36519</td>\n",
       "    </tr>\n",
       "    <tr>\n",
       "      <th>20</th>\n",
       "      <td>1994</td>\n",
       "      <td>32482</td>\n",
       "    </tr>\n",
       "    <tr>\n",
       "      <th>21</th>\n",
       "      <td>1996</td>\n",
       "      <td>33551</td>\n",
       "    </tr>\n",
       "    <tr>\n",
       "      <th>22</th>\n",
       "      <td>1991</td>\n",
       "      <td>27942</td>\n",
       "    </tr>\n",
       "    <tr>\n",
       "      <th>23</th>\n",
       "      <td>1999</td>\n",
       "      <td>36681</td>\n",
       "    </tr>\n",
       "    <tr>\n",
       "      <th>24</th>\n",
       "      <td>2000</td>\n",
       "      <td>39512</td>\n",
       "    </tr>\n",
       "    <tr>\n",
       "      <th>25</th>\n",
       "      <td>2017</td>\n",
       "      <td>751465</td>\n",
       "    </tr>\n",
       "    <tr>\n",
       "      <th>26</th>\n",
       "      <td>1997</td>\n",
       "      <td>34733</td>\n",
       "    </tr>\n",
       "    <tr>\n",
       "      <th>27</th>\n",
       "      <td>1992</td>\n",
       "      <td>28279</td>\n",
       "    </tr>\n",
       "    <tr>\n",
       "      <th>28</th>\n",
       "      <td>2018</td>\n",
       "      <td>784327</td>\n",
       "    </tr>\n",
       "    <tr>\n",
       "      <th>29</th>\n",
       "      <td>2019</td>\n",
       "      <td>848092</td>\n",
       "    </tr>\n",
       "    <tr>\n",
       "      <th>30</th>\n",
       "      <td>2020</td>\n",
       "      <td>610813</td>\n",
       "    </tr>\n",
       "    <tr>\n",
       "      <th>31</th>\n",
       "      <td>2021</td>\n",
       "      <td>2284</td>\n",
       "    </tr>\n",
       "  </tbody>\n",
       "</table>\n",
       "</div>"
      ],
      "text/plain": [
       "    year  num_tokens\n",
       "0   2012      468397\n",
       "1   2008      223728\n",
       "2   2013      523002\n",
       "3   2014      595254\n",
       "4   2009      317222\n",
       "5   2010      366843\n",
       "6   2011      421909\n",
       "7   2002       49926\n",
       "8   2006      101090\n",
       "9   2007      130669\n",
       "10  1993       30515\n",
       "11  1995       32379\n",
       "12  2015      649185\n",
       "13  2003       50182\n",
       "14  2004       61363\n",
       "15  2005       81137\n",
       "16  2016      694527\n",
       "17  1990       26602\n",
       "18  2001       45626\n",
       "19  1998       36519\n",
       "20  1994       32482\n",
       "21  1996       33551\n",
       "22  1991       27942\n",
       "23  1999       36681\n",
       "24  2000       39512\n",
       "25  2017      751465\n",
       "26  1997       34733\n",
       "27  1992       28279\n",
       "28  2018      784327\n",
       "29  2019      848092\n",
       "30  2020      610813\n",
       "31  2021        2284"
      ]
     },
     "execution_count": 28,
     "metadata": {},
     "output_type": "execute_result"
    }
   ],
   "source": [
    "unique_token_df = pd.DataFrame.from_records(data_rows)\n",
    "unique_token_df"
   ]
  },
  {
   "cell_type": "code",
   "execution_count": 29,
   "metadata": {
    "ExecuteTime": {
     "end_time": "2021-03-24T18:25:04.702778Z",
     "start_time": "2021-03-24T18:25:03.862305Z"
    }
   },
   "outputs": [
    {
     "name": "stderr",
     "output_type": "stream",
     "text": [
      "/home/danich1/anaconda3/envs/biovectors/lib/python3.7/site-packages/plotnine/ggplot.py:729: PlotnineWarning: Saving 6.4 x 4.8 in image.\n",
      "/home/danich1/anaconda3/envs/biovectors/lib/python3.7/site-packages/plotnine/ggplot.py:730: PlotnineWarning: Filename: output/figures/post_1990_unique_tokens_abstracts.png\n"
     ]
    },
    {
     "data": {
      "image/png": "[encoded data removed]",
      "text/plain": [
       "<Figure size 640x480 with 1 Axes>"
      ]
     },
     "metadata": {},
     "output_type": "display_data"
    },
    {
     "name": "stdout",
     "output_type": "stream",
     "text": [
      "<ggplot: (-9223363302578703984)>\n"
     ]
    }
   ],
   "source": [
    "g = (\n",
    "    p9.ggplot(unique_token_df, p9.aes(x=\"year\", y=\"num_tokens\"))\n",
    "    + p9.geom_col(fill=\"#1f78b4\")\n",
    "    + p9.coord_flip()\n",
    "    + p9.labs(\n",
    "        title=\"Number of Abstract Tokens Available Post 1990\",\n",
    "        x=\"Year\",\n",
    "        y=\"# Unique Tokens\",\n",
    "    )\n",
    ")\n",
    "g.save(\"output/figures/post_1990_unique_tokens_abstracts.png\", dpi=500)\n",
    "print(g)"
   ]
  },
  {
   "cell_type": "markdown",
   "metadata": {},
   "source": [
    "## Shared tokens across years"
   ]
  },
  {
   "cell_type": "code",
   "execution_count": 30,
   "metadata": {
    "ExecuteTime": {
     "end_time": "2021-03-24T18:25:06.112304Z",
     "start_time": "2021-03-24T18:25:04.704233Z"
    }
   },
   "outputs": [],
   "source": [
    "data_rows = []\n",
    "reversed_tokens = list(sorted(tokens_by_year.keys()))[::-1]\n",
    "all_tokens = set(tokens_by_year[2021].keys()) | set(tokens_by_year[2020].keys())\n",
    "\n",
    "for query_year in reversed_tokens[1:]:\n",
    "    query_year_vocab_set = set(tokens_by_year[query_year].keys())\n",
    "    tokens_matched = all_tokens & query_year_vocab_set\n",
    "\n",
    "    data_rows.append(\n",
    "        {\n",
    "            \"years\": str(query_year) if query_year != 2020 else \"2020-21\",\n",
    "            \"percentage_tokens_mapped\": len(tokens_matched) / len(all_tokens),\n",
    "            \"num_tokens_matched\": len(tokens_matched),\n",
    "            \"num_tokens_total\": len(all_tokens),\n",
    "        }\n",
    "    )"
   ]
  },
  {
   "cell_type": "code",
   "execution_count": 31,
   "metadata": {
    "ExecuteTime": {
     "end_time": "2021-03-24T18:25:06.136938Z",
     "start_time": "2021-03-24T18:25:06.113506Z"
    }
   },
   "outputs": [
    {
     "data": {
      "text/html": [
       "<div>\n",
       "<style scoped>\n",
       "    .dataframe tbody tr th:only-of-type {\n",
       "        vertical-align: middle;\n",
       "    }\n",
       "\n",
       "    .dataframe tbody tr th {\n",
       "        vertical-align: top;\n",
       "    }\n",
       "\n",
       "    .dataframe thead th {\n",
       "        text-align: right;\n",
       "    }\n",
       "</style>\n",
       "<table border=\"1\" class=\"dataframe\">\n",
       "  <thead>\n",
       "    <tr style=\"text-align: right;\">\n",
       "      <th></th>\n",
       "      <th>years</th>\n",
       "      <th>percentage_tokens_mapped</th>\n",
       "      <th>num_tokens_matched</th>\n",
       "      <th>num_tokens_total</th>\n",
       "    </tr>\n",
       "  </thead>\n",
       "  <tbody>\n",
       "    <tr>\n",
       "      <th>0</th>\n",
       "      <td>2020-21</td>\n",
       "      <td>0.999902</td>\n",
       "      <td>610813</td>\n",
       "      <td>610873</td>\n",
       "    </tr>\n",
       "    <tr>\n",
       "      <th>1</th>\n",
       "      <td>2019</td>\n",
       "      <td>0.462802</td>\n",
       "      <td>282713</td>\n",
       "      <td>610873</td>\n",
       "    </tr>\n",
       "    <tr>\n",
       "      <th>2</th>\n",
       "      <td>2018</td>\n",
       "      <td>0.438325</td>\n",
       "      <td>267761</td>\n",
       "      <td>610873</td>\n",
       "    </tr>\n",
       "    <tr>\n",
       "      <th>3</th>\n",
       "      <td>2017</td>\n",
       "      <td>0.424186</td>\n",
       "      <td>259124</td>\n",
       "      <td>610873</td>\n",
       "    </tr>\n",
       "    <tr>\n",
       "      <th>4</th>\n",
       "      <td>2016</td>\n",
       "      <td>0.404197</td>\n",
       "      <td>246913</td>\n",
       "      <td>610873</td>\n",
       "    </tr>\n",
       "    <tr>\n",
       "      <th>5</th>\n",
       "      <td>2015</td>\n",
       "      <td>0.387955</td>\n",
       "      <td>236991</td>\n",
       "      <td>610873</td>\n",
       "    </tr>\n",
       "    <tr>\n",
       "      <th>6</th>\n",
       "      <td>2014</td>\n",
       "      <td>0.369147</td>\n",
       "      <td>225502</td>\n",
       "      <td>610873</td>\n",
       "    </tr>\n",
       "    <tr>\n",
       "      <th>7</th>\n",
       "      <td>2013</td>\n",
       "      <td>0.341700</td>\n",
       "      <td>208735</td>\n",
       "      <td>610873</td>\n",
       "    </tr>\n",
       "    <tr>\n",
       "      <th>8</th>\n",
       "      <td>2012</td>\n",
       "      <td>0.315814</td>\n",
       "      <td>192922</td>\n",
       "      <td>610873</td>\n",
       "    </tr>\n",
       "    <tr>\n",
       "      <th>9</th>\n",
       "      <td>2011</td>\n",
       "      <td>0.293285</td>\n",
       "      <td>179160</td>\n",
       "      <td>610873</td>\n",
       "    </tr>\n",
       "    <tr>\n",
       "      <th>10</th>\n",
       "      <td>2010</td>\n",
       "      <td>0.267740</td>\n",
       "      <td>163555</td>\n",
       "      <td>610873</td>\n",
       "    </tr>\n",
       "    <tr>\n",
       "      <th>11</th>\n",
       "      <td>2009</td>\n",
       "      <td>0.242001</td>\n",
       "      <td>147832</td>\n",
       "      <td>610873</td>\n",
       "    </tr>\n",
       "    <tr>\n",
       "      <th>12</th>\n",
       "      <td>2008</td>\n",
       "      <td>0.192989</td>\n",
       "      <td>117892</td>\n",
       "      <td>610873</td>\n",
       "    </tr>\n",
       "    <tr>\n",
       "      <th>13</th>\n",
       "      <td>2007</td>\n",
       "      <td>0.135557</td>\n",
       "      <td>82808</td>\n",
       "      <td>610873</td>\n",
       "    </tr>\n",
       "    <tr>\n",
       "      <th>14</th>\n",
       "      <td>2006</td>\n",
       "      <td>0.111588</td>\n",
       "      <td>68166</td>\n",
       "      <td>610873</td>\n",
       "    </tr>\n",
       "    <tr>\n",
       "      <th>15</th>\n",
       "      <td>2005</td>\n",
       "      <td>0.092820</td>\n",
       "      <td>56701</td>\n",
       "      <td>610873</td>\n",
       "    </tr>\n",
       "    <tr>\n",
       "      <th>16</th>\n",
       "      <td>2004</td>\n",
       "      <td>0.074376</td>\n",
       "      <td>45434</td>\n",
       "      <td>610873</td>\n",
       "    </tr>\n",
       "    <tr>\n",
       "      <th>17</th>\n",
       "      <td>2003</td>\n",
       "      <td>0.061720</td>\n",
       "      <td>37703</td>\n",
       "      <td>610873</td>\n",
       "    </tr>\n",
       "    <tr>\n",
       "      <th>18</th>\n",
       "      <td>2002</td>\n",
       "      <td>0.060214</td>\n",
       "      <td>36783</td>\n",
       "      <td>610873</td>\n",
       "    </tr>\n",
       "    <tr>\n",
       "      <th>19</th>\n",
       "      <td>2001</td>\n",
       "      <td>0.055458</td>\n",
       "      <td>33878</td>\n",
       "      <td>610873</td>\n",
       "    </tr>\n",
       "    <tr>\n",
       "      <th>20</th>\n",
       "      <td>2000</td>\n",
       "      <td>0.047948</td>\n",
       "      <td>29290</td>\n",
       "      <td>610873</td>\n",
       "    </tr>\n",
       "    <tr>\n",
       "      <th>21</th>\n",
       "      <td>1999</td>\n",
       "      <td>0.044684</td>\n",
       "      <td>27296</td>\n",
       "      <td>610873</td>\n",
       "    </tr>\n",
       "    <tr>\n",
       "      <th>22</th>\n",
       "      <td>1998</td>\n",
       "      <td>0.043474</td>\n",
       "      <td>26557</td>\n",
       "      <td>610873</td>\n",
       "    </tr>\n",
       "    <tr>\n",
       "      <th>23</th>\n",
       "      <td>1997</td>\n",
       "      <td>0.041524</td>\n",
       "      <td>25366</td>\n",
       "      <td>610873</td>\n",
       "    </tr>\n",
       "    <tr>\n",
       "      <th>24</th>\n",
       "      <td>1996</td>\n",
       "      <td>0.040175</td>\n",
       "      <td>24542</td>\n",
       "      <td>610873</td>\n",
       "    </tr>\n",
       "    <tr>\n",
       "      <th>25</th>\n",
       "      <td>1995</td>\n",
       "      <td>0.039236</td>\n",
       "      <td>23968</td>\n",
       "      <td>610873</td>\n",
       "    </tr>\n",
       "    <tr>\n",
       "      <th>26</th>\n",
       "      <td>1994</td>\n",
       "      <td>0.038566</td>\n",
       "      <td>23559</td>\n",
       "      <td>610873</td>\n",
       "    </tr>\n",
       "    <tr>\n",
       "      <th>27</th>\n",
       "      <td>1993</td>\n",
       "      <td>0.036780</td>\n",
       "      <td>22468</td>\n",
       "      <td>610873</td>\n",
       "    </tr>\n",
       "    <tr>\n",
       "      <th>28</th>\n",
       "      <td>1992</td>\n",
       "      <td>0.034009</td>\n",
       "      <td>20775</td>\n",
       "      <td>610873</td>\n",
       "    </tr>\n",
       "    <tr>\n",
       "      <th>29</th>\n",
       "      <td>1991</td>\n",
       "      <td>0.034256</td>\n",
       "      <td>20926</td>\n",
       "      <td>610873</td>\n",
       "    </tr>\n",
       "    <tr>\n",
       "      <th>30</th>\n",
       "      <td>1990</td>\n",
       "      <td>0.032729</td>\n",
       "      <td>19993</td>\n",
       "      <td>610873</td>\n",
       "    </tr>\n",
       "  </tbody>\n",
       "</table>\n",
       "</div>"
      ],
      "text/plain": [
       "      years  percentage_tokens_mapped  num_tokens_matched  num_tokens_total\n",
       "0   2020-21                  0.999902              610813            610873\n",
       "1      2019                  0.462802              282713            610873\n",
       "2      2018                  0.438325              267761            610873\n",
       "3      2017                  0.424186              259124            610873\n",
       "4      2016                  0.404197              246913            610873\n",
       "5      2015                  0.387955              236991            610873\n",
       "6      2014                  0.369147              225502            610873\n",
       "7      2013                  0.341700              208735            610873\n",
       "8      2012                  0.315814              192922            610873\n",
       "9      2011                  0.293285              179160            610873\n",
       "10     2010                  0.267740              163555            610873\n",
       "11     2009                  0.242001              147832            610873\n",
       "12     2008                  0.192989              117892            610873\n",
       "13     2007                  0.135557               82808            610873\n",
       "14     2006                  0.111588               68166            610873\n",
       "15     2005                  0.092820               56701            610873\n",
       "16     2004                  0.074376               45434            610873\n",
       "17     2003                  0.061720               37703            610873\n",
       "18     2002                  0.060214               36783            610873\n",
       "19     2001                  0.055458               33878            610873\n",
       "20     2000                  0.047948               29290            610873\n",
       "21     1999                  0.044684               27296            610873\n",
       "22     1998                  0.043474               26557            610873\n",
       "23     1997                  0.041524               25366            610873\n",
       "24     1996                  0.040175               24542            610873\n",
       "25     1995                  0.039236               23968            610873\n",
       "26     1994                  0.038566               23559            610873\n",
       "27     1993                  0.036780               22468            610873\n",
       "28     1992                  0.034009               20775            610873\n",
       "29     1991                  0.034256               20926            610873\n",
       "30     1990                  0.032729               19993            610873"
      ]
     },
     "execution_count": 31,
     "metadata": {},
     "output_type": "execute_result"
    }
   ],
   "source": [
    "token_overlap_df = pd.DataFrame.from_dict(data_rows)\n",
    "token_overlap_df"
   ]
  },
  {
   "cell_type": "code",
   "execution_count": 32,
   "metadata": {
    "ExecuteTime": {
     "end_time": "2021-03-24T18:25:07.278978Z",
     "start_time": "2021-03-24T18:25:06.138245Z"
    }
   },
   "outputs": [
    {
     "name": "stderr",
     "output_type": "stream",
     "text": [
      "/home/danich1/anaconda3/envs/biovectors/lib/python3.7/site-packages/plotnine/ggplot.py:729: PlotnineWarning: Saving 6.4 x 4.8 in image.\n",
      "/home/danich1/anaconda3/envs/biovectors/lib/python3.7/site-packages/plotnine/ggplot.py:730: PlotnineWarning: Filename: output/figures/tokens_overlap_with_2020-21_abstracts.png\n"
     ]
    },
    {
     "data": {
      "image/png": "[encoded data removed]",
      "text/plain": [
       "<Figure size 640x480 with 1 Axes>"
      ]
     },
     "metadata": {},
     "output_type": "display_data"
    },
    {
     "name": "stdout",
     "output_type": "stream",
     "text": [
      "<ggplot: (8734328893360)>\n"
     ]
    }
   ],
   "source": [
    "g = (\n",
    "    p9.ggplot(\n",
    "        token_overlap_df.iloc[1:, :], p9.aes(x=\"years\", y=\"percentage_tokens_mapped\")\n",
    "    )\n",
    "    + p9.geom_col(fill=\"#1f78b4\")\n",
    "    + p9.coord_flip()\n",
    "    + p9.labs(\n",
    "        title=\"Token Overlap with 2020-2021 Abstracts\",\n",
    "        x=\"Year\",\n",
    "        y=\"% Tokens Overlapped\",\n",
    "    )\n",
    ")\n",
    "g.save(\"output/figures/tokens_overlap_with_2020-21_abstracts.png\", dpi=500)\n",
    "print(g)"
   ]
  },
  {
   "cell_type": "markdown",
   "metadata": {},
   "source": [
    "# Shared Tokens Across Time - Full Text Only"
   ]
  },
  {
   "cell_type": "markdown",
   "metadata": {},
   "source": [
    "Grab sentences within the full text documents"
   ]
  },
  {
   "cell_type": "code",
   "execution_count": 33,
   "metadata": {
    "ExecuteTime": {
     "end_time": "2021-03-24T18:25:07.296354Z",
     "start_time": "2021-03-24T18:25:07.280198Z"
    }
   },
   "outputs": [],
   "source": [
    "tokens_by_year_full_text = defaultdict(Counter)\n",
    "sentence_iterator = PubMedSentencesIterator(\n",
    "    pubtator_abstract_batch,\n",
    "    section_filter=[\"INTRO\", \"METHODS\", \"RESULTS\", \"DISCUSS\", \"CONCL\", \"SUPPL\"],\n",
    "    year_filter=list(range(1990, datetime.now().year + 1, 1)),\n",
    "    return_year=True,\n",
    "    jobs=3,\n",
    ")"
   ]
  },
  {
   "cell_type": "code",
   "execution_count": 34,
   "metadata": {
    "ExecuteTime": {
     "end_time": "2021-03-24T18:25:07.314210Z",
     "start_time": "2021-03-24T18:25:07.298075Z"
    }
   },
   "outputs": [],
   "source": [
    "if not Path(\"output/unique_tokens_by_year_full_text.pkl\").exists():\n",
    "    for year, sentence in tqdm.tqdm(sentence_iterator):\n",
    "        tokens_by_year_full_text[year].update(Counter(sentence))"
   ]
  },
  {
   "cell_type": "code",
   "execution_count": 35,
   "metadata": {
    "ExecuteTime": {
     "end_time": "2021-03-24T18:25:29.159026Z",
     "start_time": "2021-03-24T18:25:07.315451Z"
    }
   },
   "outputs": [],
   "source": [
    "if not Path(\"output/unique_tokens_by_year_full_text.pkl\").exists():\n",
    "    pickle.dump(\n",
    "        tokens_by_year_full_text,\n",
    "        open(\"output/unique_tokens_by_year_full_text.pkl\", \"wb\"),\n",
    "    )\n",
    "else:\n",
    "    tokens_by_year_full_text = pickle.load(\n",
    "        open(\"output/unique_tokens_by_year_full_text.pkl\", \"rb\")\n",
    "    )"
   ]
  },
  {
   "cell_type": "markdown",
   "metadata": {},
   "source": [
    "## Unique Tokens Available per Year"
   ]
  },
  {
   "cell_type": "code",
   "execution_count": 36,
   "metadata": {
    "ExecuteTime": {
     "end_time": "2021-03-24T18:25:29.176024Z",
     "start_time": "2021-03-24T18:25:29.160198Z"
    }
   },
   "outputs": [],
   "source": [
    "data_rows = []\n",
    "\n",
    "for query_year in tokens_by_year_full_text:\n",
    "\n",
    "    data_rows.append(\n",
    "        {\n",
    "            \"year\": query_year,\n",
    "            \"num_tokens\": len(tokens_by_year_full_text[query_year]),\n",
    "        }\n",
    "    )"
   ]
  },
  {
   "cell_type": "code",
   "execution_count": 37,
   "metadata": {
    "ExecuteTime": {
     "end_time": "2021-03-24T18:25:29.249907Z",
     "start_time": "2021-03-24T18:25:29.177228Z"
    }
   },
   "outputs": [
    {
     "data": {
      "text/html": [
       "<div>\n",
       "<style scoped>\n",
       "    .dataframe tbody tr th:only-of-type {\n",
       "        vertical-align: middle;\n",
       "    }\n",
       "\n",
       "    .dataframe tbody tr th {\n",
       "        vertical-align: top;\n",
       "    }\n",
       "\n",
       "    .dataframe thead th {\n",
       "        text-align: right;\n",
       "    }\n",
       "</style>\n",
       "<table border=\"1\" class=\"dataframe\">\n",
       "  <thead>\n",
       "    <tr style=\"text-align: right;\">\n",
       "      <th></th>\n",
       "      <th>year</th>\n",
       "      <th>num_tokens</th>\n",
       "    </tr>\n",
       "  </thead>\n",
       "  <tbody>\n",
       "    <tr>\n",
       "      <th>0</th>\n",
       "      <td>2007</td>\n",
       "      <td>720135</td>\n",
       "    </tr>\n",
       "    <tr>\n",
       "      <th>1</th>\n",
       "      <td>2001</td>\n",
       "      <td>146851</td>\n",
       "    </tr>\n",
       "    <tr>\n",
       "      <th>2</th>\n",
       "      <td>2002</td>\n",
       "      <td>181871</td>\n",
       "    </tr>\n",
       "    <tr>\n",
       "      <th>3</th>\n",
       "      <td>2009</td>\n",
       "      <td>1965720</td>\n",
       "    </tr>\n",
       "    <tr>\n",
       "      <th>4</th>\n",
       "      <td>2008</td>\n",
       "      <td>1307421</td>\n",
       "    </tr>\n",
       "    <tr>\n",
       "      <th>5</th>\n",
       "      <td>2010</td>\n",
       "      <td>2292841</td>\n",
       "    </tr>\n",
       "    <tr>\n",
       "      <th>6</th>\n",
       "      <td>2013</td>\n",
       "      <td>3346293</td>\n",
       "    </tr>\n",
       "    <tr>\n",
       "      <th>7</th>\n",
       "      <td>2012</td>\n",
       "      <td>2987080</td>\n",
       "    </tr>\n",
       "    <tr>\n",
       "      <th>8</th>\n",
       "      <td>2014</td>\n",
       "      <td>3844484</td>\n",
       "    </tr>\n",
       "    <tr>\n",
       "      <th>9</th>\n",
       "      <td>2011</td>\n",
       "      <td>2681159</td>\n",
       "    </tr>\n",
       "    <tr>\n",
       "      <th>10</th>\n",
       "      <td>2006</td>\n",
       "      <td>525387</td>\n",
       "    </tr>\n",
       "    <tr>\n",
       "      <th>11</th>\n",
       "      <td>1997</td>\n",
       "      <td>98779</td>\n",
       "    </tr>\n",
       "    <tr>\n",
       "      <th>12</th>\n",
       "      <td>1998</td>\n",
       "      <td>104213</td>\n",
       "    </tr>\n",
       "    <tr>\n",
       "      <th>13</th>\n",
       "      <td>2003</td>\n",
       "      <td>218702</td>\n",
       "    </tr>\n",
       "    <tr>\n",
       "      <th>14</th>\n",
       "      <td>2015</td>\n",
       "      <td>4237847</td>\n",
       "    </tr>\n",
       "    <tr>\n",
       "      <th>15</th>\n",
       "      <td>2005</td>\n",
       "      <td>410754</td>\n",
       "    </tr>\n",
       "    <tr>\n",
       "      <th>16</th>\n",
       "      <td>2016</td>\n",
       "      <td>4672190</td>\n",
       "    </tr>\n",
       "    <tr>\n",
       "      <th>17</th>\n",
       "      <td>2017</td>\n",
       "      <td>5138128</td>\n",
       "    </tr>\n",
       "    <tr>\n",
       "      <th>18</th>\n",
       "      <td>1991</td>\n",
       "      <td>17499</td>\n",
       "    </tr>\n",
       "    <tr>\n",
       "      <th>19</th>\n",
       "      <td>1995</td>\n",
       "      <td>26994</td>\n",
       "    </tr>\n",
       "    <tr>\n",
       "      <th>20</th>\n",
       "      <td>2000</td>\n",
       "      <td>128107</td>\n",
       "    </tr>\n",
       "    <tr>\n",
       "      <th>21</th>\n",
       "      <td>2004</td>\n",
       "      <td>296811</td>\n",
       "    </tr>\n",
       "    <tr>\n",
       "      <th>22</th>\n",
       "      <td>1999</td>\n",
       "      <td>106595</td>\n",
       "    </tr>\n",
       "    <tr>\n",
       "      <th>23</th>\n",
       "      <td>2018</td>\n",
       "      <td>5457042</td>\n",
       "    </tr>\n",
       "    <tr>\n",
       "      <th>24</th>\n",
       "      <td>1996</td>\n",
       "      <td>33894</td>\n",
       "    </tr>\n",
       "    <tr>\n",
       "      <th>25</th>\n",
       "      <td>2019</td>\n",
       "      <td>5988220</td>\n",
       "    </tr>\n",
       "    <tr>\n",
       "      <th>26</th>\n",
       "      <td>2020</td>\n",
       "      <td>4431068</td>\n",
       "    </tr>\n",
       "    <tr>\n",
       "      <th>27</th>\n",
       "      <td>2021</td>\n",
       "      <td>10297</td>\n",
       "    </tr>\n",
       "    <tr>\n",
       "      <th>28</th>\n",
       "      <td>1992</td>\n",
       "      <td>18449</td>\n",
       "    </tr>\n",
       "    <tr>\n",
       "      <th>29</th>\n",
       "      <td>1990</td>\n",
       "      <td>21312</td>\n",
       "    </tr>\n",
       "    <tr>\n",
       "      <th>30</th>\n",
       "      <td>1994</td>\n",
       "      <td>19380</td>\n",
       "    </tr>\n",
       "    <tr>\n",
       "      <th>31</th>\n",
       "      <td>1993</td>\n",
       "      <td>20752</td>\n",
       "    </tr>\n",
       "  </tbody>\n",
       "</table>\n",
       "</div>"
      ],
      "text/plain": [
       "    year  num_tokens\n",
       "0   2007      720135\n",
       "1   2001      146851\n",
       "2   2002      181871\n",
       "3   2009     1965720\n",
       "4   2008     1307421\n",
       "5   2010     2292841\n",
       "6   2013     3346293\n",
       "7   2012     2987080\n",
       "8   2014     3844484\n",
       "9   2011     2681159\n",
       "10  2006      525387\n",
       "11  1997       98779\n",
       "12  1998      104213\n",
       "13  2003      218702\n",
       "14  2015     4237847\n",
       "15  2005      410754\n",
       "16  2016     4672190\n",
       "17  2017     5138128\n",
       "18  1991       17499\n",
       "19  1995       26994\n",
       "20  2000      128107\n",
       "21  2004      296811\n",
       "22  1999      106595\n",
       "23  2018     5457042\n",
       "24  1996       33894\n",
       "25  2019     5988220\n",
       "26  2020     4431068\n",
       "27  2021       10297\n",
       "28  1992       18449\n",
       "29  1990       21312\n",
       "30  1994       19380\n",
       "31  1993       20752"
      ]
     },
     "execution_count": 37,
     "metadata": {},
     "output_type": "execute_result"
    }
   ],
   "source": [
    "unique_token_full_text_df = pd.DataFrame.from_records(data_rows)\n",
    "unique_token_full_text_df"
   ]
  },
  {
   "cell_type": "code",
   "execution_count": 38,
   "metadata": {
    "ExecuteTime": {
     "end_time": "2021-03-24T18:25:30.476102Z",
     "start_time": "2021-03-24T18:25:29.254786Z"
    }
   },
   "outputs": [
    {
     "name": "stderr",
     "output_type": "stream",
     "text": [
      "/home/danich1/anaconda3/envs/biovectors/lib/python3.7/site-packages/plotnine/ggplot.py:729: PlotnineWarning: Saving 6.4 x 4.8 in image.\n",
      "/home/danich1/anaconda3/envs/biovectors/lib/python3.7/site-packages/plotnine/ggplot.py:730: PlotnineWarning: Filename: output/figures/post_1990_unique_tokens_full_text.png\n"
     ]
    },
    {
     "data": {
      "image/png": "[encoded data removed]",
      "text/plain": [
       "<Figure size 640x480 with 1 Axes>"
      ]
     },
     "metadata": {},
     "output_type": "display_data"
    },
    {
     "name": "stdout",
     "output_type": "stream",
     "text": [
      "<ggplot: (-9223363303185081968)>\n"
     ]
    }
   ],
   "source": [
    "g = (\n",
    "    p9.ggplot(unique_token_full_text_df, p9.aes(x=\"year\", y=\"num_tokens\"))\n",
    "    + p9.geom_col(fill=\"#1f78b4\")\n",
    "    + p9.coord_flip()\n",
    "    + p9.labs(\n",
    "        title=\"Number of Full Text Tokens Available Post 1990\",\n",
    "        x=\"Year\",\n",
    "        y=\"# Unique Tokens\",\n",
    "    )\n",
    ")\n",
    "g.save(\"output/figures/post_1990_unique_tokens_full_text.png\", dpi=500)\n",
    "print(g)"
   ]
  },
  {
   "cell_type": "markdown",
   "metadata": {},
   "source": [
    "## Shared tokens across years"
   ]
  },
  {
   "cell_type": "code",
   "execution_count": 39,
   "metadata": {
    "ExecuteTime": {
     "end_time": "2021-03-24T18:25:41.629924Z",
     "start_time": "2021-03-24T18:25:30.477377Z"
    }
   },
   "outputs": [],
   "source": [
    "data_rows = []\n",
    "reversed_tokens = list(sorted(tokens_by_year_full_text.keys()))[::-1]\n",
    "all_tokens = set(tokens_by_year_full_text[2021].keys()) | set(\n",
    "    tokens_by_year_full_text[2020].keys()\n",
    ")\n",
    "\n",
    "for query_year in reversed_tokens[1:]:\n",
    "    query_year_vocab_set = set(tokens_by_year_full_text[query_year].keys())\n",
    "    tokens_matched = all_tokens & query_year_vocab_set\n",
    "\n",
    "    data_rows.append(\n",
    "        {\n",
    "            \"years\": str(query_year) if query_year != 2020 else \"2020-21\",\n",
    "            \"percentage_tokens_mapped\": len(tokens_matched) / len(all_tokens),\n",
    "            \"num_tokens_matched\": len(tokens_matched),\n",
    "            \"num_tokens_total\": len(all_tokens),\n",
    "        }\n",
    "    )"
   ]
  },
  {
   "cell_type": "code",
   "execution_count": 40,
   "metadata": {
    "ExecuteTime": {
     "end_time": "2021-03-24T18:25:41.653673Z",
     "start_time": "2021-03-24T18:25:41.631160Z"
    }
   },
   "outputs": [
    {
     "data": {
      "text/html": [
       "<div>\n",
       "<style scoped>\n",
       "    .dataframe tbody tr th:only-of-type {\n",
       "        vertical-align: middle;\n",
       "    }\n",
       "\n",
       "    .dataframe tbody tr th {\n",
       "        vertical-align: top;\n",
       "    }\n",
       "\n",
       "    .dataframe thead th {\n",
       "        text-align: right;\n",
       "    }\n",
       "</style>\n",
       "<table border=\"1\" class=\"dataframe\">\n",
       "  <thead>\n",
       "    <tr style=\"text-align: right;\">\n",
       "      <th></th>\n",
       "      <th>years</th>\n",
       "      <th>percentage_tokens_mapped</th>\n",
       "      <th>num_tokens_matched</th>\n",
       "      <th>num_tokens_total</th>\n",
       "    </tr>\n",
       "  </thead>\n",
       "  <tbody>\n",
       "    <tr>\n",
       "      <th>0</th>\n",
       "      <td>2020-21</td>\n",
       "      <td>0.999929</td>\n",
       "      <td>4431068</td>\n",
       "      <td>4431381</td>\n",
       "    </tr>\n",
       "    <tr>\n",
       "      <th>1</th>\n",
       "      <td>2019</td>\n",
       "      <td>0.408806</td>\n",
       "      <td>1811576</td>\n",
       "      <td>4431381</td>\n",
       "    </tr>\n",
       "    <tr>\n",
       "      <th>2</th>\n",
       "      <td>2018</td>\n",
       "      <td>0.384265</td>\n",
       "      <td>1702823</td>\n",
       "      <td>4431381</td>\n",
       "    </tr>\n",
       "    <tr>\n",
       "      <th>3</th>\n",
       "      <td>2017</td>\n",
       "      <td>0.366162</td>\n",
       "      <td>1622602</td>\n",
       "      <td>4431381</td>\n",
       "    </tr>\n",
       "    <tr>\n",
       "      <th>4</th>\n",
       "      <td>2016</td>\n",
       "      <td>0.342013</td>\n",
       "      <td>1515589</td>\n",
       "      <td>4431381</td>\n",
       "    </tr>\n",
       "    <tr>\n",
       "      <th>5</th>\n",
       "      <td>2015</td>\n",
       "      <td>0.321271</td>\n",
       "      <td>1423675</td>\n",
       "      <td>4431381</td>\n",
       "    </tr>\n",
       "    <tr>\n",
       "      <th>6</th>\n",
       "      <td>2014</td>\n",
       "      <td>0.300480</td>\n",
       "      <td>1331543</td>\n",
       "      <td>4431381</td>\n",
       "    </tr>\n",
       "    <tr>\n",
       "      <th>7</th>\n",
       "      <td>2013</td>\n",
       "      <td>0.274494</td>\n",
       "      <td>1216387</td>\n",
       "      <td>4431381</td>\n",
       "    </tr>\n",
       "    <tr>\n",
       "      <th>8</th>\n",
       "      <td>2012</td>\n",
       "      <td>0.251652</td>\n",
       "      <td>1115168</td>\n",
       "      <td>4431381</td>\n",
       "    </tr>\n",
       "    <tr>\n",
       "      <th>9</th>\n",
       "      <td>2011</td>\n",
       "      <td>0.232720</td>\n",
       "      <td>1031269</td>\n",
       "      <td>4431381</td>\n",
       "    </tr>\n",
       "    <tr>\n",
       "      <th>10</th>\n",
       "      <td>2010</td>\n",
       "      <td>0.210332</td>\n",
       "      <td>932061</td>\n",
       "      <td>4431381</td>\n",
       "    </tr>\n",
       "    <tr>\n",
       "      <th>11</th>\n",
       "      <td>2009</td>\n",
       "      <td>0.187637</td>\n",
       "      <td>831492</td>\n",
       "      <td>4431381</td>\n",
       "    </tr>\n",
       "    <tr>\n",
       "      <th>12</th>\n",
       "      <td>2008</td>\n",
       "      <td>0.144771</td>\n",
       "      <td>641534</td>\n",
       "      <td>4431381</td>\n",
       "    </tr>\n",
       "    <tr>\n",
       "      <th>13</th>\n",
       "      <td>2007</td>\n",
       "      <td>0.094575</td>\n",
       "      <td>419100</td>\n",
       "      <td>4431381</td>\n",
       "    </tr>\n",
       "    <tr>\n",
       "      <th>14</th>\n",
       "      <td>2006</td>\n",
       "      <td>0.074452</td>\n",
       "      <td>329926</td>\n",
       "      <td>4431381</td>\n",
       "    </tr>\n",
       "    <tr>\n",
       "      <th>15</th>\n",
       "      <td>2005</td>\n",
       "      <td>0.060976</td>\n",
       "      <td>270208</td>\n",
       "      <td>4431381</td>\n",
       "    </tr>\n",
       "    <tr>\n",
       "      <th>16</th>\n",
       "      <td>2004</td>\n",
       "      <td>0.047340</td>\n",
       "      <td>209782</td>\n",
       "      <td>4431381</td>\n",
       "    </tr>\n",
       "    <tr>\n",
       "      <th>17</th>\n",
       "      <td>2003</td>\n",
       "      <td>0.036457</td>\n",
       "      <td>161555</td>\n",
       "      <td>4431381</td>\n",
       "    </tr>\n",
       "    <tr>\n",
       "      <th>18</th>\n",
       "      <td>2002</td>\n",
       "      <td>0.030580</td>\n",
       "      <td>135510</td>\n",
       "      <td>4431381</td>\n",
       "    </tr>\n",
       "    <tr>\n",
       "      <th>19</th>\n",
       "      <td>2001</td>\n",
       "      <td>0.025230</td>\n",
       "      <td>111804</td>\n",
       "      <td>4431381</td>\n",
       "    </tr>\n",
       "    <tr>\n",
       "      <th>20</th>\n",
       "      <td>2000</td>\n",
       "      <td>0.022199</td>\n",
       "      <td>98372</td>\n",
       "      <td>4431381</td>\n",
       "    </tr>\n",
       "    <tr>\n",
       "      <th>21</th>\n",
       "      <td>1999</td>\n",
       "      <td>0.018658</td>\n",
       "      <td>82679</td>\n",
       "      <td>4431381</td>\n",
       "    </tr>\n",
       "    <tr>\n",
       "      <th>22</th>\n",
       "      <td>1998</td>\n",
       "      <td>0.017743</td>\n",
       "      <td>78626</td>\n",
       "      <td>4431381</td>\n",
       "    </tr>\n",
       "    <tr>\n",
       "      <th>23</th>\n",
       "      <td>1997</td>\n",
       "      <td>0.016831</td>\n",
       "      <td>74586</td>\n",
       "      <td>4431381</td>\n",
       "    </tr>\n",
       "    <tr>\n",
       "      <th>24</th>\n",
       "      <td>1996</td>\n",
       "      <td>0.006815</td>\n",
       "      <td>30200</td>\n",
       "      <td>4431381</td>\n",
       "    </tr>\n",
       "    <tr>\n",
       "      <th>25</th>\n",
       "      <td>1995</td>\n",
       "      <td>0.005509</td>\n",
       "      <td>24412</td>\n",
       "      <td>4431381</td>\n",
       "    </tr>\n",
       "    <tr>\n",
       "      <th>26</th>\n",
       "      <td>1994</td>\n",
       "      <td>0.004011</td>\n",
       "      <td>17774</td>\n",
       "      <td>4431381</td>\n",
       "    </tr>\n",
       "    <tr>\n",
       "      <th>27</th>\n",
       "      <td>1993</td>\n",
       "      <td>0.004237</td>\n",
       "      <td>18777</td>\n",
       "      <td>4431381</td>\n",
       "    </tr>\n",
       "    <tr>\n",
       "      <th>28</th>\n",
       "      <td>1992</td>\n",
       "      <td>0.003863</td>\n",
       "      <td>17118</td>\n",
       "      <td>4431381</td>\n",
       "    </tr>\n",
       "    <tr>\n",
       "      <th>29</th>\n",
       "      <td>1991</td>\n",
       "      <td>0.003648</td>\n",
       "      <td>16167</td>\n",
       "      <td>4431381</td>\n",
       "    </tr>\n",
       "    <tr>\n",
       "      <th>30</th>\n",
       "      <td>1990</td>\n",
       "      <td>0.004333</td>\n",
       "      <td>19199</td>\n",
       "      <td>4431381</td>\n",
       "    </tr>\n",
       "  </tbody>\n",
       "</table>\n",
       "</div>"
      ],
      "text/plain": [
       "      years  percentage_tokens_mapped  num_tokens_matched  num_tokens_total\n",
       "0   2020-21                  0.999929             4431068           4431381\n",
       "1      2019                  0.408806             1811576           4431381\n",
       "2      2018                  0.384265             1702823           4431381\n",
       "3      2017                  0.366162             1622602           4431381\n",
       "4      2016                  0.342013             1515589           4431381\n",
       "5      2015                  0.321271             1423675           4431381\n",
       "6      2014                  0.300480             1331543           4431381\n",
       "7      2013                  0.274494             1216387           4431381\n",
       "8      2012                  0.251652             1115168           4431381\n",
       "9      2011                  0.232720             1031269           4431381\n",
       "10     2010                  0.210332              932061           4431381\n",
       "11     2009                  0.187637              831492           4431381\n",
       "12     2008                  0.144771              641534           4431381\n",
       "13     2007                  0.094575              419100           4431381\n",
       "14     2006                  0.074452              329926           4431381\n",
       "15     2005                  0.060976              270208           4431381\n",
       "16     2004                  0.047340              209782           4431381\n",
       "17     2003                  0.036457              161555           4431381\n",
       "18     2002                  0.030580              135510           4431381\n",
       "19     2001                  0.025230              111804           4431381\n",
       "20     2000                  0.022199               98372           4431381\n",
       "21     1999                  0.018658               82679           4431381\n",
       "22     1998                  0.017743               78626           4431381\n",
       "23     1997                  0.016831               74586           4431381\n",
       "24     1996                  0.006815               30200           4431381\n",
       "25     1995                  0.005509               24412           4431381\n",
       "26     1994                  0.004011               17774           4431381\n",
       "27     1993                  0.004237               18777           4431381\n",
       "28     1992                  0.003863               17118           4431381\n",
       "29     1991                  0.003648               16167           4431381\n",
       "30     1990                  0.004333               19199           4431381"
      ]
     },
     "execution_count": 40,
     "metadata": {},
     "output_type": "execute_result"
    }
   ],
   "source": [
    "token_overlap_full_text_df = pd.DataFrame.from_dict(data_rows)\n",
    "token_overlap_full_text_df"
   ]
  },
  {
   "cell_type": "code",
   "execution_count": 41,
   "metadata": {
    "ExecuteTime": {
     "end_time": "2021-03-24T18:25:43.148106Z",
     "start_time": "2021-03-24T18:25:41.654918Z"
    }
   },
   "outputs": [
    {
     "name": "stderr",
     "output_type": "stream",
     "text": [
      "/home/danich1/anaconda3/envs/biovectors/lib/python3.7/site-packages/plotnine/ggplot.py:729: PlotnineWarning: Saving 6.4 x 4.8 in image.\n",
      "/home/danich1/anaconda3/envs/biovectors/lib/python3.7/site-packages/plotnine/ggplot.py:730: PlotnineWarning: Filename: output/figures/tokens_overlap_with_2020-21_full_text.png\n"
     ]
    },
    {
     "data": {
      "image/png": "[encoded data removed]",
      "text/plain": [
       "<Figure size 640x480 with 1 Axes>"
      ]
     },
     "metadata": {},
     "output_type": "display_data"
    },
    {
     "name": "stdout",
     "output_type": "stream",
     "text": [
      "<ggplot: (8734309522510)>\n"
     ]
    }
   ],
   "source": [
    "g = (\n",
    "    p9.ggplot(\n",
    "        token_overlap_full_text_df.iloc[1:, :],\n",
    "        p9.aes(x=\"years\", y=\"percentage_tokens_mapped\"),\n",
    "    )\n",
    "    + p9.geom_col(fill=\"#1f78b4\")\n",
    "    + p9.coord_flip()\n",
    "    + p9.labs(\n",
    "        title=\"Token Overlap with 2020-2021 Full Text\",\n",
    "        x=\"Year\",\n",
    "        y=\"% Tokens Overlapped\",\n",
    "    )\n",
    ")\n",
    "g.save(\"output/figures/tokens_overlap_with_2020-21_full_text.png\", dpi=500)\n",
    "print(g)"
   ]
  }
 ],
 "metadata": {
  "jupytext": {
   "formats": "ipynb,py"
  },
  "kernelspec": {
   "display_name": "Python [conda env:biovectors]",
   "language": "python",
   "name": "conda-env-biovectors-py"
  },
  "language_info": {
   "codemirror_mode": {
    "name": "ipython",
    "version": 3
   },
   "file_extension": ".py",
   "mimetype": "text/x-python",
   "name": "python",
   "nbconvert_exporter": "python",
   "pygments_lexer": "ipython3",
   "version": "3.7.2"
  },
  "toc": {
   "base_numbering": 1,
   "nav_menu": {},
   "number_sections": true,
   "sideBar": true,
   "skip_h1_title": false,
   "title_cell": "Table of Contents",
   "title_sidebar": "Contents",
   "toc_cell": false,
   "toc_position": {},
   "toc_section_display": true,
   "toc_window_display": false
  }
 },
 "nbformat": 4,
 "nbformat_minor": 2
}
