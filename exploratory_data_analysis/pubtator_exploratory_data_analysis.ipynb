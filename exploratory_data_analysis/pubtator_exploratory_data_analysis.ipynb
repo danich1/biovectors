{
 "cells": [
  {
   "cell_type": "markdown",
   "metadata": {},
   "source": [
    "# Pubtator Central Update"
   ]
  },
  {
   "cell_type": "markdown",
   "metadata": {},
   "source": [
    "Pubtator Central updates their data monthly; however, they changed their data to be xml format instead of common text.\n",
    "Based on this update it is imperative to know what changes have been made/format this data to make future experiments easier to work with.\n",
    "This notebook is being created to make training word2vec a whole lot easier."
   ]
  },
  {
   "cell_type": "code",
   "execution_count": 1,
   "metadata": {
    "ExecuteTime": {
     "end_time": "2021-03-11T15:24:30.315181Z",
     "start_time": "2021-03-11T15:24:29.328901Z"
    }
   },
   "outputs": [],
   "source": [
    "%load_ext autoreload\n",
    "%autoreload 2\n",
    "\n",
    "from collections import defaultdict, Counter\n",
    "import csv\n",
    "from datetime import datetime\n",
    "import itertools\n",
    "import lzma\n",
    "from pathlib import Path\n",
    "import pickle\n",
    "import tarfile\n",
    "\n",
    "import lxml.etree as ET\n",
    "import numpy as np\n",
    "import pandas as pd\n",
    "import plotnine as p9\n",
    "import tqdm\n",
    "\n",
    "from biovectors_modules.word2vec_run_helper import (\n",
    "    PubMedSentencesIterator,\n",
    "    PubtatorTarIterator,\n",
    "    chunks,\n",
    ")"
   ]
  },
  {
   "cell_type": "markdown",
   "metadata": {
    "ExecuteTime": {
     "end_time": "2021-02-14T17:47:18.089567Z",
     "start_time": "2021-02-14T17:47:18.084433Z"
    }
   },
   "source": [
    "# Look at xml example"
   ]
  },
  {
   "cell_type": "markdown",
   "metadata": {},
   "source": [
    "Lets look at an example entry for each tagged document. Looks like it is regular BioCXML format which is good for processing."
   ]
  },
  {
   "cell_type": "code",
   "execution_count": 2,
   "metadata": {
    "ExecuteTime": {
     "end_time": "2021-03-11T15:24:30.332670Z",
     "start_time": "2021-03-11T15:24:30.316440Z"
    }
   },
   "outputs": [
    {
     "name": "stdout",
     "output_type": "stream",
     "text": [
      "10\n"
     ]
    }
   ],
   "source": [
    "# Move up a level in the repository, enter the folder with all the pubmed abstracts\n",
    "# grab all files with the .gz extenstion for processing\n",
    "pubtator_abstract_batch = list(Path(\"../pubtator_abstracts\").rglob(\"*.gz\"))\n",
    "print(len(pubtator_abstract_batch))"
   ]
  },
  {
   "cell_type": "code",
   "execution_count": 3,
   "metadata": {
    "ExecuteTime": {
     "end_time": "2021-03-11T15:24:30.370096Z",
     "start_time": "2021-03-11T15:24:30.334132Z"
    },
    "scrolled": false
   },
   "outputs": [
    {
     "name": "stdout",
     "output_type": "stream",
     "text": [
      "<passage>\n",
      "  <infon key=\"section_type\">ABSTRACT</infon>\n",
      "  <infon key=\"type\">abstract</infon>\n",
      "  <offset>127</offset>\n",
      "  <text>CuA is a dinuclear mixed-valence center located in subunit 2 of the ba3 type cytochrome oxidase from Thermus thermophilus. The assembly of this site within the periplasmic membrane is believed to be mediated by the copper chaperones Sco and/or PCuAC, but the biological mechanisms are still poorly understood, thereby stimulating interest in the mechanisms of CuA formation from inorganic ions. The formulation of the CuA center as an electron-delocalized Cu1.5 - Cu1.5 system, implicates both Cu(II) and Cu(I) states in the metalation process. In earlier work we showed that selenomethionine (SeM) substitution of the coordinated M160 residue provided a ligand-directed probe for studying the copper coordination environment via the Se XAS signal, which was particularly useful for interrogating the Cu(I) states where other spectroscopic probes are absent. In the present study we have investigated the formation of mixed-valence CuA and its M160SeM derivative by stopped-flow UV-vis, EPR, and XAS at both Cu and Se edges, while the formation of fully reduced di-Cu(I) CuA has been studied by XAS alone. Our results establish the presence of previously undetected mononuclear intermediates, and show important differences from the metalation reactions of purple CuA azurin. XAS spectroscopy at Cu and Se edges has allowed us to extend mechanistic inferences to formation of the di-Cu(I) state which may be more relevant to biological CuA assembly. In particular, we find that T. thermophilus CuA assembles more rapidly than reported for other CuA systems, and that the dominant intermediate along the pathway to mixed-valence is a new green species with lambdamax = 460 nm. This intermediate has been isolated in a homogeneous state, and shown to be a mononuclear Cu(II)-(His)(Cys)2 species with no observable Cu(II)-(Met) interaction. Reduction with dithionite generates its Cu(I) homologue which is again mononuclear, but now shows a strong interaction with the Met160 thioether. The results are discussed within the framework of (i) the \"coupled distortion\" model for Cu(II) thiolates, and (ii) their relevance to biological metalation reactions of the CuA center.</text>\n",
      "  <annotation id=\"24\">\n",
      "    <infon key=\"identifier\">274</infon>\n",
      "    <infon key=\"type\">Species</infon>\n",
      "    <location offset=\"228\" length=\"20\"/>\n",
      "    <text>Thermus thermophilus</text>\n",
      "  </annotation>\n",
      "  <annotation id=\"25\">\n",
      "    <infon key=\"identifier\">274</infon>\n",
      "    <infon key=\"type\">Species</infon>\n",
      "    <location offset=\"1605\" length=\"15\"/>\n",
      "    <text>T. thermophilus</text>\n",
      "  </annotation>\n",
      "  <annotation id=\"26\">\n",
      "    <infon key=\"identifier\">-</infon>\n",
      "    <infon key=\"type\">Chemical</infon>\n",
      "    <location offset=\"371\" length=\"5\"/>\n",
      "    <text>PCuAC</text>\n",
      "  </annotation>\n",
      "  <annotation id=\"27\">\n",
      "    <infon key=\"identifier\">-</infon>\n",
      "    <infon key=\"type\">Chemical</infon>\n",
      "    <location offset=\"632\" length=\"5\"/>\n",
      "    <text>Cu(I)</text>\n",
      "  </annotation>\n",
      "  <annotation id=\"28\">\n",
      "    <infon key=\"identifier\">MESH:D003545</infon>\n",
      "    <infon key=\"type\">Chemical</infon>\n",
      "    <location offset=\"1906\" length=\"3\"/>\n",
      "    <text>Cys</text>\n",
      "  </annotation>\n",
      "  <annotation id=\"29\">\n",
      "    <infon key=\"identifier\">-</infon>\n",
      "    <infon key=\"type\">Chemical</infon>\n",
      "    <location offset=\"1893\" length=\"6\"/>\n",
      "    <text>Cu(II)</text>\n",
      "  </annotation>\n",
      "  <annotation id=\"30\">\n",
      "    <infon key=\"identifier\">-</infon>\n",
      "    <infon key=\"type\">Chemical</infon>\n",
      "    <location offset=\"2200\" length=\"16\"/>\n",
      "    <text>Cu(II) thiolates</text>\n",
      "  </annotation>\n",
      "  <annotation id=\"31\">\n",
      "    <infon key=\"identifier\">-</infon>\n",
      "    <infon key=\"type\">Chemical</infon>\n",
      "    <location offset=\"621\" length=\"6\"/>\n",
      "    <text>Cu(II)</text>\n",
      "  </annotation>\n",
      "  <annotation id=\"32\">\n",
      "    <infon key=\"identifier\">MESH:D003300</infon>\n",
      "    <infon key=\"type\">Chemical</infon>\n",
      "    <location offset=\"342\" length=\"6\"/>\n",
      "    <text>copper</text>\n",
      "  </annotation>\n",
      "  <annotation id=\"33\">\n",
      "    <infon key=\"identifier\">MESH:D004227</infon>\n",
      "    <infon key=\"type\">Chemical</infon>\n",
      "    <location offset=\"1980\" length=\"10\"/>\n",
      "    <text>dithionite</text>\n",
      "  </annotation>\n",
      "  <annotation id=\"34\">\n",
      "    <infon key=\"identifier\">-</infon>\n",
      "    <infon key=\"type\">Chemical</infon>\n",
      "    <location offset=\"2093\" length=\"16\"/>\n",
      "    <text>Met160 thioether</text>\n",
      "  </annotation>\n",
      "  <annotation id=\"35\">\n",
      "    <infon key=\"identifier\">MESH:D003300</infon>\n",
      "    <infon key=\"type\">Chemical</infon>\n",
      "    <location offset=\"821\" length=\"6\"/>\n",
      "    <text>copper</text>\n",
      "  </annotation>\n",
      "  <annotation id=\"36\">\n",
      "    <infon key=\"identifier\">MESH:D006639</infon>\n",
      "    <infon key=\"type\">Chemical</infon>\n",
      "    <location offset=\"1901\" length=\"3\"/>\n",
      "    <text>His</text>\n",
      "  </annotation>\n",
      "  <annotation id=\"37\">\n",
      "    <infon key=\"identifier\">-</infon>\n",
      "    <infon key=\"type\">Chemical</infon>\n",
      "    <location offset=\"1391\" length=\"10\"/>\n",
      "    <text>CuA azurin</text>\n",
      "  </annotation>\n",
      "  <annotation id=\"38\">\n",
      "    <infon key=\"identifier\">-</infon>\n",
      "    <infon key=\"type\">Chemical</infon>\n",
      "    <location offset=\"487\" length=\"3\"/>\n",
      "    <text>CuA</text>\n",
      "  </annotation>\n",
      "  <annotation id=\"39\">\n",
      "    <infon key=\"identifier\">MESH:D012645</infon>\n",
      "    <infon key=\"type\">Chemical</infon>\n",
      "    <location offset=\"703\" length=\"16\"/>\n",
      "    <text>selenomethionine</text>\n",
      "  </annotation>\n",
      "  <annotation id=\"40\">\n",
      "    <infon key=\"identifier\">-</infon>\n",
      "    <infon key=\"type\">Chemical</infon>\n",
      "    <location offset=\"1939\" length=\"6\"/>\n",
      "    <text>Cu(II)</text>\n",
      "  </annotation>\n",
      "  <annotation id=\"41\">\n",
      "    <infon key=\"identifier\">-</infon>\n",
      "    <infon key=\"type\">Chemical</infon>\n",
      "    <location offset=\"545\" length=\"3\"/>\n",
      "    <text>CuA</text>\n",
      "  </annotation>\n",
      "</passage>\n",
      "\n"
     ]
    }
   ],
   "source": [
    "for batch_directory in pubtator_abstract_batch:\n",
    "    for doc_obj in PubtatorTarIterator(batch_directory):\n",
    "        passages = doc_obj.xpath(\"//passage\")\n",
    "        lxml_str = ET.tostring(passages[1], pretty_print=True)\n",
    "        print(lxml_str.decode(\"utf-8\"))\n",
    "        break\n",
    "    break"
   ]
  },
  {
   "cell_type": "markdown",
   "metadata": {},
   "source": [
    "# Grab Document Metadata"
   ]
  },
  {
   "cell_type": "code",
   "execution_count": 4,
   "metadata": {
    "ExecuteTime": {
     "end_time": "2021-03-11T15:24:30.391396Z",
     "start_time": "2021-03-11T15:24:30.371582Z"
    },
    "lines_to_next_cell": 2,
    "scrolled": false
   },
   "outputs": [],
   "source": [
    "if not Path(\"output/pmc_metadata.tsv.xz\").exists():\n",
    "    with lzma.open(\"output/pmc_metadata.tsv.xz\", \"wt\") as outfile:\n",
    "        writer = csv.DictWriter(\n",
    "            outfile,\n",
    "            fieldnames=[\n",
    "                \"batch_folder\",\n",
    "                \"doc_id\",\n",
    "                \"doi\",\n",
    "                \"pmc\",\n",
    "                \"pmid\",\n",
    "                \"section\",\n",
    "                \"published_year\",\n",
    "            ],\n",
    "            delimiter=\"\\t\",\n",
    "        )\n",
    "        writer.writeheader()\n",
    "\n",
    "        # Cycle through each batch file\n",
    "        for batch_directory in pubtator_abstract_batch:\n",
    "\n",
    "            # Cycle through each document\n",
    "            for doc_obj in tqdm.tqdm(PubtatorTarIterator(batch_directory)):\n",
    "                doc_id = doc_obj.xpath(\"id/text()\")\n",
    "                doi = doc_obj.xpath(\"passage/infon[@key='article-id_doi']/text()\")\n",
    "                pmc_id = doc_obj.xpath(\"passage/infon[@key='article-id_pmc']/text()\")\n",
    "                pmid = doc_obj.xpath(\"passage/infon[@key='article-id_pmid']/text()\")\n",
    "                sections = doc_obj.xpath(\"passage/infon[@key='section_type']/text()\")\n",
    "                section_type = doc_obj.xpath(\"passage/infon[@key='type']/text()\")\n",
    "                year = doc_obj.xpath(\"passage/infon[@key='year']/text()\")\n",
    "\n",
    "                section_headers = \"|\".join(sorted(list(set(sections))))\n",
    "                section_headers_type = \"|\".join(\n",
    "                    sorted(list(set(map(lambda x: x.upper(), section_type))))\n",
    "                )\n",
    "\n",
    "                writer.writerow(\n",
    "                    {\n",
    "                        \"batch_folder\": batch_directory.name,\n",
    "                        \"doc_id\": doc_id[0],\n",
    "                        \"doi\": doi[0] if len(doi) > 0 else \"\",\n",
    "                        \"pmc\": pmc_id[0] if len(pmc_id) > 0 else \"\",\n",
    "                        \"pmid\": pmid[0] if len(pmid) > 0 else \"\",\n",
    "                        \"section\": section_headers\n",
    "                        if len(section_headers) > 0\n",
    "                        else section_headers_type,\n",
    "                        \"published_year\": year[0]\n",
    "                        if len(year) > 0\n",
    "                        else 0,  # Shouldnt get to the else statement\n",
    "                    }\n",
    "                )"
   ]
  },
  {
   "cell_type": "markdown",
   "metadata": {},
   "source": [
    "# Analyze Abstract/Full Text Dataset"
   ]
  },
  {
   "cell_type": "code",
   "execution_count": null,
   "metadata": {
    "ExecuteTime": {
     "start_time": "2021-03-11T15:24:29.397Z"
    }
   },
   "outputs": [],
   "source": [
    "pubtator_central_metadata_df = pd.read_csv(\"output/pmc_metadata.tsv.xz\", sep=\"\\t\")\n",
    "print(pubtator_central_metadata_df.shape)\n",
    "pubtator_central_metadata_df.head()"
   ]
  },
  {
   "cell_type": "markdown",
   "metadata": {},
   "source": [
    "## Sanity Check the data"
   ]
  },
  {
   "cell_type": "code",
   "execution_count": null,
   "metadata": {
    "ExecuteTime": {
     "start_time": "2021-03-11T15:24:29.416Z"
    }
   },
   "outputs": [],
   "source": [
    "# Sanity check that all documents have a published year\n",
    "(pubtator_central_metadata_df.query(\"published_year.isnull()\").shape)"
   ]
  },
  {
   "cell_type": "code",
   "execution_count": null,
   "metadata": {
    "ExecuteTime": {
     "start_time": "2021-03-11T15:24:29.419Z"
    }
   },
   "outputs": [],
   "source": [
    "# Do all documents have an id?\n",
    "(pubtator_central_metadata_df.query(\"doc_id.isnull()\").shape)"
   ]
  },
  {
   "cell_type": "code",
   "execution_count": null,
   "metadata": {
    "ExecuteTime": {
     "start_time": "2021-03-11T15:24:29.421Z"
    }
   },
   "outputs": [],
   "source": [
    "# Do all documents have a pmid?\n",
    "(pubtator_central_metadata_df.query(\"pmid.isnull()\").shape)"
   ]
  },
  {
   "cell_type": "code",
   "execution_count": null,
   "metadata": {
    "ExecuteTime": {
     "start_time": "2021-03-11T15:24:29.423Z"
    }
   },
   "outputs": [],
   "source": [
    "# Do all documents have a pmc id?\n",
    "(pubtator_central_metadata_df.query(\"pmc.isnull()\").shape)"
   ]
  },
  {
   "cell_type": "code",
   "execution_count": null,
   "metadata": {
    "ExecuteTime": {
     "start_time": "2021-03-11T15:24:29.425Z"
    }
   },
   "outputs": [],
   "source": [
    "# Do all documents have a doi?\n",
    "(pubtator_central_metadata_df.query(\"doi.isnull()\").shape)"
   ]
  },
  {
   "cell_type": "markdown",
   "metadata": {},
   "source": [
    "## Published Year Distribution"
   ]
  },
  {
   "cell_type": "code",
   "execution_count": null,
   "metadata": {
    "ExecuteTime": {
     "start_time": "2021-03-11T15:24:29.444Z"
    }
   },
   "outputs": [],
   "source": [
    "(pubtator_central_metadata_df.sort_values(\"published_year\").published_year.unique())"
   ]
  },
  {
   "cell_type": "code",
   "execution_count": null,
   "metadata": {
    "ExecuteTime": {
     "start_time": "2021-03-11T15:24:29.447Z"
    }
   },
   "outputs": [],
   "source": [
    "doc_count_df = (\n",
    "    pubtator_central_metadata_df.groupby(\"published_year\")\n",
    "    .agg({\"published_year\": \"size\"})\n",
    "    .rename(index=str, columns={\"published_year\": \"doc_count\"})\n",
    "    .reset_index()\n",
    "    .astype({\"published_year\": int, \"doc_count\": int})\n",
    ")\n",
    "doc_count_df.head()"
   ]
  },
  {
   "cell_type": "code",
   "execution_count": null,
   "metadata": {
    "ExecuteTime": {
     "start_time": "2021-03-11T15:24:29.449Z"
    }
   },
   "outputs": [],
   "source": [
    "g = (\n",
    "    p9.ggplot(\n",
    "        doc_count_df.query(\"published_year > 0& published_year < 1950\"),\n",
    "        p9.aes(x=\"published_year\", y=\"doc_count\"),\n",
    "    )\n",
    "    + p9.geom_col(position=p9.position_dodge(width=0.9), fill=\"#1f78b4\")\n",
    "    + p9.labs(\n",
    "        title=\"Number of Documents Pre 1950\", x=\"Publication Year\", y=\"Document Count\"\n",
    "    )\n",
    ")\n",
    "g.save(\"output/figures/pre_1950_doc_count.png\", dpi=500)\n",
    "print(g)"
   ]
  },
  {
   "cell_type": "code",
   "execution_count": null,
   "metadata": {
    "ExecuteTime": {
     "start_time": "2021-03-11T15:24:29.452Z"
    }
   },
   "outputs": [],
   "source": [
    "g = (\n",
    "    p9.ggplot(\n",
    "        doc_count_df.query(\"published_year >= 1950\"),\n",
    "        p9.aes(x=\"published_year\", y=\"doc_count\"),\n",
    "    )\n",
    "    + p9.geom_col(position=p9.position_dodge(width=0.9), fill=\"#1f78b4\")\n",
    "    + p9.labs(\n",
    "        title=\"Number of Documents Post 1950\", x=\"Publication Year\", y=\"Document Count\"\n",
    "    )\n",
    ")\n",
    "g.save(\"output/figures/post_1950_doc_count.png\", dpi=500)\n",
    "print(g)"
   ]
  },
  {
   "cell_type": "markdown",
   "metadata": {
    "ExecuteTime": {
     "end_time": "2021-02-25T17:23:28.046940Z",
     "start_time": "2021-02-25T17:23:28.041919Z"
    }
   },
   "source": [
    "# Shared Tokens Across Time - Abstract Only"
   ]
  },
  {
   "cell_type": "code",
   "execution_count": null,
   "metadata": {
    "ExecuteTime": {
     "start_time": "2021-03-11T15:24:29.471Z"
    }
   },
   "outputs": [],
   "source": [
    "tokens_by_year = defaultdict(Counter)\n",
    "sentence_iterator = PubMedSentencesIterator(\n",
    "    pubtator_abstract_batch,\n",
    "    year_filter=list(range(1990, datetime.now().year + 1, 1)),\n",
    "    return_year=True,\n",
    "    jobs=3,\n",
    ")"
   ]
  },
  {
   "cell_type": "code",
   "execution_count": null,
   "metadata": {
    "ExecuteTime": {
     "start_time": "2021-03-11T15:24:29.472Z"
    }
   },
   "outputs": [],
   "source": [
    "if not Path(\"output/unique_tokens_by_year.pkl\").exists():\n",
    "    for year, sentence in tqdm.tqdm(sentence_iterator):\n",
    "        tokens_by_year[year].update(Counter(sentence))"
   ]
  },
  {
   "cell_type": "code",
   "execution_count": null,
   "metadata": {
    "ExecuteTime": {
     "start_time": "2021-03-11T15:24:29.474Z"
    }
   },
   "outputs": [],
   "source": [
    "if not Path(\"output/unique_tokens_by_year.pkl\").exists():\n",
    "    pickle.dump(tokens_by_year, open(\"output/unique_tokens_by_year.pkl\", \"wb\"))\n",
    "else:\n",
    "    tokens_by_year = pickle.load(open(\"output/unique_tokens_by_year.pkl\", \"rb\"))"
   ]
  },
  {
   "cell_type": "markdown",
   "metadata": {},
   "source": [
    "## Unique Tokens Available per Year"
   ]
  },
  {
   "cell_type": "code",
   "execution_count": null,
   "metadata": {
    "ExecuteTime": {
     "start_time": "2021-03-11T15:24:29.492Z"
    }
   },
   "outputs": [],
   "source": [
    "data_rows = []\n",
    "\n",
    "for query_year in tokens_by_year:\n",
    "\n",
    "    data_rows.append(\n",
    "        {\n",
    "            \"year\": query_year,\n",
    "            \"num_tokens\": len(tokens_by_year[query_year]),\n",
    "        }\n",
    "    )"
   ]
  },
  {
   "cell_type": "code",
   "execution_count": null,
   "metadata": {
    "ExecuteTime": {
     "start_time": "2021-03-11T15:24:29.495Z"
    }
   },
   "outputs": [],
   "source": [
    "unique_token_df = pd.DataFrame.from_records(data_rows)\n",
    "unique_token_df"
   ]
  },
  {
   "cell_type": "code",
   "execution_count": null,
   "metadata": {
    "ExecuteTime": {
     "start_time": "2021-03-11T15:24:29.498Z"
    }
   },
   "outputs": [],
   "source": [
    "g = (\n",
    "    p9.ggplot(unique_token_df, p9.aes(x=\"year\", y=\"num_tokens\"))\n",
    "    + p9.geom_col(fill=\"#1f78b4\")\n",
    "    + p9.coord_flip()\n",
    "    + p9.labs(\n",
    "        title=\"Number of Abstract Tokens Available Post 1990\",\n",
    "        x=\"Year\",\n",
    "        y=\"# Unique Tokens\",\n",
    "    )\n",
    ")\n",
    "g.save(\"output/figures/post_1990_unique_tokens_abstracts.png\", dpi=500)\n",
    "print(g)"
   ]
  },
  {
   "cell_type": "markdown",
   "metadata": {},
   "source": [
    "## Shared tokens across years"
   ]
  },
  {
   "cell_type": "code",
   "execution_count": null,
   "metadata": {
    "ExecuteTime": {
     "start_time": "2021-03-11T15:24:29.516Z"
    }
   },
   "outputs": [],
   "source": [
    "data_rows = []\n",
    "reversed_tokens = list(sorted(tokens_by_year.keys()))[::-1]\n",
    "all_tokens = set(tokens_by_year[2021].keys()) | set(tokens_by_year[2020].keys())\n",
    "\n",
    "for query_year in reversed_tokens[1:]:\n",
    "    query_year_vocab_set = set(tokens_by_year[query_year].keys())\n",
    "    tokens_matched = all_tokens & query_year_vocab_set\n",
    "\n",
    "    data_rows.append(\n",
    "        {\n",
    "            \"years\": str(query_year) if query_year != 2020 else \"2020-21\",\n",
    "            \"percentage_tokens_mapped\": len(tokens_matched) / len(all_tokens),\n",
    "            \"num_tokens_matched\": len(tokens_matched),\n",
    "            \"num_tokens_total\": len(all_tokens),\n",
    "        }\n",
    "    )"
   ]
  },
  {
   "cell_type": "code",
   "execution_count": null,
   "metadata": {
    "ExecuteTime": {
     "start_time": "2021-03-11T15:24:29.520Z"
    }
   },
   "outputs": [],
   "source": [
    "token_overlap_df = pd.DataFrame.from_dict(data_rows)\n",
    "token_overlap_df"
   ]
  },
  {
   "cell_type": "code",
   "execution_count": null,
   "metadata": {
    "ExecuteTime": {
     "start_time": "2021-03-11T15:24:29.522Z"
    }
   },
   "outputs": [],
   "source": [
    "g = (\n",
    "    p9.ggplot(\n",
    "        token_overlap_df.iloc[1:, :], p9.aes(x=\"years\", y=\"percentage_tokens_mapped\")\n",
    "    )\n",
    "    + p9.geom_col(fill=\"#1f78b4\")\n",
    "    + p9.coord_flip()\n",
    "    + p9.labs(\n",
    "        title=\"Token Overlap with 2020-2021 Abstracts\",\n",
    "        x=\"Year\",\n",
    "        y=\"% Tokens Overlapped\",\n",
    "    )\n",
    ")\n",
    "g.save(\"output/figures/tokens_overlap_with_2020-21_abstracts.png\", dpi=500)\n",
    "print(g)"
   ]
  },
  {
   "cell_type": "markdown",
   "metadata": {},
   "source": [
    "# Shared Tokens Across Time - Full Text Only"
   ]
  },
  {
   "cell_type": "markdown",
   "metadata": {},
   "source": [
    "Grab sentences within the full text documents"
   ]
  },
  {
   "cell_type": "code",
   "execution_count": null,
   "metadata": {
    "ExecuteTime": {
     "start_time": "2021-03-11T15:24:29.561Z"
    }
   },
   "outputs": [],
   "source": [
    "tokens_by_year_full_text = defaultdict(Counter)\n",
    "sentence_iterator = PubMedSentencesIterator(\n",
    "    pubtator_abstract_batch,\n",
    "    section_filter=[\"INTRO\", \"METHODS\", \"RESULTS\", \"DISCUSS\", \"CONCL\", \"SUPPL\"],\n",
    "    year_filter=list(range(1990, datetime.now().year + 1, 1)),\n",
    "    return_year=True,\n",
    "    jobs=3,\n",
    ")"
   ]
  },
  {
   "cell_type": "code",
   "execution_count": null,
   "metadata": {
    "ExecuteTime": {
     "start_time": "2021-03-11T15:24:29.562Z"
    }
   },
   "outputs": [],
   "source": [
    "if not Path(\"output/unique_tokens_by_year_full_text.pkl\").exists():\n",
    "    for year, sentence in tqdm.tqdm(sentence_iterator):\n",
    "        tokens_by_year_full_text[year].update(Counter(sentence))"
   ]
  },
  {
   "cell_type": "code",
   "execution_count": null,
   "metadata": {
    "ExecuteTime": {
     "start_time": "2021-03-11T15:24:29.565Z"
    }
   },
   "outputs": [],
   "source": [
    "if not Path(\"output/unique_tokens_by_year_full_text.pkl\").exists():\n",
    "    pickle.dump(\n",
    "        tokens_by_year_full_text,\n",
    "        open(\"output/unique_tokens_by_year_full_text.pkl\", \"wb\"),\n",
    "    )\n",
    "else:\n",
    "    tokens_by_year_full_text = pickle.load(\n",
    "        open(\"output/unique_tokens_by_year_full_text.pkl\", \"rb\")\n",
    "    )"
   ]
  },
  {
   "cell_type": "markdown",
   "metadata": {},
   "source": [
    "## Unique Tokens Available per Year"
   ]
  },
  {
   "cell_type": "code",
   "execution_count": null,
   "metadata": {
    "ExecuteTime": {
     "start_time": "2021-03-11T15:24:29.587Z"
    }
   },
   "outputs": [],
   "source": [
    "data_rows = []\n",
    "\n",
    "for query_year in tokens_by_year_full_text:\n",
    "\n",
    "    data_rows.append(\n",
    "        {\n",
    "            \"year\": query_year,\n",
    "            \"num_tokens\": len(tokens_by_year_full_text[query_year]),\n",
    "        }\n",
    "    )"
   ]
  },
  {
   "cell_type": "code",
   "execution_count": null,
   "metadata": {
    "ExecuteTime": {
     "start_time": "2021-03-11T15:24:29.589Z"
    }
   },
   "outputs": [],
   "source": [
    "unique_token_full_text_df = pd.DataFrame.from_records(data_rows)\n",
    "unique_token_full_text_df"
   ]
  },
  {
   "cell_type": "code",
   "execution_count": null,
   "metadata": {
    "ExecuteTime": {
     "start_time": "2021-03-11T15:24:29.591Z"
    }
   },
   "outputs": [],
   "source": [
    "g = (\n",
    "    p9.ggplot(unique_token_full_text_df, p9.aes(x=\"year\", y=\"num_tokens\"))\n",
    "    + p9.geom_col(fill=\"#1f78b4\")\n",
    "    + p9.coord_flip()\n",
    "    + p9.labs(\n",
    "        title=\"Number of Full Text Tokens Available Post 1990\",\n",
    "        x=\"Year\",\n",
    "        y=\"# Unique Tokens\",\n",
    "    )\n",
    ")\n",
    "g.save(\"output/figures/post_1990_unique_tokens_full_text.png\", dpi=500)\n",
    "print(g)"
   ]
  },
  {
   "cell_type": "markdown",
   "metadata": {},
   "source": [
    "## Shared tokens across years"
   ]
  },
  {
   "cell_type": "code",
   "execution_count": null,
   "metadata": {
    "ExecuteTime": {
     "start_time": "2021-03-11T15:24:29.612Z"
    }
   },
   "outputs": [],
   "source": [
    "data_rows = []\n",
    "reversed_tokens = list(sorted(tokens_by_year_full_text.keys()))[::-1]\n",
    "all_tokens = set(tokens_by_year_full_text[2021].keys()) | set(\n",
    "    tokens_by_year_full_text[2020].keys()\n",
    ")\n",
    "\n",
    "for query_year in reversed_tokens[1:]:\n",
    "    query_year_vocab_set = set(tokens_by_year_full_text[query_year].keys())\n",
    "    tokens_matched = all_tokens & query_year_vocab_set\n",
    "\n",
    "    data_rows.append(\n",
    "        {\n",
    "            \"years\": str(query_year) if query_year != 2020 else \"2020-21\",\n",
    "            \"percentage_tokens_mapped\": len(tokens_matched) / len(all_tokens),\n",
    "            \"num_tokens_matched\": len(tokens_matched),\n",
    "            \"num_tokens_total\": len(all_tokens),\n",
    "        }\n",
    "    )"
   ]
  },
  {
   "cell_type": "code",
   "execution_count": null,
   "metadata": {
    "ExecuteTime": {
     "start_time": "2021-03-11T15:24:29.616Z"
    }
   },
   "outputs": [],
   "source": [
    "token_overlap_full_text_df = pd.DataFrame.from_dict(data_rows)\n",
    "token_overlap_full_text_df"
   ]
  },
  {
   "cell_type": "code",
   "execution_count": null,
   "metadata": {
    "ExecuteTime": {
     "start_time": "2021-03-11T15:24:29.618Z"
    }
   },
   "outputs": [],
   "source": [
    "g = (\n",
    "    p9.ggplot(\n",
    "        token_overlap_full_text_df.iloc[1:, :],\n",
    "        p9.aes(x=\"years\", y=\"percentage_tokens_mapped\"),\n",
    "    )\n",
    "    + p9.geom_col(fill=\"#1f78b4\")\n",
    "    + p9.coord_flip()\n",
    "    + p9.labs(\n",
    "        title=\"Token Overlap with 2020-2021 Full Text\",\n",
    "        x=\"Year\",\n",
    "        y=\"% Tokens Overlapped\",\n",
    "    )\n",
    ")\n",
    "g.save(\"output/figures/tokens_overlap_with_2020-21_full_text.png\", dpi=500)\n",
    "print(g)"
   ]
  }
 ],
 "metadata": {
  "jupytext": {
   "formats": "ipynb,py"
  },
  "kernelspec": {
   "display_name": "Python [conda env:biovectors]",
   "language": "python",
   "name": "conda-env-biovectors-py"
  },
  "language_info": {
   "codemirror_mode": {
    "name": "ipython",
    "version": 3
   },
   "file_extension": ".py",
   "mimetype": "text/x-python",
   "name": "python",
   "nbconvert_exporter": "python",
   "pygments_lexer": "ipython3",
   "version": "3.7.2"
  },
  "toc": {
   "base_numbering": 1,
   "nav_menu": {},
   "number_sections": true,
   "sideBar": true,
   "skip_h1_title": false,
   "title_cell": "Table of Contents",
   "title_sidebar": "Contents",
   "toc_cell": false,
   "toc_position": {},
   "toc_section_display": true,
   "toc_window_display": false
  }
 },
 "nbformat": 4,
 "nbformat_minor": 2
}
