{
 "cells": [
  {
   "cell_type": "markdown",
   "metadata": {},
   "source": [
    "# Subsample Document Experiment"
   ]
  },
  {
   "cell_type": "markdown",
   "metadata": {},
   "source": [
    "This notebook is designed to follow up on the decrease in token overlap between abstracts across the years. The hypothesis is that the small fraction of tokens shared across the years is due to the small number of available documents. To test theory documents posted in the years that have a high count are subsampled to be equal to the number of documents in the early most year (2000). After subsampling, the tokens are compared to see if the fraction of tokens shared changes."
   ]
  },
  {
   "cell_type": "code",
   "execution_count": 1,
   "metadata": {
    "ExecuteTime": {
     "end_time": "2021-06-15T19:50:01.686213Z",
     "start_time": "2021-06-15T19:49:52.346531Z"
    }
   },
   "outputs": [],
   "source": [
    "%load_ext autoreload\n",
    "%autoreload 2\n",
    "\n",
    "from collections import defaultdict, Counter\n",
    "import csv\n",
    "from datetime import datetime\n",
    "import itertools\n",
    "from pathlib import Path\n",
    "import pickle\n",
    "\n",
    "import lxml.etree as ET\n",
    "import numpy as np\n",
    "import pandas as pd\n",
    "import plotnine as p9\n",
    "import tqdm\n",
    "\n",
    "from biovectors_modules.word2vec_run_helper import (\n",
    "    PubMedSentencesIterator,\n",
    "    PubtatorTarIterator,\n",
    "    chunks,\n",
    ")"
   ]
  },
  {
   "cell_type": "markdown",
   "metadata": {},
   "source": [
    "# Load the Data"
   ]
  },
  {
   "cell_type": "code",
   "execution_count": 2,
   "metadata": {
    "ExecuteTime": {
     "end_time": "2021-06-15T19:50:04.088280Z",
     "start_time": "2021-06-15T19:50:01.687551Z"
    }
   },
   "outputs": [],
   "source": [
    "pickle_file = \"output/unique_tokens_by_year_replace.pkl\"\n",
    "tokens_by_year = pickle.load(open(pickle_file, \"rb\"))"
   ]
  },
  {
   "cell_type": "markdown",
   "metadata": {},
   "source": [
    "# Compare Number of Tokens"
   ]
  },
  {
   "cell_type": "markdown",
   "metadata": {},
   "source": [
    "## Equal Number of Tokens for each YEar"
   ]
  },
  {
   "cell_type": "code",
   "execution_count": 3,
   "metadata": {
    "ExecuteTime": {
     "end_time": "2021-06-15T19:50:20.703655Z",
     "start_time": "2021-06-15T19:50:04.089801Z"
    }
   },
   "outputs": [],
   "source": [
    "data_rows = []\n",
    "reversed_tokens = list(sorted(tokens_by_year.keys()))[::-1]\n",
    "all_tokens = set(tokens_by_year[2020].keys())\n",
    "\n",
    "for query_year in reversed_tokens[2:22]:\n",
    "    np.random.seed(100)\n",
    "    avail_tokens = list(tokens_by_year[query_year].keys())\n",
    "    if len(avail_tokens) > len(all_tokens):\n",
    "        avail_tokens = set(\n",
    "            np.random.choice(avail_tokens, len(all_tokens), replace=False)\n",
    "        )\n",
    "        total_tokens = all_tokens\n",
    "    else:\n",
    "        total_tokens = set(\n",
    "            np.random.choice(list(all_tokens), len(avail_tokens), replace=False)\n",
    "        )\n",
    "\n",
    "    query_year_vocab_set = set(avail_tokens)\n",
    "    tokens_matched = total_tokens & query_year_vocab_set\n",
    "\n",
    "    data_rows.append(\n",
    "        {\n",
    "            \"years\": str(query_year) if query_year != 2020 else \"2020\",\n",
    "            \"percentage_tokens_mapped\": len(tokens_matched) / len(total_tokens),\n",
    "            \"num_tokens_matched\": len(tokens_matched),\n",
    "            \"num_tokens_total\": len(total_tokens),\n",
    "        }\n",
    "    )"
   ]
  },
  {
   "cell_type": "code",
   "execution_count": 4,
   "metadata": {
    "ExecuteTime": {
     "end_time": "2021-06-15T19:50:20.777514Z",
     "start_time": "2021-06-15T19:50:20.704952Z"
    }
   },
   "outputs": [
    {
     "data": {
      "text/html": [
       "<div>\n",
       "<style scoped>\n",
       "    .dataframe tbody tr th:only-of-type {\n",
       "        vertical-align: middle;\n",
       "    }\n",
       "\n",
       "    .dataframe tbody tr th {\n",
       "        vertical-align: top;\n",
       "    }\n",
       "\n",
       "    .dataframe thead th {\n",
       "        text-align: right;\n",
       "    }\n",
       "</style>\n",
       "<table border=\"1\" class=\"dataframe\">\n",
       "  <thead>\n",
       "    <tr style=\"text-align: right;\">\n",
       "      <th></th>\n",
       "      <th>years</th>\n",
       "      <th>percentage_tokens_mapped</th>\n",
       "      <th>num_tokens_matched</th>\n",
       "      <th>num_tokens_total</th>\n",
       "    </tr>\n",
       "  </thead>\n",
       "  <tbody>\n",
       "    <tr>\n",
       "      <th>0</th>\n",
       "      <td>2019</td>\n",
       "      <td>0.362154</td>\n",
       "      <td>205083</td>\n",
       "      <td>566286</td>\n",
       "    </tr>\n",
       "    <tr>\n",
       "      <th>1</th>\n",
       "      <td>2018</td>\n",
       "      <td>0.376278</td>\n",
       "      <td>213081</td>\n",
       "      <td>566286</td>\n",
       "    </tr>\n",
       "    <tr>\n",
       "      <th>2</th>\n",
       "      <td>2017</td>\n",
       "      <td>0.381459</td>\n",
       "      <td>216015</td>\n",
       "      <td>566286</td>\n",
       "    </tr>\n",
       "    <tr>\n",
       "      <th>3</th>\n",
       "      <td>2016</td>\n",
       "      <td>0.395007</td>\n",
       "      <td>223687</td>\n",
       "      <td>566286</td>\n",
       "    </tr>\n",
       "    <tr>\n",
       "      <th>4</th>\n",
       "      <td>2015</td>\n",
       "      <td>0.405168</td>\n",
       "      <td>229441</td>\n",
       "      <td>566286</td>\n",
       "    </tr>\n",
       "    <tr>\n",
       "      <th>5</th>\n",
       "      <td>2014</td>\n",
       "      <td>0.394537</td>\n",
       "      <td>209449</td>\n",
       "      <td>530873</td>\n",
       "    </tr>\n",
       "    <tr>\n",
       "      <th>6</th>\n",
       "      <td>2013</td>\n",
       "      <td>0.366157</td>\n",
       "      <td>170789</td>\n",
       "      <td>466437</td>\n",
       "    </tr>\n",
       "    <tr>\n",
       "      <th>7</th>\n",
       "      <td>2012</td>\n",
       "      <td>0.338762</td>\n",
       "      <td>141808</td>\n",
       "      <td>418607</td>\n",
       "    </tr>\n",
       "    <tr>\n",
       "      <th>8</th>\n",
       "      <td>2011</td>\n",
       "      <td>0.315122</td>\n",
       "      <td>118775</td>\n",
       "      <td>376918</td>\n",
       "    </tr>\n",
       "    <tr>\n",
       "      <th>9</th>\n",
       "      <td>2010</td>\n",
       "      <td>0.288278</td>\n",
       "      <td>94493</td>\n",
       "      <td>327784</td>\n",
       "    </tr>\n",
       "    <tr>\n",
       "      <th>10</th>\n",
       "      <td>2009</td>\n",
       "      <td>0.260463</td>\n",
       "      <td>73851</td>\n",
       "      <td>283537</td>\n",
       "    </tr>\n",
       "    <tr>\n",
       "      <th>11</th>\n",
       "      <td>2008</td>\n",
       "      <td>0.208530</td>\n",
       "      <td>42111</td>\n",
       "      <td>201942</td>\n",
       "    </tr>\n",
       "    <tr>\n",
       "      <th>12</th>\n",
       "      <td>2007</td>\n",
       "      <td>0.148685</td>\n",
       "      <td>17811</td>\n",
       "      <td>119790</td>\n",
       "    </tr>\n",
       "    <tr>\n",
       "      <th>13</th>\n",
       "      <td>2006</td>\n",
       "      <td>0.122364</td>\n",
       "      <td>11412</td>\n",
       "      <td>93263</td>\n",
       "    </tr>\n",
       "    <tr>\n",
       "      <th>14</th>\n",
       "      <td>2005</td>\n",
       "      <td>0.102541</td>\n",
       "      <td>7705</td>\n",
       "      <td>75141</td>\n",
       "    </tr>\n",
       "    <tr>\n",
       "      <th>15</th>\n",
       "      <td>2004</td>\n",
       "      <td>0.082340</td>\n",
       "      <td>4703</td>\n",
       "      <td>57117</td>\n",
       "    </tr>\n",
       "    <tr>\n",
       "      <th>16</th>\n",
       "      <td>2003</td>\n",
       "      <td>0.067225</td>\n",
       "      <td>3140</td>\n",
       "      <td>46709</td>\n",
       "    </tr>\n",
       "    <tr>\n",
       "      <th>17</th>\n",
       "      <td>2002</td>\n",
       "      <td>0.067265</td>\n",
       "      <td>3133</td>\n",
       "      <td>46577</td>\n",
       "    </tr>\n",
       "    <tr>\n",
       "      <th>18</th>\n",
       "      <td>2001</td>\n",
       "      <td>0.061391</td>\n",
       "      <td>2619</td>\n",
       "      <td>42661</td>\n",
       "    </tr>\n",
       "    <tr>\n",
       "      <th>19</th>\n",
       "      <td>2000</td>\n",
       "      <td>0.054671</td>\n",
       "      <td>2013</td>\n",
       "      <td>36820</td>\n",
       "    </tr>\n",
       "  </tbody>\n",
       "</table>\n",
       "</div>"
      ],
      "text/plain": [
       "   years  percentage_tokens_mapped  num_tokens_matched  num_tokens_total\n",
       "0   2019                  0.362154              205083            566286\n",
       "1   2018                  0.376278              213081            566286\n",
       "2   2017                  0.381459              216015            566286\n",
       "3   2016                  0.395007              223687            566286\n",
       "4   2015                  0.405168              229441            566286\n",
       "5   2014                  0.394537              209449            530873\n",
       "6   2013                  0.366157              170789            466437\n",
       "7   2012                  0.338762              141808            418607\n",
       "8   2011                  0.315122              118775            376918\n",
       "9   2010                  0.288278               94493            327784\n",
       "10  2009                  0.260463               73851            283537\n",
       "11  2008                  0.208530               42111            201942\n",
       "12  2007                  0.148685               17811            119790\n",
       "13  2006                  0.122364               11412             93263\n",
       "14  2005                  0.102541                7705             75141\n",
       "15  2004                  0.082340                4703             57117\n",
       "16  2003                  0.067225                3140             46709\n",
       "17  2002                  0.067265                3133             46577\n",
       "18  2001                  0.061391                2619             42661\n",
       "19  2000                  0.054671                2013             36820"
      ]
     },
     "execution_count": 4,
     "metadata": {},
     "output_type": "execute_result"
    }
   ],
   "source": [
    "token_overlap_df = pd.DataFrame.from_dict(data_rows)\n",
    "token_overlap_df"
   ]
  },
  {
   "cell_type": "code",
   "execution_count": 5,
   "metadata": {
    "ExecuteTime": {
     "end_time": "2021-06-15T19:50:21.987032Z",
     "start_time": "2021-06-15T19:50:20.778784Z"
    }
   },
   "outputs": [
    {
     "name": "stderr",
     "output_type": "stream",
     "text": [
      "/home/danich1/anaconda3/envs/biovectors/lib/python3.7/site-packages/plotnine/ggplot.py:721: PlotnineWarning: Saving 6.4 x 4.8 in image.\n",
      "/home/danich1/anaconda3/envs/biovectors/lib/python3.7/site-packages/plotnine/ggplot.py:722: PlotnineWarning: Filename: output/figures/subsampled_tokens_overlap.png\n"
     ]
    },
    {
     "data": {
      "image/png": "[encoded data removed]",
      "text/plain": [
       "<Figure size 640x480 with 1 Axes>"
      ]
     },
     "metadata": {},
     "output_type": "display_data"
    },
    {
     "name": "stdout",
     "output_type": "stream",
     "text": [
      "\n"
     ]
    }
   ],
   "source": [
    "g = (\n",
    "    p9.ggplot(\n",
    "        token_overlap_df,\n",
    "        p9.aes(x=\"years\", y=\"percentage_tokens_mapped\"),\n",
    "    )\n",
    "    + p9.geom_col(fill=\"#1f78b4\")\n",
    "    + p9.coord_flip()\n",
    "    + p9.labs(\n",
    "        title=\"Token Overlap across the Years (Subsampled)\",\n",
    "        x=\"Year\",\n",
    "        y=\"Fraction of Tokens Overlapped\",\n",
    "    )\n",
    ")\n",
    "g.save(\"output/figures/subsampled_tokens_overlap.png\", dpi=500)\n",
    "print(g)"
   ]
  },
  {
   "cell_type": "markdown",
   "metadata": {},
   "source": [
    "## Equal number of tokens across each Year"
   ]
  },
  {
   "cell_type": "code",
   "execution_count": 6,
   "metadata": {
    "ExecuteTime": {
     "end_time": "2021-06-15T19:50:23.411192Z",
     "start_time": "2021-06-15T19:50:21.988902Z"
    }
   },
   "outputs": [],
   "source": [
    "data_rows = []\n",
    "reversed_tokens = list(sorted(tokens_by_year.keys()))[::-1]\n",
    "np.random.seed(100)\n",
    "all_tokens = np.random.choice(\n",
    "    sorted(list(set(tokens_by_year[2020].keys()))), len(set(tokens_by_year[2000]))\n",
    ")\n",
    "all_tokens = set(all_tokens)\n",
    "\n",
    "for query_year in reversed_tokens[2:22]:\n",
    "    avail_tokens = list(tokens_by_year[query_year].keys())\n",
    "    query_year_vocab_set = set(avail_tokens)\n",
    "    tokens_matched = all_tokens & query_year_vocab_set\n",
    "\n",
    "    data_rows.append(\n",
    "        {\n",
    "            \"years\": str(query_year) if query_year != 2020 else \"2020\",\n",
    "            \"percentage_tokens_mapped\": len(tokens_matched) / len(total_tokens),\n",
    "            \"num_tokens_matched\": len(tokens_matched),\n",
    "            \"num_tokens_total\": len(total_tokens),\n",
    "        }\n",
    "    )"
   ]
  },
  {
   "cell_type": "code",
   "execution_count": 7,
   "metadata": {
    "ExecuteTime": {
     "end_time": "2021-06-15T19:50:23.435214Z",
     "start_time": "2021-06-15T19:50:23.412391Z"
    }
   },
   "outputs": [
    {
     "data": {
      "text/html": [
       "<div>\n",
       "<style scoped>\n",
       "    .dataframe tbody tr th:only-of-type {\n",
       "        vertical-align: middle;\n",
       "    }\n",
       "\n",
       "    .dataframe tbody tr th {\n",
       "        vertical-align: top;\n",
       "    }\n",
       "\n",
       "    .dataframe thead th {\n",
       "        text-align: right;\n",
       "    }\n",
       "</style>\n",
       "<table border=\"1\" class=\"dataframe\">\n",
       "  <thead>\n",
       "    <tr style=\"text-align: right;\">\n",
       "      <th></th>\n",
       "      <th>years</th>\n",
       "      <th>percentage_tokens_mapped</th>\n",
       "      <th>num_tokens_matched</th>\n",
       "      <th>num_tokens_total</th>\n",
       "    </tr>\n",
       "  </thead>\n",
       "  <tbody>\n",
       "    <tr>\n",
       "      <th>0</th>\n",
       "      <td>2019</td>\n",
       "      <td>0.462385</td>\n",
       "      <td>17025</td>\n",
       "      <td>36820</td>\n",
       "    </tr>\n",
       "    <tr>\n",
       "      <th>1</th>\n",
       "      <td>2018</td>\n",
       "      <td>0.447067</td>\n",
       "      <td>16461</td>\n",
       "      <td>36820</td>\n",
       "    </tr>\n",
       "    <tr>\n",
       "      <th>2</th>\n",
       "      <td>2017</td>\n",
       "      <td>0.434601</td>\n",
       "      <td>16002</td>\n",
       "      <td>36820</td>\n",
       "    </tr>\n",
       "    <tr>\n",
       "      <th>3</th>\n",
       "      <td>2016</td>\n",
       "      <td>0.415779</td>\n",
       "      <td>15309</td>\n",
       "      <td>36820</td>\n",
       "    </tr>\n",
       "    <tr>\n",
       "      <th>4</th>\n",
       "      <td>2015</td>\n",
       "      <td>0.400027</td>\n",
       "      <td>14729</td>\n",
       "      <td>36820</td>\n",
       "    </tr>\n",
       "    <tr>\n",
       "      <th>5</th>\n",
       "      <td>2014</td>\n",
       "      <td>0.380608</td>\n",
       "      <td>14014</td>\n",
       "      <td>36820</td>\n",
       "    </tr>\n",
       "    <tr>\n",
       "      <th>6</th>\n",
       "      <td>2013</td>\n",
       "      <td>0.352281</td>\n",
       "      <td>12971</td>\n",
       "      <td>36820</td>\n",
       "    </tr>\n",
       "    <tr>\n",
       "      <th>7</th>\n",
       "      <td>2012</td>\n",
       "      <td>0.324905</td>\n",
       "      <td>11963</td>\n",
       "      <td>36820</td>\n",
       "    </tr>\n",
       "    <tr>\n",
       "      <th>8</th>\n",
       "      <td>2011</td>\n",
       "      <td>0.301738</td>\n",
       "      <td>11110</td>\n",
       "      <td>36820</td>\n",
       "    </tr>\n",
       "    <tr>\n",
       "      <th>9</th>\n",
       "      <td>2010</td>\n",
       "      <td>0.274253</td>\n",
       "      <td>10098</td>\n",
       "      <td>36820</td>\n",
       "    </tr>\n",
       "    <tr>\n",
       "      <th>10</th>\n",
       "      <td>2009</td>\n",
       "      <td>0.251114</td>\n",
       "      <td>9246</td>\n",
       "      <td>36820</td>\n",
       "    </tr>\n",
       "    <tr>\n",
       "      <th>11</th>\n",
       "      <td>2008</td>\n",
       "      <td>0.199864</td>\n",
       "      <td>7359</td>\n",
       "      <td>36820</td>\n",
       "    </tr>\n",
       "    <tr>\n",
       "      <th>12</th>\n",
       "      <td>2007</td>\n",
       "      <td>0.142939</td>\n",
       "      <td>5263</td>\n",
       "      <td>36820</td>\n",
       "    </tr>\n",
       "    <tr>\n",
       "      <th>13</th>\n",
       "      <td>2006</td>\n",
       "      <td>0.115698</td>\n",
       "      <td>4260</td>\n",
       "      <td>36820</td>\n",
       "    </tr>\n",
       "    <tr>\n",
       "      <th>14</th>\n",
       "      <td>2005</td>\n",
       "      <td>0.097827</td>\n",
       "      <td>3602</td>\n",
       "      <td>36820</td>\n",
       "    </tr>\n",
       "    <tr>\n",
       "      <th>15</th>\n",
       "      <td>2004</td>\n",
       "      <td>0.079794</td>\n",
       "      <td>2938</td>\n",
       "      <td>36820</td>\n",
       "    </tr>\n",
       "    <tr>\n",
       "      <th>16</th>\n",
       "      <td>2003</td>\n",
       "      <td>0.065209</td>\n",
       "      <td>2401</td>\n",
       "      <td>36820</td>\n",
       "    </tr>\n",
       "    <tr>\n",
       "      <th>17</th>\n",
       "      <td>2002</td>\n",
       "      <td>0.064340</td>\n",
       "      <td>2369</td>\n",
       "      <td>36820</td>\n",
       "    </tr>\n",
       "    <tr>\n",
       "      <th>18</th>\n",
       "      <td>2001</td>\n",
       "      <td>0.057577</td>\n",
       "      <td>2120</td>\n",
       "      <td>36820</td>\n",
       "    </tr>\n",
       "    <tr>\n",
       "      <th>19</th>\n",
       "      <td>2000</td>\n",
       "      <td>0.049756</td>\n",
       "      <td>1832</td>\n",
       "      <td>36820</td>\n",
       "    </tr>\n",
       "  </tbody>\n",
       "</table>\n",
       "</div>"
      ],
      "text/plain": [
       "   years  percentage_tokens_mapped  num_tokens_matched  num_tokens_total\n",
       "0   2019                  0.462385               17025             36820\n",
       "1   2018                  0.447067               16461             36820\n",
       "2   2017                  0.434601               16002             36820\n",
       "3   2016                  0.415779               15309             36820\n",
       "4   2015                  0.400027               14729             36820\n",
       "5   2014                  0.380608               14014             36820\n",
       "6   2013                  0.352281               12971             36820\n",
       "7   2012                  0.324905               11963             36820\n",
       "8   2011                  0.301738               11110             36820\n",
       "9   2010                  0.274253               10098             36820\n",
       "10  2009                  0.251114                9246             36820\n",
       "11  2008                  0.199864                7359             36820\n",
       "12  2007                  0.142939                5263             36820\n",
       "13  2006                  0.115698                4260             36820\n",
       "14  2005                  0.097827                3602             36820\n",
       "15  2004                  0.079794                2938             36820\n",
       "16  2003                  0.065209                2401             36820\n",
       "17  2002                  0.064340                2369             36820\n",
       "18  2001                  0.057577                2120             36820\n",
       "19  2000                  0.049756                1832             36820"
      ]
     },
     "execution_count": 7,
     "metadata": {},
     "output_type": "execute_result"
    }
   ],
   "source": [
    "equal_token_overlap_df = pd.DataFrame.from_dict(data_rows)\n",
    "equal_token_overlap_df"
   ]
  },
  {
   "cell_type": "code",
   "execution_count": 8,
   "metadata": {
    "ExecuteTime": {
     "end_time": "2021-06-15T19:50:24.385174Z",
     "start_time": "2021-06-15T19:50:23.437262Z"
    }
   },
   "outputs": [
    {
     "name": "stderr",
     "output_type": "stream",
     "text": [
      "/home/danich1/anaconda3/envs/biovectors/lib/python3.7/site-packages/plotnine/ggplot.py:721: PlotnineWarning: Saving 6.4 x 4.8 in image.\n",
      "/home/danich1/anaconda3/envs/biovectors/lib/python3.7/site-packages/plotnine/ggplot.py:722: PlotnineWarning: Filename: output/figures/subsampled_tokens_overlap.png\n"
     ]
    },
    {
     "data": {
      "image/png": "[encoded data removed]",
      "text/plain": [
       "<Figure size 640x480 with 1 Axes>"
      ]
     },
     "metadata": {},
     "output_type": "display_data"
    },
    {
     "name": "stdout",
     "output_type": "stream",
     "text": [
      "\n"
     ]
    }
   ],
   "source": [
    "g = (\n",
    "    p9.ggplot(\n",
    "        equal_token_overlap_df,\n",
    "        p9.aes(x=\"years\", y=\"percentage_tokens_mapped\"),\n",
    "    )\n",
    "    + p9.geom_col(fill=\"#1f78b4\")\n",
    "    + p9.coord_flip()\n",
    "    + p9.labs(\n",
    "        title=\"Token Overlap across the Years (Subsampled)\",\n",
    "        x=\"Year\",\n",
    "        y=\"Fraction of Tokens Overlapped\",\n",
    "    )\n",
    ")\n",
    "g.save(\"output/figures/subsampled_tokens_overlap.png\", dpi=500)\n",
    "print(g)"
   ]
  },
  {
   "cell_type": "markdown",
   "metadata": {},
   "source": [
    "## High Frequency Tokens Only"
   ]
  },
  {
   "cell_type": "code",
   "execution_count": 9,
   "metadata": {
    "ExecuteTime": {
     "end_time": "2021-06-15T19:50:30.543258Z",
     "start_time": "2021-06-15T19:50:24.386581Z"
    }
   },
   "outputs": [
    {
     "name": "stderr",
     "output_type": "stream",
     "text": [
      "100%|██████████| 32/32 [00:06<00:00,  5.21it/s]\n"
     ]
    }
   ],
   "source": [
    "corrected_tokens_by_year = dict()\n",
    "for year in tqdm.tqdm(tokens_by_year):\n",
    "    year_total = sum(tokens_by_year[year].values())\n",
    "    corrected_tokens_by_year[year] = {\n",
    "        tok: tokens_by_year[year][tok] / year_total for tok in tokens_by_year[year]\n",
    "    }\n",
    "\n",
    "    freq_cutoff = (\n",
    "        pd.DataFrame.from_dict(\n",
    "            corrected_tokens_by_year[year], orient=\"index\", columns=[\"freq\"]\n",
    "        )\n",
    "        .reset_index()\n",
    "        .rename(columns={\"index\": \"token\"})\n",
    "        .freq.describe()[\"75%\"]\n",
    "    )\n",
    "\n",
    "    corrected_tokens_by_year[year] = {\n",
    "        tok: corrected_tokens_by_year[year][tok]\n",
    "        for tok in tokens_by_year[year]\n",
    "        if corrected_tokens_by_year[year][tok] >= freq_cutoff\n",
    "    }"
   ]
  },
  {
   "cell_type": "code",
   "execution_count": 10,
   "metadata": {
    "ExecuteTime": {
     "end_time": "2021-06-15T19:50:31.394282Z",
     "start_time": "2021-06-15T19:50:30.544468Z"
    }
   },
   "outputs": [],
   "source": [
    "data_rows = []\n",
    "reversed_tokens = list(sorted(corrected_tokens_by_year.keys()))[::-1]\n",
    "all_tokens = set(corrected_tokens_by_year[2020].keys())\n",
    "\n",
    "for query_year in reversed_tokens[2:22]:\n",
    "    np.random.seed(100)\n",
    "    avail_tokens = list(tokens_by_year[query_year].keys())\n",
    "    query_year_vocab_set = set(avail_tokens)\n",
    "    tokens_matched = all_tokens & query_year_vocab_set\n",
    "\n",
    "    data_rows.append(\n",
    "        {\n",
    "            \"years\": str(query_year) if query_year != 2020 else \"2020\",\n",
    "            \"percentage_tokens_mapped\": len(tokens_matched) / len(all_tokens),\n",
    "            \"num_tokens_matched\": len(tokens_matched),\n",
    "            \"num_tokens_total\": len(all_tokens),\n",
    "        }\n",
    "    )"
   ]
  },
  {
   "cell_type": "code",
   "execution_count": 11,
   "metadata": {
    "ExecuteTime": {
     "end_time": "2021-06-15T19:50:31.417375Z",
     "start_time": "2021-06-15T19:50:31.395556Z"
    }
   },
   "outputs": [
    {
     "data": {
      "text/html": [
       "<div>\n",
       "<style scoped>\n",
       "    .dataframe tbody tr th:only-of-type {\n",
       "        vertical-align: middle;\n",
       "    }\n",
       "\n",
       "    .dataframe tbody tr th {\n",
       "        vertical-align: top;\n",
       "    }\n",
       "\n",
       "    .dataframe thead th {\n",
       "        text-align: right;\n",
       "    }\n",
       "</style>\n",
       "<table border=\"1\" class=\"dataframe\">\n",
       "  <thead>\n",
       "    <tr style=\"text-align: right;\">\n",
       "      <th></th>\n",
       "      <th>years</th>\n",
       "      <th>percentage_tokens_mapped</th>\n",
       "      <th>num_tokens_matched</th>\n",
       "      <th>num_tokens_total</th>\n",
       "    </tr>\n",
       "  </thead>\n",
       "  <tbody>\n",
       "    <tr>\n",
       "      <th>0</th>\n",
       "      <td>2019</td>\n",
       "      <td>0.871678</td>\n",
       "      <td>133215</td>\n",
       "      <td>152826</td>\n",
       "    </tr>\n",
       "    <tr>\n",
       "      <th>1</th>\n",
       "      <td>2018</td>\n",
       "      <td>0.858781</td>\n",
       "      <td>131244</td>\n",
       "      <td>152826</td>\n",
       "    </tr>\n",
       "    <tr>\n",
       "      <th>2</th>\n",
       "      <td>2017</td>\n",
       "      <td>0.847781</td>\n",
       "      <td>129563</td>\n",
       "      <td>152826</td>\n",
       "    </tr>\n",
       "    <tr>\n",
       "      <th>3</th>\n",
       "      <td>2016</td>\n",
       "      <td>0.832731</td>\n",
       "      <td>127263</td>\n",
       "      <td>152826</td>\n",
       "    </tr>\n",
       "    <tr>\n",
       "      <th>4</th>\n",
       "      <td>2015</td>\n",
       "      <td>0.818113</td>\n",
       "      <td>125029</td>\n",
       "      <td>152826</td>\n",
       "    </tr>\n",
       "    <tr>\n",
       "      <th>5</th>\n",
       "      <td>2014</td>\n",
       "      <td>0.798647</td>\n",
       "      <td>122054</td>\n",
       "      <td>152826</td>\n",
       "    </tr>\n",
       "    <tr>\n",
       "      <th>6</th>\n",
       "      <td>2013</td>\n",
       "      <td>0.772133</td>\n",
       "      <td>118002</td>\n",
       "      <td>152826</td>\n",
       "    </tr>\n",
       "    <tr>\n",
       "      <th>7</th>\n",
       "      <td>2012</td>\n",
       "      <td>0.739606</td>\n",
       "      <td>113031</td>\n",
       "      <td>152826</td>\n",
       "    </tr>\n",
       "    <tr>\n",
       "      <th>8</th>\n",
       "      <td>2011</td>\n",
       "      <td>0.711266</td>\n",
       "      <td>108700</td>\n",
       "      <td>152826</td>\n",
       "    </tr>\n",
       "    <tr>\n",
       "      <th>9</th>\n",
       "      <td>2010</td>\n",
       "      <td>0.675219</td>\n",
       "      <td>103191</td>\n",
       "      <td>152826</td>\n",
       "    </tr>\n",
       "    <tr>\n",
       "      <th>10</th>\n",
       "      <td>2009</td>\n",
       "      <td>0.634395</td>\n",
       "      <td>96952</td>\n",
       "      <td>152826</td>\n",
       "    </tr>\n",
       "    <tr>\n",
       "      <th>11</th>\n",
       "      <td>2008</td>\n",
       "      <td>0.553846</td>\n",
       "      <td>84642</td>\n",
       "      <td>152826</td>\n",
       "    </tr>\n",
       "    <tr>\n",
       "      <th>12</th>\n",
       "      <td>2007</td>\n",
       "      <td>0.434566</td>\n",
       "      <td>66413</td>\n",
       "      <td>152826</td>\n",
       "    </tr>\n",
       "    <tr>\n",
       "      <th>13</th>\n",
       "      <td>2006</td>\n",
       "      <td>0.374517</td>\n",
       "      <td>57236</td>\n",
       "      <td>152826</td>\n",
       "    </tr>\n",
       "    <tr>\n",
       "      <th>14</th>\n",
       "      <td>2005</td>\n",
       "      <td>0.320397</td>\n",
       "      <td>48965</td>\n",
       "      <td>152826</td>\n",
       "    </tr>\n",
       "    <tr>\n",
       "      <th>15</th>\n",
       "      <td>2004</td>\n",
       "      <td>0.267153</td>\n",
       "      <td>40828</td>\n",
       "      <td>152826</td>\n",
       "    </tr>\n",
       "    <tr>\n",
       "      <th>16</th>\n",
       "      <td>2003</td>\n",
       "      <td>0.225642</td>\n",
       "      <td>34484</td>\n",
       "      <td>152826</td>\n",
       "    </tr>\n",
       "    <tr>\n",
       "      <th>17</th>\n",
       "      <td>2002</td>\n",
       "      <td>0.220996</td>\n",
       "      <td>33774</td>\n",
       "      <td>152826</td>\n",
       "    </tr>\n",
       "    <tr>\n",
       "      <th>18</th>\n",
       "      <td>2001</td>\n",
       "      <td>0.205875</td>\n",
       "      <td>31463</td>\n",
       "      <td>152826</td>\n",
       "    </tr>\n",
       "    <tr>\n",
       "      <th>19</th>\n",
       "      <td>2000</td>\n",
       "      <td>0.177908</td>\n",
       "      <td>27189</td>\n",
       "      <td>152826</td>\n",
       "    </tr>\n",
       "  </tbody>\n",
       "</table>\n",
       "</div>"
      ],
      "text/plain": [
       "   years  percentage_tokens_mapped  num_tokens_matched  num_tokens_total\n",
       "0   2019                  0.871678              133215            152826\n",
       "1   2018                  0.858781              131244            152826\n",
       "2   2017                  0.847781              129563            152826\n",
       "3   2016                  0.832731              127263            152826\n",
       "4   2015                  0.818113              125029            152826\n",
       "5   2014                  0.798647              122054            152826\n",
       "6   2013                  0.772133              118002            152826\n",
       "7   2012                  0.739606              113031            152826\n",
       "8   2011                  0.711266              108700            152826\n",
       "9   2010                  0.675219              103191            152826\n",
       "10  2009                  0.634395               96952            152826\n",
       "11  2008                  0.553846               84642            152826\n",
       "12  2007                  0.434566               66413            152826\n",
       "13  2006                  0.374517               57236            152826\n",
       "14  2005                  0.320397               48965            152826\n",
       "15  2004                  0.267153               40828            152826\n",
       "16  2003                  0.225642               34484            152826\n",
       "17  2002                  0.220996               33774            152826\n",
       "18  2001                  0.205875               31463            152826\n",
       "19  2000                  0.177908               27189            152826"
      ]
     },
     "execution_count": 11,
     "metadata": {},
     "output_type": "execute_result"
    }
   ],
   "source": [
    "high_freq_overlap_df = pd.DataFrame.from_dict(data_rows)\n",
    "high_freq_overlap_df"
   ]
  },
  {
   "cell_type": "code",
   "execution_count": 12,
   "metadata": {
    "ExecuteTime": {
     "end_time": "2021-06-15T19:50:32.383633Z",
     "start_time": "2021-06-15T19:50:31.418634Z"
    }
   },
   "outputs": [
    {
     "name": "stderr",
     "output_type": "stream",
     "text": [
      "/home/danich1/anaconda3/envs/biovectors/lib/python3.7/site-packages/plotnine/ggplot.py:721: PlotnineWarning: Saving 6.4 x 4.8 in image.\n",
      "/home/danich1/anaconda3/envs/biovectors/lib/python3.7/site-packages/plotnine/ggplot.py:722: PlotnineWarning: Filename: output/figures/high_freq_occuring_tokens_overlap.png\n"
     ]
    },
    {
     "data": {
      "image/png": "[encoded data removed]",
      "text/plain": [
       "<Figure size 640x480 with 1 Axes>"
      ]
     },
     "metadata": {},
     "output_type": "display_data"
    },
    {
     "name": "stdout",
     "output_type": "stream",
     "text": [
      "\n"
     ]
    }
   ],
   "source": [
    "g = (\n",
    "    p9.ggplot(\n",
    "        high_freq_overlap_df,\n",
    "        p9.aes(x=\"years\", y=\"percentage_tokens_mapped\"),\n",
    "    )\n",
    "    + p9.geom_col(fill=\"#1f78b4\")\n",
    "    + p9.coord_flip()\n",
    "    + p9.labs(\n",
    "        title=\"Token Overlap across the Years (High Frequency Tokens)\",\n",
    "        x=\"Year\",\n",
    "        y=\"Fraction of Tokens Overlapped\",\n",
    "    )\n",
    ")\n",
    "g.save(\"output/figures/high_freq_occuring_tokens_overlap.png\", dpi=500)\n",
    "print(g)"
   ]
  },
  {
   "cell_type": "markdown",
   "metadata": {},
   "source": [
    "# Conclusions"
   ]
  },
  {
   "cell_type": "markdown",
   "metadata": {},
   "source": [
    "1. The small number of mismatches appear to be the result of not using a lemmatizer along with general changes in scientific publications overtime.\n",
    "2. Numbers could improve if I were to correct for the issues mentioned above; however, the overall message here is that earlier years have a bias that I nee"
   ]
  }
 ],
 "metadata": {
  "jupytext": {
   "formats": "ipynb,py"
  },
  "kernelspec": {
   "display_name": "Python [conda env:biovectors]",
   "language": "python",
   "name": "conda-env-biovectors-py"
  },
  "language_info": {
   "codemirror_mode": {
    "name": "ipython",
    "version": 3
   },
   "file_extension": ".py",
   "mimetype": "text/x-python",
   "name": "python",
   "nbconvert_exporter": "python",
   "pygments_lexer": "ipython3",
   "version": "3.7.2"
  },
  "toc": {
   "base_numbering": 1,
   "nav_menu": {},
   "number_sections": true,
   "sideBar": true,
   "skip_h1_title": false,
   "title_cell": "Table of Contents",
   "title_sidebar": "Contents",
   "toc_cell": false,
   "toc_position": {},
   "toc_section_display": true,
   "toc_window_display": false
  }
 },
 "nbformat": 4,
 "nbformat_minor": 2
}
