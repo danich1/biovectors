{
 "cells": [
  {
   "cell_type": "markdown",
   "metadata": {},
   "source": [
    "# Subsample Document Experiment"
   ]
  },
  {
   "cell_type": "markdown",
   "metadata": {},
   "source": [
    "This notebook is designed to follow up on the decrease in token overlap between abstracts across the years. The hypothesis is that the small fraction of tokens shared across the years is due to the small number of available documents. To test theory documents posted in the years that have a high count are subsampled to be equal to the number of documents in the early most year (2000). After subsampling, the tokens are compared to see if the fraction of tokens shared changes."
   ]
  },
  {
   "cell_type": "code",
   "execution_count": 1,
   "metadata": {
    "ExecuteTime": {
     "end_time": "2021-06-18T18:07:10.464702Z",
     "start_time": "2021-06-18T18:07:07.952738Z"
    }
   },
   "outputs": [],
   "source": [
    "%load_ext autoreload\n",
    "%autoreload 2\n",
    "\n",
    "from collections import defaultdict, Counter\n",
    "import csv\n",
    "from datetime import datetime\n",
    "import itertools\n",
    "from pathlib import Path\n",
    "import pickle\n",
    "\n",
    "import lxml.etree as ET\n",
    "import numpy as np\n",
    "import pandas as pd\n",
    "import plotnine as p9\n",
    "import tqdm\n",
    "\n",
    "from biovectors_modules.word2vec_run_helper import (\n",
    "    PubMedSentencesIterator,\n",
    "    PubtatorTarIterator,\n",
    "    chunks,\n",
    ")"
   ]
  },
  {
   "cell_type": "markdown",
   "metadata": {},
   "source": [
    "# Load the Data"
   ]
  },
  {
   "cell_type": "code",
   "execution_count": 2,
   "metadata": {
    "ExecuteTime": {
     "end_time": "2021-06-18T18:07:10.464702Z",
     "start_time": "2021-06-18T18:07:07.952738Z"
    }
   },
   "outputs": [],
   "source": [
    "pickle_file = \"output/unique_tokens_by_year_replace.pkl\"\n",
    "tokens_by_year = pickle.load(open(pickle_file, \"rb\"))"
   ]
  },
  {
   "cell_type": "markdown",
   "metadata": {},
   "source": [
    "# Compare Number of Tokens"
   ]
  },
  {
   "cell_type": "markdown",
   "metadata": {},
   "source": [
    "## Equal Number of Tokens for each YEar"
   ]
  },
  {
   "cell_type": "code",
   "execution_count": 3,
   "metadata": {
    "ExecuteTime": {
     "end_time": "2021-06-18T18:07:26.979480Z",
     "start_time": "2021-06-18T18:07:10.466392Z"
    }
   },
   "outputs": [],
   "source": [
    "data_rows = []\n",
    "reversed_tokens = list(sorted(tokens_by_year.keys()))[::-1]\n",
    "all_tokens = set(tokens_by_year[2020].keys())\n",
    "\n",
    "for query_year in reversed_tokens[2:22]:\n",
    "    np.random.seed(100)\n",
    "    avail_tokens = list(tokens_by_year[query_year].keys())\n",
    "    if len(avail_tokens) > len(all_tokens):\n",
    "        avail_tokens = set(\n",
    "            np.random.choice(avail_tokens, len(all_tokens), replace=False)\n",
    "        )\n",
    "        total_tokens = all_tokens\n",
    "    else:\n",
    "        total_tokens = set(\n",
    "            np.random.choice(list(all_tokens), len(avail_tokens), replace=False)\n",
    "        )\n",
    "\n",
    "    query_year_vocab_set = set(avail_tokens)\n",
    "    tokens_matched = total_tokens & query_year_vocab_set\n",
    "\n",
    "    data_rows.append(\n",
    "        {\n",
    "            \"years\": str(query_year) if query_year != 2020 else \"2020\",\n",
    "            \"percentage_tokens_mapped\": len(tokens_matched) / len(total_tokens),\n",
    "            \"num_tokens_matched\": len(tokens_matched),\n",
    "            \"num_tokens_total\": len(total_tokens),\n",
    "        }\n",
    "    )"
   ]
  },
  {
   "cell_type": "code",
   "execution_count": 4,
   "metadata": {
    "ExecuteTime": {
     "end_time": "2021-06-18T18:07:27.027772Z",
     "start_time": "2021-06-18T18:07:26.980837Z"
    }
   },
   "outputs": [
    {
     "data": {
      "text/html": [
       "<div>\n",
       "<style scoped>\n",
       "    .dataframe tbody tr th:only-of-type {\n",
       "        vertical-align: middle;\n",
       "    }\n",
       "\n",
       "    .dataframe tbody tr th {\n",
       "        vertical-align: top;\n",
       "    }\n",
       "\n",
       "    .dataframe thead th {\n",
       "        text-align: right;\n",
       "    }\n",
       "</style>\n",
       "<table border=\"1\" class=\"dataframe\">\n",
       "  <thead>\n",
       "    <tr style=\"text-align: right;\">\n",
       "      <th></th>\n",
       "      <th>years</th>\n",
       "      <th>percentage_tokens_mapped</th>\n",
       "      <th>num_tokens_matched</th>\n",
       "      <th>num_tokens_total</th>\n",
       "    </tr>\n",
       "  </thead>\n",
       "  <tbody>\n",
       "    <tr>\n",
       "      <th>0</th>\n",
       "      <td>2019</td>\n",
       "      <td>0.362154</td>\n",
       "      <td>205083</td>\n",
       "      <td>566286</td>\n",
       "    </tr>\n",
       "    <tr>\n",
       "      <th>1</th>\n",
       "      <td>2018</td>\n",
       "      <td>0.376278</td>\n",
       "      <td>213081</td>\n",
       "      <td>566286</td>\n",
       "    </tr>\n",
       "    <tr>\n",
       "      <th>2</th>\n",
       "      <td>2017</td>\n",
       "      <td>0.381459</td>\n",
       "      <td>216015</td>\n",
       "      <td>566286</td>\n",
       "    </tr>\n",
       "    <tr>\n",
       "      <th>3</th>\n",
       "      <td>2016</td>\n",
       "      <td>0.395007</td>\n",
       "      <td>223687</td>\n",
       "      <td>566286</td>\n",
       "    </tr>\n",
       "    <tr>\n",
       "      <th>4</th>\n",
       "      <td>2015</td>\n",
       "      <td>0.405168</td>\n",
       "      <td>229441</td>\n",
       "      <td>566286</td>\n",
       "    </tr>\n",
       "    <tr>\n",
       "      <th>5</th>\n",
       "      <td>2014</td>\n",
       "      <td>0.394260</td>\n",
       "      <td>209302</td>\n",
       "      <td>530873</td>\n",
       "    </tr>\n",
       "    <tr>\n",
       "      <th>6</th>\n",
       "      <td>2013</td>\n",
       "      <td>0.366202</td>\n",
       "      <td>170810</td>\n",
       "      <td>466437</td>\n",
       "    </tr>\n",
       "    <tr>\n",
       "      <th>7</th>\n",
       "      <td>2012</td>\n",
       "      <td>0.339230</td>\n",
       "      <td>142004</td>\n",
       "      <td>418607</td>\n",
       "    </tr>\n",
       "    <tr>\n",
       "      <th>8</th>\n",
       "      <td>2011</td>\n",
       "      <td>0.315358</td>\n",
       "      <td>118864</td>\n",
       "      <td>376918</td>\n",
       "    </tr>\n",
       "    <tr>\n",
       "      <th>9</th>\n",
       "      <td>2010</td>\n",
       "      <td>0.288266</td>\n",
       "      <td>94489</td>\n",
       "      <td>327784</td>\n",
       "    </tr>\n",
       "    <tr>\n",
       "      <th>10</th>\n",
       "      <td>2009</td>\n",
       "      <td>0.261105</td>\n",
       "      <td>74033</td>\n",
       "      <td>283537</td>\n",
       "    </tr>\n",
       "    <tr>\n",
       "      <th>11</th>\n",
       "      <td>2008</td>\n",
       "      <td>0.209570</td>\n",
       "      <td>42321</td>\n",
       "      <td>201942</td>\n",
       "    </tr>\n",
       "    <tr>\n",
       "      <th>12</th>\n",
       "      <td>2007</td>\n",
       "      <td>0.148552</td>\n",
       "      <td>17795</td>\n",
       "      <td>119790</td>\n",
       "    </tr>\n",
       "    <tr>\n",
       "      <th>13</th>\n",
       "      <td>2006</td>\n",
       "      <td>0.123736</td>\n",
       "      <td>11540</td>\n",
       "      <td>93263</td>\n",
       "    </tr>\n",
       "    <tr>\n",
       "      <th>14</th>\n",
       "      <td>2005</td>\n",
       "      <td>0.103046</td>\n",
       "      <td>7743</td>\n",
       "      <td>75141</td>\n",
       "    </tr>\n",
       "    <tr>\n",
       "      <th>15</th>\n",
       "      <td>2004</td>\n",
       "      <td>0.083005</td>\n",
       "      <td>4741</td>\n",
       "      <td>57117</td>\n",
       "    </tr>\n",
       "    <tr>\n",
       "      <th>16</th>\n",
       "      <td>2003</td>\n",
       "      <td>0.069152</td>\n",
       "      <td>3230</td>\n",
       "      <td>46709</td>\n",
       "    </tr>\n",
       "    <tr>\n",
       "      <th>17</th>\n",
       "      <td>2002</td>\n",
       "      <td>0.066771</td>\n",
       "      <td>3110</td>\n",
       "      <td>46577</td>\n",
       "    </tr>\n",
       "    <tr>\n",
       "      <th>18</th>\n",
       "      <td>2001</td>\n",
       "      <td>0.061883</td>\n",
       "      <td>2640</td>\n",
       "      <td>42661</td>\n",
       "    </tr>\n",
       "    <tr>\n",
       "      <th>19</th>\n",
       "      <td>2000</td>\n",
       "      <td>0.053504</td>\n",
       "      <td>1970</td>\n",
       "      <td>36820</td>\n",
       "    </tr>\n",
       "  </tbody>\n",
       "</table>\n",
       "</div>"
      ],
      "text/plain": [
       "   years  percentage_tokens_mapped  num_tokens_matched  num_tokens_total\n",
       "0   2019                  0.362154              205083            566286\n",
       "1   2018                  0.376278              213081            566286\n",
       "2   2017                  0.381459              216015            566286\n",
       "3   2016                  0.395007              223687            566286\n",
       "4   2015                  0.405168              229441            566286\n",
       "5   2014                  0.394260              209302            530873\n",
       "6   2013                  0.366202              170810            466437\n",
       "7   2012                  0.339230              142004            418607\n",
       "8   2011                  0.315358              118864            376918\n",
       "9   2010                  0.288266               94489            327784\n",
       "10  2009                  0.261105               74033            283537\n",
       "11  2008                  0.209570               42321            201942\n",
       "12  2007                  0.148552               17795            119790\n",
       "13  2006                  0.123736               11540             93263\n",
       "14  2005                  0.103046                7743             75141\n",
       "15  2004                  0.083005                4741             57117\n",
       "16  2003                  0.069152                3230             46709\n",
       "17  2002                  0.066771                3110             46577\n",
       "18  2001                  0.061883                2640             42661\n",
       "19  2000                  0.053504                1970             36820"
      ]
     },
     "execution_count": 4,
     "metadata": {},
     "output_type": "execute_result"
    }
   ],
   "source": [
    "token_overlap_df = pd.DataFrame.from_dict(data_rows)\n",
    "token_overlap_df"
   ]
  },
  {
   "cell_type": "code",
   "execution_count": 5,
   "metadata": {
    "ExecuteTime": {
     "end_time": "2021-06-18T18:07:28.195385Z",
     "start_time": "2021-06-18T18:07:27.029097Z"
    }
   },
   "outputs": [
    {
     "name": "stderr",
     "output_type": "stream",
     "text": [
      "/home/danich1/anaconda3/envs/biovectors/lib/python3.7/site-packages/plotnine/ggplot.py:721: PlotnineWarning: Saving 6.4 x 4.8 in image.\n",
      "/home/danich1/anaconda3/envs/biovectors/lib/python3.7/site-packages/plotnine/ggplot.py:722: PlotnineWarning: Filename: output/figures/subsampled_tokens_overlap.png\n"
     ]
    },
    {
     "data": {
      "image/png": "[encoded data removed]",
      "text/plain": [
       "<Figure size 640x480 with 1 Axes>"
      ]
     },
     "metadata": {},
     "output_type": "display_data"
    },
    {
     "name": "stdout",
     "output_type": "stream",
     "text": [
      "\n"
     ]
    }
   ],
   "source": [
    "g = (\n",
    "    p9.ggplot(\n",
    "        token_overlap_df,\n",
    "        p9.aes(x=\"years\", y=\"percentage_tokens_mapped\"),\n",
    "    )\n",
    "    + p9.geom_col(fill=\"#1f78b4\")\n",
    "    + p9.coord_flip()\n",
    "    + p9.labs(\n",
    "        title=\"Token Overlap across the Years (Subsampled)\",\n",
    "        x=\"Year\",\n",
    "        y=\"Fraction of Tokens Overlapped\",\n",
    "    )\n",
    ")\n",
    "g.save(\"output/figures/subsampled_tokens_overlap.png\", dpi=500)\n",
    "print(g)"
   ]
  },
  {
   "cell_type": "markdown",
   "metadata": {},
   "source": [
    "## Equal number of tokens across each Year"
   ]
  },
  {
   "cell_type": "code",
   "execution_count": 6,
   "metadata": {
    "ExecuteTime": {
     "end_time": "2021-06-18T18:07:29.612767Z",
     "start_time": "2021-06-18T18:07:28.196801Z"
    }
   },
   "outputs": [],
   "source": [
    "data_rows = []\n",
    "reversed_tokens = list(sorted(tokens_by_year.keys()))[::-1]\n",
    "np.random.seed(100)\n",
    "all_tokens = np.random.choice(\n",
    "    sorted(list(set(tokens_by_year[2020].keys()))), len(set(tokens_by_year[2000]))\n",
    ")\n",
    "all_tokens = set(all_tokens)\n",
    "\n",
    "for query_year in reversed_tokens[2:22]:\n",
    "    avail_tokens = list(tokens_by_year[query_year].keys())\n",
    "    query_year_vocab_set = set(avail_tokens)\n",
    "    tokens_matched = all_tokens & query_year_vocab_set\n",
    "\n",
    "    data_rows.append(\n",
    "        {\n",
    "            \"years\": str(query_year) if query_year != 2020 else \"2020\",\n",
    "            \"percentage_tokens_mapped\": len(tokens_matched) / len(total_tokens),\n",
    "            \"num_tokens_matched\": len(tokens_matched),\n",
    "            \"num_tokens_total\": len(total_tokens),\n",
    "        }\n",
    "    )"
   ]
  },
  {
   "cell_type": "code",
   "execution_count": 7,
   "metadata": {
    "ExecuteTime": {
     "end_time": "2021-06-18T18:07:29.636229Z",
     "start_time": "2021-06-18T18:07:29.614170Z"
    }
   },
   "outputs": [
    {
     "data": {
      "text/html": [
       "<div>\n",
       "<style scoped>\n",
       "    .dataframe tbody tr th:only-of-type {\n",
       "        vertical-align: middle;\n",
       "    }\n",
       "\n",
       "    .dataframe tbody tr th {\n",
       "        vertical-align: top;\n",
       "    }\n",
       "\n",
       "    .dataframe thead th {\n",
       "        text-align: right;\n",
       "    }\n",
       "</style>\n",
       "<table border=\"1\" class=\"dataframe\">\n",
       "  <thead>\n",
       "    <tr style=\"text-align: right;\">\n",
       "      <th></th>\n",
       "      <th>years</th>\n",
       "      <th>percentage_tokens_mapped</th>\n",
       "      <th>num_tokens_matched</th>\n",
       "      <th>num_tokens_total</th>\n",
       "    </tr>\n",
       "  </thead>\n",
       "  <tbody>\n",
       "    <tr>\n",
       "      <th>0</th>\n",
       "      <td>2019</td>\n",
       "      <td>0.462385</td>\n",
       "      <td>17025</td>\n",
       "      <td>36820</td>\n",
       "    </tr>\n",
       "    <tr>\n",
       "      <th>1</th>\n",
       "      <td>2018</td>\n",
       "      <td>0.447067</td>\n",
       "      <td>16461</td>\n",
       "      <td>36820</td>\n",
       "    </tr>\n",
       "    <tr>\n",
       "      <th>2</th>\n",
       "      <td>2017</td>\n",
       "      <td>0.434601</td>\n",
       "      <td>16002</td>\n",
       "      <td>36820</td>\n",
       "    </tr>\n",
       "    <tr>\n",
       "      <th>3</th>\n",
       "      <td>2016</td>\n",
       "      <td>0.415779</td>\n",
       "      <td>15309</td>\n",
       "      <td>36820</td>\n",
       "    </tr>\n",
       "    <tr>\n",
       "      <th>4</th>\n",
       "      <td>2015</td>\n",
       "      <td>0.400027</td>\n",
       "      <td>14729</td>\n",
       "      <td>36820</td>\n",
       "    </tr>\n",
       "    <tr>\n",
       "      <th>5</th>\n",
       "      <td>2014</td>\n",
       "      <td>0.380608</td>\n",
       "      <td>14014</td>\n",
       "      <td>36820</td>\n",
       "    </tr>\n",
       "    <tr>\n",
       "      <th>6</th>\n",
       "      <td>2013</td>\n",
       "      <td>0.352281</td>\n",
       "      <td>12971</td>\n",
       "      <td>36820</td>\n",
       "    </tr>\n",
       "    <tr>\n",
       "      <th>7</th>\n",
       "      <td>2012</td>\n",
       "      <td>0.324905</td>\n",
       "      <td>11963</td>\n",
       "      <td>36820</td>\n",
       "    </tr>\n",
       "    <tr>\n",
       "      <th>8</th>\n",
       "      <td>2011</td>\n",
       "      <td>0.301738</td>\n",
       "      <td>11110</td>\n",
       "      <td>36820</td>\n",
       "    </tr>\n",
       "    <tr>\n",
       "      <th>9</th>\n",
       "      <td>2010</td>\n",
       "      <td>0.274253</td>\n",
       "      <td>10098</td>\n",
       "      <td>36820</td>\n",
       "    </tr>\n",
       "    <tr>\n",
       "      <th>10</th>\n",
       "      <td>2009</td>\n",
       "      <td>0.251114</td>\n",
       "      <td>9246</td>\n",
       "      <td>36820</td>\n",
       "    </tr>\n",
       "    <tr>\n",
       "      <th>11</th>\n",
       "      <td>2008</td>\n",
       "      <td>0.199864</td>\n",
       "      <td>7359</td>\n",
       "      <td>36820</td>\n",
       "    </tr>\n",
       "    <tr>\n",
       "      <th>12</th>\n",
       "      <td>2007</td>\n",
       "      <td>0.142939</td>\n",
       "      <td>5263</td>\n",
       "      <td>36820</td>\n",
       "    </tr>\n",
       "    <tr>\n",
       "      <th>13</th>\n",
       "      <td>2006</td>\n",
       "      <td>0.115698</td>\n",
       "      <td>4260</td>\n",
       "      <td>36820</td>\n",
       "    </tr>\n",
       "    <tr>\n",
       "      <th>14</th>\n",
       "      <td>2005</td>\n",
       "      <td>0.097827</td>\n",
       "      <td>3602</td>\n",
       "      <td>36820</td>\n",
       "    </tr>\n",
       "    <tr>\n",
       "      <th>15</th>\n",
       "      <td>2004</td>\n",
       "      <td>0.079794</td>\n",
       "      <td>2938</td>\n",
       "      <td>36820</td>\n",
       "    </tr>\n",
       "    <tr>\n",
       "      <th>16</th>\n",
       "      <td>2003</td>\n",
       "      <td>0.065209</td>\n",
       "      <td>2401</td>\n",
       "      <td>36820</td>\n",
       "    </tr>\n",
       "    <tr>\n",
       "      <th>17</th>\n",
       "      <td>2002</td>\n",
       "      <td>0.064340</td>\n",
       "      <td>2369</td>\n",
       "      <td>36820</td>\n",
       "    </tr>\n",
       "    <tr>\n",
       "      <th>18</th>\n",
       "      <td>2001</td>\n",
       "      <td>0.057577</td>\n",
       "      <td>2120</td>\n",
       "      <td>36820</td>\n",
       "    </tr>\n",
       "    <tr>\n",
       "      <th>19</th>\n",
       "      <td>2000</td>\n",
       "      <td>0.049756</td>\n",
       "      <td>1832</td>\n",
       "      <td>36820</td>\n",
       "    </tr>\n",
       "  </tbody>\n",
       "</table>\n",
       "</div>"
      ],
      "text/plain": [
       "   years  percentage_tokens_mapped  num_tokens_matched  num_tokens_total\n",
       "0   2019                  0.462385               17025             36820\n",
       "1   2018                  0.447067               16461             36820\n",
       "2   2017                  0.434601               16002             36820\n",
       "3   2016                  0.415779               15309             36820\n",
       "4   2015                  0.400027               14729             36820\n",
       "5   2014                  0.380608               14014             36820\n",
       "6   2013                  0.352281               12971             36820\n",
       "7   2012                  0.324905               11963             36820\n",
       "8   2011                  0.301738               11110             36820\n",
       "9   2010                  0.274253               10098             36820\n",
       "10  2009                  0.251114                9246             36820\n",
       "11  2008                  0.199864                7359             36820\n",
       "12  2007                  0.142939                5263             36820\n",
       "13  2006                  0.115698                4260             36820\n",
       "14  2005                  0.097827                3602             36820\n",
       "15  2004                  0.079794                2938             36820\n",
       "16  2003                  0.065209                2401             36820\n",
       "17  2002                  0.064340                2369             36820\n",
       "18  2001                  0.057577                2120             36820\n",
       "19  2000                  0.049756                1832             36820"
      ]
     },
     "execution_count": 7,
     "metadata": {},
     "output_type": "execute_result"
    }
   ],
   "source": [
    "equal_token_overlap_df = pd.DataFrame.from_dict(data_rows)\n",
    "equal_token_overlap_df"
   ]
  },
  {
   "cell_type": "code",
   "execution_count": 8,
   "metadata": {
    "ExecuteTime": {
     "end_time": "2021-06-18T18:07:30.589855Z",
     "start_time": "2021-06-18T18:07:29.637974Z"
    }
   },
   "outputs": [
    {
     "name": "stderr",
     "output_type": "stream",
     "text": [
      "/home/danich1/anaconda3/envs/biovectors/lib/python3.7/site-packages/plotnine/ggplot.py:721: PlotnineWarning: Saving 6.4 x 4.8 in image.\n",
      "/home/danich1/anaconda3/envs/biovectors/lib/python3.7/site-packages/plotnine/ggplot.py:722: PlotnineWarning: Filename: output/figures/subsampled_tokens_overlap.png\n"
     ]
    },
    {
     "data": {
      "image/png": "[encoded data removed]",
      "text/plain": [
       "<Figure size 640x480 with 1 Axes>"
      ]
     },
     "metadata": {},
     "output_type": "display_data"
    },
    {
     "name": "stdout",
     "output_type": "stream",
     "text": [
      "\n"
     ]
    }
   ],
   "source": [
    "g = (\n",
    "    p9.ggplot(\n",
    "        equal_token_overlap_df,\n",
    "        p9.aes(x=\"years\", y=\"percentage_tokens_mapped\"),\n",
    "    )\n",
    "    + p9.geom_col(fill=\"#1f78b4\")\n",
    "    + p9.coord_flip()\n",
    "    + p9.labs(\n",
    "        title=\"Token Overlap across the Years (Subsampled)\",\n",
    "        x=\"Year\",\n",
    "        y=\"Fraction of Tokens Overlapped\",\n",
    "    )\n",
    ")\n",
    "g.save(\"output/figures/subsampled_tokens_overlap.png\", dpi=500)\n",
    "print(g)"
   ]
  },
  {
   "cell_type": "markdown",
   "metadata": {},
   "source": [
    "## High Frequency Tokens Only"
   ]
  },
  {
   "cell_type": "code",
   "execution_count": 9,
   "metadata": {
    "ExecuteTime": {
     "end_time": "2021-06-18T18:07:36.709978Z",
     "start_time": "2021-06-18T18:07:30.591451Z"
    }
   },
   "outputs": [
    {
     "name": "stderr",
     "output_type": "stream",
     "text": [
      "100%|██████████| 32/32 [00:06<00:00,  5.25it/s]\n"
     ]
    }
   ],
   "source": [
    "corrected_tokens_by_year = dict()\n",
    "for year in tqdm.tqdm(tokens_by_year):\n",
    "    year_total = sum(tokens_by_year[year].values())\n",
    "    corrected_tokens_by_year[year] = {\n",
    "        tok: tokens_by_year[year][tok] / year_total for tok in tokens_by_year[year]\n",
    "    }\n",
    "\n",
    "    freq_cutoff = (\n",
    "        pd.DataFrame.from_dict(\n",
    "            corrected_tokens_by_year[year], orient=\"index\", columns=[\"freq\"]\n",
    "        )\n",
    "        .reset_index()\n",
    "        .rename(columns={\"index\": \"token\"})\n",
    "        .freq.describe()[\"75%\"]\n",
    "    )\n",
    "\n",
    "    corrected_tokens_by_year[year] = {\n",
    "        tok: corrected_tokens_by_year[year][tok]\n",
    "        for tok in tokens_by_year[year]\n",
    "        if corrected_tokens_by_year[year][tok] >= freq_cutoff\n",
    "    }"
   ]
  },
  {
   "cell_type": "code",
   "execution_count": 10,
   "metadata": {
    "ExecuteTime": {
     "end_time": "2021-06-18T18:07:37.550568Z",
     "start_time": "2021-06-18T18:07:36.711251Z"
    }
   },
   "outputs": [],
   "source": [
    "data_rows = []\n",
    "reversed_tokens = list(sorted(corrected_tokens_by_year.keys()))[::-1]\n",
    "all_tokens = set(corrected_tokens_by_year[2020].keys())\n",
    "\n",
    "for query_year in reversed_tokens[2:22]:\n",
    "    np.random.seed(100)\n",
    "    avail_tokens = list(tokens_by_year[query_year].keys())\n",
    "    query_year_vocab_set = set(avail_tokens)\n",
    "    tokens_matched = all_tokens & query_year_vocab_set\n",
    "\n",
    "    data_rows.append(\n",
    "        {\n",
    "            \"years\": str(query_year) if query_year != 2020 else \"2020\",\n",
    "            \"percentage_tokens_mapped\": len(tokens_matched) / len(all_tokens),\n",
    "            \"num_tokens_matched\": len(tokens_matched),\n",
    "            \"num_tokens_total\": len(all_tokens),\n",
    "        }\n",
    "    )"
   ]
  },
  {
   "cell_type": "code",
   "execution_count": 11,
   "metadata": {
    "ExecuteTime": {
     "end_time": "2021-06-18T18:07:37.573537Z",
     "start_time": "2021-06-18T18:07:37.551799Z"
    }
   },
   "outputs": [
    {
     "data": {
      "text/html": [
       "<div>\n",
       "<style scoped>\n",
       "    .dataframe tbody tr th:only-of-type {\n",
       "        vertical-align: middle;\n",
       "    }\n",
       "\n",
       "    .dataframe tbody tr th {\n",
       "        vertical-align: top;\n",
       "    }\n",
       "\n",
       "    .dataframe thead th {\n",
       "        text-align: right;\n",
       "    }\n",
       "</style>\n",
       "<table border=\"1\" class=\"dataframe\">\n",
       "  <thead>\n",
       "    <tr style=\"text-align: right;\">\n",
       "      <th></th>\n",
       "      <th>years</th>\n",
       "      <th>percentage_tokens_mapped</th>\n",
       "      <th>num_tokens_matched</th>\n",
       "      <th>num_tokens_total</th>\n",
       "    </tr>\n",
       "  </thead>\n",
       "  <tbody>\n",
       "    <tr>\n",
       "      <th>0</th>\n",
       "      <td>2019</td>\n",
       "      <td>0.871678</td>\n",
       "      <td>133215</td>\n",
       "      <td>152826</td>\n",
       "    </tr>\n",
       "    <tr>\n",
       "      <th>1</th>\n",
       "      <td>2018</td>\n",
       "      <td>0.858781</td>\n",
       "      <td>131244</td>\n",
       "      <td>152826</td>\n",
       "    </tr>\n",
       "    <tr>\n",
       "      <th>2</th>\n",
       "      <td>2017</td>\n",
       "      <td>0.847781</td>\n",
       "      <td>129563</td>\n",
       "      <td>152826</td>\n",
       "    </tr>\n",
       "    <tr>\n",
       "      <th>3</th>\n",
       "      <td>2016</td>\n",
       "      <td>0.832731</td>\n",
       "      <td>127263</td>\n",
       "      <td>152826</td>\n",
       "    </tr>\n",
       "    <tr>\n",
       "      <th>4</th>\n",
       "      <td>2015</td>\n",
       "      <td>0.818113</td>\n",
       "      <td>125029</td>\n",
       "      <td>152826</td>\n",
       "    </tr>\n",
       "    <tr>\n",
       "      <th>5</th>\n",
       "      <td>2014</td>\n",
       "      <td>0.798647</td>\n",
       "      <td>122054</td>\n",
       "      <td>152826</td>\n",
       "    </tr>\n",
       "    <tr>\n",
       "      <th>6</th>\n",
       "      <td>2013</td>\n",
       "      <td>0.772133</td>\n",
       "      <td>118002</td>\n",
       "      <td>152826</td>\n",
       "    </tr>\n",
       "    <tr>\n",
       "      <th>7</th>\n",
       "      <td>2012</td>\n",
       "      <td>0.739606</td>\n",
       "      <td>113031</td>\n",
       "      <td>152826</td>\n",
       "    </tr>\n",
       "    <tr>\n",
       "      <th>8</th>\n",
       "      <td>2011</td>\n",
       "      <td>0.711266</td>\n",
       "      <td>108700</td>\n",
       "      <td>152826</td>\n",
       "    </tr>\n",
       "    <tr>\n",
       "      <th>9</th>\n",
       "      <td>2010</td>\n",
       "      <td>0.675219</td>\n",
       "      <td>103191</td>\n",
       "      <td>152826</td>\n",
       "    </tr>\n",
       "    <tr>\n",
       "      <th>10</th>\n",
       "      <td>2009</td>\n",
       "      <td>0.634395</td>\n",
       "      <td>96952</td>\n",
       "      <td>152826</td>\n",
       "    </tr>\n",
       "    <tr>\n",
       "      <th>11</th>\n",
       "      <td>2008</td>\n",
       "      <td>0.553846</td>\n",
       "      <td>84642</td>\n",
       "      <td>152826</td>\n",
       "    </tr>\n",
       "    <tr>\n",
       "      <th>12</th>\n",
       "      <td>2007</td>\n",
       "      <td>0.434566</td>\n",
       "      <td>66413</td>\n",
       "      <td>152826</td>\n",
       "    </tr>\n",
       "    <tr>\n",
       "      <th>13</th>\n",
       "      <td>2006</td>\n",
       "      <td>0.374517</td>\n",
       "      <td>57236</td>\n",
       "      <td>152826</td>\n",
       "    </tr>\n",
       "    <tr>\n",
       "      <th>14</th>\n",
       "      <td>2005</td>\n",
       "      <td>0.320397</td>\n",
       "      <td>48965</td>\n",
       "      <td>152826</td>\n",
       "    </tr>\n",
       "    <tr>\n",
       "      <th>15</th>\n",
       "      <td>2004</td>\n",
       "      <td>0.267153</td>\n",
       "      <td>40828</td>\n",
       "      <td>152826</td>\n",
       "    </tr>\n",
       "    <tr>\n",
       "      <th>16</th>\n",
       "      <td>2003</td>\n",
       "      <td>0.225642</td>\n",
       "      <td>34484</td>\n",
       "      <td>152826</td>\n",
       "    </tr>\n",
       "    <tr>\n",
       "      <th>17</th>\n",
       "      <td>2002</td>\n",
       "      <td>0.220996</td>\n",
       "      <td>33774</td>\n",
       "      <td>152826</td>\n",
       "    </tr>\n",
       "    <tr>\n",
       "      <th>18</th>\n",
       "      <td>2001</td>\n",
       "      <td>0.205875</td>\n",
       "      <td>31463</td>\n",
       "      <td>152826</td>\n",
       "    </tr>\n",
       "    <tr>\n",
       "      <th>19</th>\n",
       "      <td>2000</td>\n",
       "      <td>0.177908</td>\n",
       "      <td>27189</td>\n",
       "      <td>152826</td>\n",
       "    </tr>\n",
       "  </tbody>\n",
       "</table>\n",
       "</div>"
      ],
      "text/plain": [
       "   years  percentage_tokens_mapped  num_tokens_matched  num_tokens_total\n",
       "0   2019                  0.871678              133215            152826\n",
       "1   2018                  0.858781              131244            152826\n",
       "2   2017                  0.847781              129563            152826\n",
       "3   2016                  0.832731              127263            152826\n",
       "4   2015                  0.818113              125029            152826\n",
       "5   2014                  0.798647              122054            152826\n",
       "6   2013                  0.772133              118002            152826\n",
       "7   2012                  0.739606              113031            152826\n",
       "8   2011                  0.711266              108700            152826\n",
       "9   2010                  0.675219              103191            152826\n",
       "10  2009                  0.634395               96952            152826\n",
       "11  2008                  0.553846               84642            152826\n",
       "12  2007                  0.434566               66413            152826\n",
       "13  2006                  0.374517               57236            152826\n",
       "14  2005                  0.320397               48965            152826\n",
       "15  2004                  0.267153               40828            152826\n",
       "16  2003                  0.225642               34484            152826\n",
       "17  2002                  0.220996               33774            152826\n",
       "18  2001                  0.205875               31463            152826\n",
       "19  2000                  0.177908               27189            152826"
      ]
     },
     "execution_count": 11,
     "metadata": {},
     "output_type": "execute_result"
    }
   ],
   "source": [
    "high_freq_overlap_df = pd.DataFrame.from_dict(data_rows)\n",
    "high_freq_overlap_df"
   ]
  },
  {
   "cell_type": "code",
   "execution_count": 12,
   "metadata": {
    "ExecuteTime": {
     "end_time": "2021-06-18T18:07:38.524685Z",
     "start_time": "2021-06-18T18:07:37.574820Z"
    }
   },
   "outputs": [
    {
     "name": "stderr",
     "output_type": "stream",
     "text": [
      "/home/danich1/anaconda3/envs/biovectors/lib/python3.7/site-packages/plotnine/ggplot.py:721: PlotnineWarning: Saving 6.4 x 4.8 in image.\n",
      "/home/danich1/anaconda3/envs/biovectors/lib/python3.7/site-packages/plotnine/ggplot.py:722: PlotnineWarning: Filename: output/figures/high_freq_occuring_tokens_overlap.png\n"
     ]
    },
    {
     "data": {
      "image/png": "[encoded data removed]",
      "text/plain": [
       "<Figure size 640x480 with 1 Axes>"
      ]
     },
     "metadata": {},
     "output_type": "display_data"
    },
    {
     "name": "stdout",
     "output_type": "stream",
     "text": [
      "\n"
     ]
    }
   ],
   "source": [
    "g = (\n",
    "    p9.ggplot(\n",
    "        high_freq_overlap_df,\n",
    "        p9.aes(x=\"years\", y=\"percentage_tokens_mapped\"),\n",
    "    )\n",
    "    + p9.geom_col(fill=\"#1f78b4\")\n",
    "    + p9.coord_flip()\n",
    "    + p9.labs(\n",
    "        title=\"Token Overlap across the Years (High Frequency Tokens)\",\n",
    "        x=\"Year\",\n",
    "        y=\"Fraction of Tokens Overlapped\",\n",
    "    )\n",
    ")\n",
    "g.save(\"output/figures/high_freq_occuring_tokens_overlap.png\", dpi=500)\n",
    "print(g)"
   ]
  },
  {
   "cell_type": "markdown",
   "metadata": {},
   "source": [
    "# Same Journal"
   ]
  },
  {
   "cell_type": "code",
   "execution_count": 13,
   "metadata": {
    "ExecuteTime": {
     "end_time": "2021-06-18T18:07:38.543508Z",
     "start_time": "2021-06-18T18:07:38.526008Z"
    }
   },
   "outputs": [
    {
     "name": "stdout",
     "output_type": "stream",
     "text": [
      "10\n"
     ]
    }
   ],
   "source": [
    "# Move up a level in the repository, enter the folder with all the pubmed abstracts\n",
    "# grab all files with the .gz extenstion for processing\n",
    "pubtator_abstract_batch = list(Path(\"../pubtator_abstracts\").rglob(\"*.gz\"))\n",
    "print(len(pubtator_abstract_batch))"
   ]
  },
  {
   "cell_type": "code",
   "execution_count": 14,
   "metadata": {
    "ExecuteTime": {
     "end_time": "2021-06-18T18:08:11.041516Z",
     "start_time": "2021-06-18T18:07:38.545024Z"
    }
   },
   "outputs": [
    {
     "name": "stderr",
     "output_type": "stream",
     "text": [
      "/home/danich1/anaconda3/envs/biovectors/lib/python3.7/site-packages/IPython/core/interactiveshell.py:3156: DtypeWarning: Columns (4) have mixed types.Specify dtype option on import or set low_memory=False.\n"
     ]
    },
    {
     "name": "stdout",
     "output_type": "stream",
     "text": [
      "(30697637, 8)\n"
     ]
    },
    {
     "data": {
      "text/html": [
       "<div>\n",
       "<style scoped>\n",
       "    .dataframe tbody tr th:only-of-type {\n",
       "        vertical-align: middle;\n",
       "    }\n",
       "\n",
       "    .dataframe tbody tr th {\n",
       "        vertical-align: top;\n",
       "    }\n",
       "\n",
       "    .dataframe thead th {\n",
       "        text-align: right;\n",
       "    }\n",
       "</style>\n",
       "<table border=\"1\" class=\"dataframe\">\n",
       "  <thead>\n",
       "    <tr style=\"text-align: right;\">\n",
       "      <th></th>\n",
       "      <th>batch_folder</th>\n",
       "      <th>batch_file</th>\n",
       "      <th>doc_id</th>\n",
       "      <th>doi</th>\n",
       "      <th>pmc</th>\n",
       "      <th>pmid</th>\n",
       "      <th>section</th>\n",
       "      <th>published_year</th>\n",
       "    </tr>\n",
       "  </thead>\n",
       "  <tbody>\n",
       "    <tr>\n",
       "      <th>0</th>\n",
       "      <td>BioCXML.3.gz</td>\n",
       "      <td>output/BioCXML/10003.bioc.xml</td>\n",
       "      <td>3616644</td>\n",
       "      <td>10.1021/ja307276z</td>\n",
       "      <td>3616644</td>\n",
       "      <td>22946616.0</td>\n",
       "      <td>ABSTRACT|DISCUSS|FIG|INTRO|METHODS|REF|RESULTS...</td>\n",
       "      <td>2012</td>\n",
       "    </tr>\n",
       "    <tr>\n",
       "      <th>1</th>\n",
       "      <td>BioCXML.3.gz</td>\n",
       "      <td>output/BioCXML/10003.bioc.xml</td>\n",
       "      <td>3616678</td>\n",
       "      <td>10.1097/ADT.0b013e31815c2ded</td>\n",
       "      <td>3616678</td>\n",
       "      <td>23565053.0</td>\n",
       "      <td>ABSTRACT|DISCUSS|INTRO|METHODS|REF|RESULTS|TAB...</td>\n",
       "      <td>2008</td>\n",
       "    </tr>\n",
       "    <tr>\n",
       "      <th>2</th>\n",
       "      <td>BioCXML.3.gz</td>\n",
       "      <td>output/BioCXML/10003.bioc.xml</td>\n",
       "      <td>3616697</td>\n",
       "      <td>10.1093/nar/gkt072</td>\n",
       "      <td>3616697</td>\n",
       "      <td>23396444.0</td>\n",
       "      <td>ABSTRACT|ACK_FUND|CONCL|FIG|INTRO|METHODS|REF|...</td>\n",
       "      <td>2013</td>\n",
       "    </tr>\n",
       "    <tr>\n",
       "      <th>3</th>\n",
       "      <td>BioCXML.3.gz</td>\n",
       "      <td>output/BioCXML/10003.bioc.xml</td>\n",
       "      <td>3616698</td>\n",
       "      <td>10.1093/nar/gkt006</td>\n",
       "      <td>3616698</td>\n",
       "      <td>23335781.0</td>\n",
       "      <td>ABSTRACT|ACK_FUND|DISCUSS|FIG|INTRO|METHODS|RE...</td>\n",
       "      <td>2013</td>\n",
       "    </tr>\n",
       "    <tr>\n",
       "      <th>4</th>\n",
       "      <td>BioCXML.3.gz</td>\n",
       "      <td>output/BioCXML/10003.bioc.xml</td>\n",
       "      <td>3616699</td>\n",
       "      <td>10.1093/nar/gkt030</td>\n",
       "      <td>3616699</td>\n",
       "      <td>23393190.0</td>\n",
       "      <td>ABSTRACT|ACK_FUND|DISCUSS|FIG|INTRO|METHODS|RE...</td>\n",
       "      <td>2013</td>\n",
       "    </tr>\n",
       "  </tbody>\n",
       "</table>\n",
       "</div>"
      ],
      "text/plain": [
       "   batch_folder                     batch_file   doc_id  \\\n",
       "0  BioCXML.3.gz  output/BioCXML/10003.bioc.xml  3616644   \n",
       "1  BioCXML.3.gz  output/BioCXML/10003.bioc.xml  3616678   \n",
       "2  BioCXML.3.gz  output/BioCXML/10003.bioc.xml  3616697   \n",
       "3  BioCXML.3.gz  output/BioCXML/10003.bioc.xml  3616698   \n",
       "4  BioCXML.3.gz  output/BioCXML/10003.bioc.xml  3616699   \n",
       "\n",
       "                            doi      pmc        pmid  \\\n",
       "0             10.1021/ja307276z  3616644  22946616.0   \n",
       "1  10.1097/ADT.0b013e31815c2ded  3616678  23565053.0   \n",
       "2            10.1093/nar/gkt072  3616697  23396444.0   \n",
       "3            10.1093/nar/gkt006  3616698  23335781.0   \n",
       "4            10.1093/nar/gkt030  3616699  23393190.0   \n",
       "\n",
       "                                             section  published_year  \n",
       "0  ABSTRACT|DISCUSS|FIG|INTRO|METHODS|REF|RESULTS...            2012  \n",
       "1  ABSTRACT|DISCUSS|INTRO|METHODS|REF|RESULTS|TAB...            2008  \n",
       "2  ABSTRACT|ACK_FUND|CONCL|FIG|INTRO|METHODS|REF|...            2013  \n",
       "3  ABSTRACT|ACK_FUND|DISCUSS|FIG|INTRO|METHODS|RE...            2013  \n",
       "4  ABSTRACT|ACK_FUND|DISCUSS|FIG|INTRO|METHODS|RE...            2013  "
      ]
     },
     "execution_count": 14,
     "metadata": {},
     "output_type": "execute_result"
    }
   ],
   "source": [
    "pubtator_central_metadata_df = pd.read_csv(\"output/pmc_metadata.tsv.xz\", sep=\"\\t\")\n",
    "print(pubtator_central_metadata_df.shape)\n",
    "pubtator_central_metadata_df.head()"
   ]
  },
  {
   "cell_type": "code",
   "execution_count": 15,
   "metadata": {
    "ExecuteTime": {
     "end_time": "2021-06-18T18:08:17.315852Z",
     "start_time": "2021-06-18T18:08:11.042654Z"
    }
   },
   "outputs": [
    {
     "data": {
      "text/html": [
       "<div>\n",
       "<style scoped>\n",
       "    .dataframe tbody tr th:only-of-type {\n",
       "        vertical-align: middle;\n",
       "    }\n",
       "\n",
       "    .dataframe tbody tr th {\n",
       "        vertical-align: top;\n",
       "    }\n",
       "\n",
       "    .dataframe thead th {\n",
       "        text-align: right;\n",
       "    }\n",
       "</style>\n",
       "<table border=\"1\" class=\"dataframe\">\n",
       "  <thead>\n",
       "    <tr style=\"text-align: right;\">\n",
       "      <th></th>\n",
       "      <th>batch_folder</th>\n",
       "      <th>batch_file</th>\n",
       "    </tr>\n",
       "  </thead>\n",
       "  <tbody>\n",
       "    <tr>\n",
       "      <th>0</th>\n",
       "      <td>BioCXML.0.gz</td>\n",
       "      <td>[output/BioCXML/1000.bioc.xml, output/BioCXML/...</td>\n",
       "    </tr>\n",
       "    <tr>\n",
       "      <th>1</th>\n",
       "      <td>BioCXML.1.gz</td>\n",
       "      <td>[output/BioCXML/10001.bioc.xml, output/BioCXML...</td>\n",
       "    </tr>\n",
       "    <tr>\n",
       "      <th>2</th>\n",
       "      <td>BioCXML.2.gz</td>\n",
       "      <td>[output/BioCXML/10002.bioc.xml, output/BioCXML...</td>\n",
       "    </tr>\n",
       "    <tr>\n",
       "      <th>3</th>\n",
       "      <td>BioCXML.3.gz</td>\n",
       "      <td>[output/BioCXML/10003.bioc.xml, output/BioCXML...</td>\n",
       "    </tr>\n",
       "    <tr>\n",
       "      <th>4</th>\n",
       "      <td>BioCXML.4.gz</td>\n",
       "      <td>[output/BioCXML/10004.bioc.xml, output/BioCXML...</td>\n",
       "    </tr>\n",
       "  </tbody>\n",
       "</table>\n",
       "</div>"
      ],
      "text/plain": [
       "   batch_folder                                         batch_file\n",
       "0  BioCXML.0.gz  [output/BioCXML/1000.bioc.xml, output/BioCXML/...\n",
       "1  BioCXML.1.gz  [output/BioCXML/10001.bioc.xml, output/BioCXML...\n",
       "2  BioCXML.2.gz  [output/BioCXML/10002.bioc.xml, output/BioCXML...\n",
       "3  BioCXML.3.gz  [output/BioCXML/10003.bioc.xml, output/BioCXML...\n",
       "4  BioCXML.4.gz  [output/BioCXML/10004.bioc.xml, output/BioCXML..."
      ]
     },
     "execution_count": 15,
     "metadata": {},
     "output_type": "execute_result"
    }
   ],
   "source": [
    "year_mapper_df = (\n",
    "    pubtator_central_metadata_df.query(\"doi.str.contains('10.1093', na=False)\")\n",
    "    .groupby([\"batch_folder\"])\n",
    "    .agg({\"batch_file\": \"unique\"})\n",
    "    .reset_index()\n",
    ")\n",
    "year_mapper_df.head()"
   ]
  },
  {
   "cell_type": "code",
   "execution_count": 16,
   "metadata": {
    "ExecuteTime": {
     "end_time": "2021-06-18T18:08:17.336521Z",
     "start_time": "2021-06-18T18:08:17.317034Z"
    }
   },
   "outputs": [
    {
     "name": "stderr",
     "output_type": "stream",
     "text": [
      "10it [00:00, 4760.84it/s]\n"
     ]
    }
   ],
   "source": [
    "batch_file_year_dict = {}\n",
    "for idx, row in tqdm.tqdm(year_mapper_df.iterrows()):\n",
    "    batch_file_year_dict[row[\"batch_folder\"]] = list(row[\"batch_file\"])"
   ]
  },
  {
   "cell_type": "code",
   "execution_count": 17,
   "metadata": {
    "ExecuteTime": {
     "end_time": "2021-06-18T18:08:17.429276Z",
     "start_time": "2021-06-18T18:08:17.337669Z"
    }
   },
   "outputs": [],
   "source": [
    "tokens_by_year = defaultdict(Counter)\n",
    "sentence_iterator = PubMedSentencesIterator(\n",
    "    pubtator_abstract_batch,\n",
    "    year_filter=list(range(1990, datetime.now().year + 1, 1)),\n",
    "    batch_mapper=batch_file_year_dict,\n",
    "    return_year=True,\n",
    "    tag_entities=False,\n",
    "    jobs=3,\n",
    ")"
   ]
  },
  {
   "cell_type": "code",
   "execution_count": 18,
   "metadata": {
    "ExecuteTime": {
     "end_time": "2021-06-18T20:04:29.673095Z",
     "start_time": "2021-06-18T18:08:17.430680Z"
    }
   },
   "outputs": [
    {
     "name": "stderr",
     "output_type": "stream",
     "text": [
      "1425468it [23:00, 845.08it/s] "
     ]
    },
    {
     "name": "stdout",
     "output_type": "stream",
     "text": [
      "Parsing the archive reached an error. Breaking out the loop\n"
     ]
    },
    {
     "name": "stderr",
     "output_type": "stream",
     "text": [
      "6400577it [1:56:12, 918.01it/s] \n"
     ]
    }
   ],
   "source": [
    "if not Path(\"output/single_journal_results.pkl\").exists():\n",
    "    for year, sentence, doc_id in tqdm.tqdm(sentence_iterator):\n",
    "        tokens_by_year[year].update(Counter(sentence))"
   ]
  },
  {
   "cell_type": "code",
   "execution_count": 19,
   "metadata": {
    "ExecuteTime": {
     "end_time": "2021-06-18T20:13:41.089218Z",
     "start_time": "2021-06-18T20:13:28.947803Z"
    }
   },
   "outputs": [],
   "source": [
    "data_rows = []\n",
    "reversed_tokens = list(sorted(tokens_by_year.keys()))[::-1]\n",
    "all_tokens = set(tokens_by_year[2020].keys())\n",
    "\n",
    "for query_year in reversed_tokens[2:22]:\n",
    "    np.random.seed(100)\n",
    "    avail_tokens = list(tokens_by_year[query_year].keys())\n",
    "    if len(avail_tokens) > len(all_tokens):\n",
    "        avail_tokens = set(\n",
    "            np.random.choice(avail_tokens, len(all_tokens), replace=False)\n",
    "        )\n",
    "        total_tokens = all_tokens\n",
    "    else:\n",
    "        total_tokens = set(\n",
    "            np.random.choice(list(all_tokens), len(avail_tokens), replace=False)\n",
    "        )\n",
    "\n",
    "    query_year_vocab_set = set(avail_tokens)\n",
    "    tokens_matched = total_tokens & query_year_vocab_set\n",
    "\n",
    "    data_rows.append(\n",
    "        {\n",
    "            \"years\": str(query_year) if query_year != 2020 else \"2020\",\n",
    "            \"percentage_tokens_mapped\": len(tokens_matched) / len(total_tokens),\n",
    "            \"num_tokens_matched\": len(tokens_matched),\n",
    "            \"num_tokens_total\": len(total_tokens),\n",
    "        }\n",
    "    )"
   ]
  },
  {
   "cell_type": "code",
   "execution_count": 20,
   "metadata": {
    "ExecuteTime": {
     "end_time": "2021-06-18T20:13:41.116499Z",
     "start_time": "2021-06-18T20:13:41.090680Z"
    }
   },
   "outputs": [
    {
     "data": {
      "text/html": [
       "<div>\n",
       "<style scoped>\n",
       "    .dataframe tbody tr th:only-of-type {\n",
       "        vertical-align: middle;\n",
       "    }\n",
       "\n",
       "    .dataframe tbody tr th {\n",
       "        vertical-align: top;\n",
       "    }\n",
       "\n",
       "    .dataframe thead th {\n",
       "        text-align: right;\n",
       "    }\n",
       "</style>\n",
       "<table border=\"1\" class=\"dataframe\">\n",
       "  <thead>\n",
       "    <tr style=\"text-align: right;\">\n",
       "      <th></th>\n",
       "      <th>years</th>\n",
       "      <th>percentage_tokens_mapped</th>\n",
       "      <th>num_tokens_matched</th>\n",
       "      <th>num_tokens_total</th>\n",
       "    </tr>\n",
       "  </thead>\n",
       "  <tbody>\n",
       "    <tr>\n",
       "      <th>0</th>\n",
       "      <td>2019</td>\n",
       "      <td>0.363830</td>\n",
       "      <td>124733</td>\n",
       "      <td>342833</td>\n",
       "    </tr>\n",
       "    <tr>\n",
       "      <th>1</th>\n",
       "      <td>2018</td>\n",
       "      <td>0.406014</td>\n",
       "      <td>139195</td>\n",
       "      <td>342833</td>\n",
       "    </tr>\n",
       "    <tr>\n",
       "      <th>2</th>\n",
       "      <td>2017</td>\n",
       "      <td>0.419432</td>\n",
       "      <td>131975</td>\n",
       "      <td>314652</td>\n",
       "    </tr>\n",
       "    <tr>\n",
       "      <th>3</th>\n",
       "      <td>2016</td>\n",
       "      <td>0.431919</td>\n",
       "      <td>148076</td>\n",
       "      <td>342833</td>\n",
       "    </tr>\n",
       "    <tr>\n",
       "      <th>4</th>\n",
       "      <td>2015</td>\n",
       "      <td>0.428917</td>\n",
       "      <td>147047</td>\n",
       "      <td>342833</td>\n",
       "    </tr>\n",
       "    <tr>\n",
       "      <th>5</th>\n",
       "      <td>2014</td>\n",
       "      <td>0.399957</td>\n",
       "      <td>119745</td>\n",
       "      <td>299395</td>\n",
       "    </tr>\n",
       "    <tr>\n",
       "      <th>6</th>\n",
       "      <td>2013</td>\n",
       "      <td>0.365944</td>\n",
       "      <td>93450</td>\n",
       "      <td>255367</td>\n",
       "    </tr>\n",
       "    <tr>\n",
       "      <th>7</th>\n",
       "      <td>2012</td>\n",
       "      <td>0.346758</td>\n",
       "      <td>83982</td>\n",
       "      <td>242192</td>\n",
       "    </tr>\n",
       "    <tr>\n",
       "      <th>8</th>\n",
       "      <td>2011</td>\n",
       "      <td>0.327167</td>\n",
       "      <td>72647</td>\n",
       "      <td>222049</td>\n",
       "    </tr>\n",
       "    <tr>\n",
       "      <th>9</th>\n",
       "      <td>2010</td>\n",
       "      <td>0.304935</td>\n",
       "      <td>60378</td>\n",
       "      <td>198003</td>\n",
       "    </tr>\n",
       "    <tr>\n",
       "      <th>10</th>\n",
       "      <td>2009</td>\n",
       "      <td>0.284780</td>\n",
       "      <td>51087</td>\n",
       "      <td>179391</td>\n",
       "    </tr>\n",
       "    <tr>\n",
       "      <th>11</th>\n",
       "      <td>2008</td>\n",
       "      <td>0.236474</td>\n",
       "      <td>31479</td>\n",
       "      <td>133118</td>\n",
       "    </tr>\n",
       "    <tr>\n",
       "      <th>12</th>\n",
       "      <td>2007</td>\n",
       "      <td>0.156305</td>\n",
       "      <td>11482</td>\n",
       "      <td>73459</td>\n",
       "    </tr>\n",
       "    <tr>\n",
       "      <th>13</th>\n",
       "      <td>2006</td>\n",
       "      <td>0.139218</td>\n",
       "      <td>8936</td>\n",
       "      <td>64187</td>\n",
       "    </tr>\n",
       "    <tr>\n",
       "      <th>14</th>\n",
       "      <td>2005</td>\n",
       "      <td>0.127440</td>\n",
       "      <td>7456</td>\n",
       "      <td>58506</td>\n",
       "    </tr>\n",
       "    <tr>\n",
       "      <th>15</th>\n",
       "      <td>2004</td>\n",
       "      <td>0.079102</td>\n",
       "      <td>2530</td>\n",
       "      <td>31984</td>\n",
       "    </tr>\n",
       "    <tr>\n",
       "      <th>16</th>\n",
       "      <td>2003</td>\n",
       "      <td>0.057950</td>\n",
       "      <td>1330</td>\n",
       "      <td>22951</td>\n",
       "    </tr>\n",
       "    <tr>\n",
       "      <th>17</th>\n",
       "      <td>2002</td>\n",
       "      <td>0.058472</td>\n",
       "      <td>1320</td>\n",
       "      <td>22575</td>\n",
       "    </tr>\n",
       "    <tr>\n",
       "      <th>18</th>\n",
       "      <td>2001</td>\n",
       "      <td>0.048629</td>\n",
       "      <td>929</td>\n",
       "      <td>19104</td>\n",
       "    </tr>\n",
       "    <tr>\n",
       "      <th>19</th>\n",
       "      <td>2000</td>\n",
       "      <td>0.043496</td>\n",
       "      <td>759</td>\n",
       "      <td>17450</td>\n",
       "    </tr>\n",
       "  </tbody>\n",
       "</table>\n",
       "</div>"
      ],
      "text/plain": [
       "   years  percentage_tokens_mapped  num_tokens_matched  num_tokens_total\n",
       "0   2019                  0.363830              124733            342833\n",
       "1   2018                  0.406014              139195            342833\n",
       "2   2017                  0.419432              131975            314652\n",
       "3   2016                  0.431919              148076            342833\n",
       "4   2015                  0.428917              147047            342833\n",
       "5   2014                  0.399957              119745            299395\n",
       "6   2013                  0.365944               93450            255367\n",
       "7   2012                  0.346758               83982            242192\n",
       "8   2011                  0.327167               72647            222049\n",
       "9   2010                  0.304935               60378            198003\n",
       "10  2009                  0.284780               51087            179391\n",
       "11  2008                  0.236474               31479            133118\n",
       "12  2007                  0.156305               11482             73459\n",
       "13  2006                  0.139218                8936             64187\n",
       "14  2005                  0.127440                7456             58506\n",
       "15  2004                  0.079102                2530             31984\n",
       "16  2003                  0.057950                1330             22951\n",
       "17  2002                  0.058472                1320             22575\n",
       "18  2001                  0.048629                 929             19104\n",
       "19  2000                  0.043496                 759             17450"
      ]
     },
     "execution_count": 20,
     "metadata": {},
     "output_type": "execute_result"
    }
   ],
   "source": [
    "token_overlap_df = pd.DataFrame.from_dict(data_rows)\n",
    "token_overlap_df"
   ]
  },
  {
   "cell_type": "code",
   "execution_count": 21,
   "metadata": {
    "ExecuteTime": {
     "end_time": "2021-06-18T20:19:56.398243Z",
     "start_time": "2021-06-18T20:19:55.326067Z"
    }
   },
   "outputs": [
    {
     "name": "stderr",
     "output_type": "stream",
     "text": [
      "/home/danich1/anaconda3/envs/biovectors/lib/python3.7/site-packages/plotnine/ggplot.py:721: PlotnineWarning: Saving 6.4 x 4.8 in image.\n",
      "/home/danich1/anaconda3/envs/biovectors/lib/python3.7/site-packages/plotnine/ggplot.py:722: PlotnineWarning: Filename: output/figures/same_journal_tokens_overlap.png\n"
     ]
    },
    {
     "data": {
      "image/png": "[encoded data removed]",
      "text/plain": [
       "<Figure size 640x480 with 1 Axes>"
      ]
     },
     "metadata": {},
     "output_type": "display_data"
    },
    {
     "name": "stdout",
     "output_type": "stream",
     "text": [
      "\n"
     ]
    }
   ],
   "source": [
    "g = (\n",
    "    p9.ggplot(\n",
    "        equal_token_overlap_df,\n",
    "        p9.aes(x=\"years\", y=\"percentage_tokens_mapped\"),\n",
    "    )\n",
    "    + p9.geom_col(fill=\"#1f78b4\")\n",
    "    + p9.coord_flip()\n",
    "    + p9.labs(\n",
    "        title=\"Token Overlap across the Years (One Journal)\",\n",
    "        x=\"Year\",\n",
    "        y=\"Fraction of Tokens Overlapped\",\n",
    "    )\n",
    ")\n",
    "g.save(\"output/figures/same_journal_tokens_overlap.png\", dpi=500)\n",
    "print(g)"
   ]
  },
  {
   "cell_type": "markdown",
   "metadata": {},
   "source": [
    "# Conclusions"
   ]
  },
  {
   "cell_type": "markdown",
   "metadata": {},
   "source": [
    "1. The small number of mismatches appear to be the result of not using a lemmatizer along with general changes in scientific publications overtime.\n",
    "2. Numbers could improve if I were to correct for the issues mentioned above; however, the overall message here is that earlier years have a bias that I nee"
   ]
  }
 ],
 "metadata": {
  "jupytext": {
   "formats": "ipynb,py"
  },
  "kernelspec": {
   "display_name": "Python [conda env:biovectors]",
   "language": "python",
   "name": "conda-env-biovectors-py"
  },
  "language_info": {
   "codemirror_mode": {
    "name": "ipython",
    "version": 3
   },
   "file_extension": ".py",
   "mimetype": "text/x-python",
   "name": "python",
   "nbconvert_exporter": "python",
   "pygments_lexer": "ipython3",
   "version": "3.7.2"
  },
  "toc": {
   "base_numbering": 1,
   "nav_menu": {},
   "number_sections": true,
   "sideBar": true,
   "skip_h1_title": false,
   "title_cell": "Table of Contents",
   "title_sidebar": "Contents",
   "toc_cell": false,
   "toc_position": {},
   "toc_section_display": true,
   "toc_window_display": false
  }
 },
 "nbformat": 4,
 "nbformat_minor": 2
}
