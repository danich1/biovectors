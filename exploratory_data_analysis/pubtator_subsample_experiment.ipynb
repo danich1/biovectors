{
 "cells": [
  {
   "cell_type": "markdown",
   "metadata": {},
   "source": [
    "# Subsample Document Experiment"
   ]
  },
  {
   "cell_type": "markdown",
   "metadata": {},
   "source": [
    "This notebook is designed to follow up on the decrease in token overlap between abstracts across the years. The hypothesis is that the small fraction of tokens shared across the years is due to the small number of available documents. To test theory documents posted in the years that have a high count are subsampled to be equal to the number of documents in the early most year (2000). After subsampling, the tokens are compared to see if the fraction of tokens shared changes."
   ]
  },
  {
   "cell_type": "code",
   "execution_count": 1,
   "metadata": {
    "ExecuteTime": {
     "end_time": "2021-06-04T17:11:50.245815Z",
     "start_time": "2021-06-04T17:11:47.600340Z"
    }
   },
   "outputs": [],
   "source": [
    "%load_ext autoreload\n",
    "%autoreload 2\n",
    "\n",
    "from collections import defaultdict, Counter\n",
    "import csv\n",
    "from datetime import datetime\n",
    "import itertools\n",
    "from pathlib import Path\n",
    "import pickle\n",
    "\n",
    "import lxml.etree as ET\n",
    "import numpy as np\n",
    "import pandas as pd\n",
    "import plotnine as p9\n",
    "import tqdm\n",
    "\n",
    "from biovectors_modules.word2vec_run_helper import (\n",
    "    PubMedSentencesIterator,\n",
    "    PubtatorTarIterator,\n",
    "    chunks,\n",
    ")"
   ]
  },
  {
   "cell_type": "markdown",
   "metadata": {},
   "source": [
    "# Load the Data"
   ]
  },
  {
   "cell_type": "code",
   "execution_count": 2,
   "metadata": {
    "ExecuteTime": {
     "end_time": "2021-06-04T17:11:53.434537Z",
     "start_time": "2021-06-04T17:11:50.250558Z"
    }
   },
   "outputs": [],
   "source": [
    "pickle_file = \"output/unique_tokens_by_year_replace.pkl\"\n",
    "tokens_by_year = pickle.load(open(pickle_file, \"rb\"))"
   ]
  },
  {
   "cell_type": "markdown",
   "metadata": {},
   "source": [
    "# Compare Number of Tokens"
   ]
  },
  {
   "cell_type": "markdown",
   "metadata": {},
   "source": [
    "## Equal Number of Tokens for each YEar"
   ]
  },
  {
   "cell_type": "code",
   "execution_count": 3,
   "metadata": {
    "ExecuteTime": {
     "end_time": "2021-06-04T17:12:12.573681Z",
     "start_time": "2021-06-04T17:11:53.439174Z"
    }
   },
   "outputs": [],
   "source": [
    "data_rows = []\n",
    "reversed_tokens = list(sorted(tokens_by_year.keys()))[::-1]\n",
    "all_tokens = set(tokens_by_year[2020].keys())\n",
    "\n",
    "for query_year in reversed_tokens[2:22]:\n",
    "    np.random.seed(100)\n",
    "    avail_tokens = list(tokens_by_year[query_year].keys())\n",
    "    if len(avail_tokens) > len(all_tokens):\n",
    "        avail_tokens = set(\n",
    "            np.random.choice(avail_tokens, len(all_tokens), replace=False)\n",
    "        )\n",
    "        total_tokens = all_tokens\n",
    "    else:\n",
    "        total_tokens = set(\n",
    "            np.random.choice(list(all_tokens), len(avail_tokens), replace=False)\n",
    "        )\n",
    "\n",
    "    query_year_vocab_set = set(avail_tokens)\n",
    "    tokens_matched = total_tokens & query_year_vocab_set\n",
    "\n",
    "    data_rows.append(\n",
    "        {\n",
    "            \"years\": str(query_year) if query_year != 2020 else \"2020\",\n",
    "            \"percentage_tokens_mapped\": len(tokens_matched) / len(total_tokens),\n",
    "            \"num_tokens_matched\": len(tokens_matched),\n",
    "            \"num_tokens_total\": len(total_tokens),\n",
    "        }\n",
    "    )"
   ]
  },
  {
   "cell_type": "code",
   "execution_count": 4,
   "metadata": {
    "ExecuteTime": {
     "end_time": "2021-06-04T17:12:12.646238Z",
     "start_time": "2021-06-04T17:12:12.578132Z"
    }
   },
   "outputs": [
    {
     "data": {
      "text/html": [
       "<div>\n",
       "<style scoped>\n",
       "    .dataframe tbody tr th:only-of-type {\n",
       "        vertical-align: middle;\n",
       "    }\n",
       "\n",
       "    .dataframe tbody tr th {\n",
       "        vertical-align: top;\n",
       "    }\n",
       "\n",
       "    .dataframe thead th {\n",
       "        text-align: right;\n",
       "    }\n",
       "</style>\n",
       "<table border=\"1\" class=\"dataframe\">\n",
       "  <thead>\n",
       "    <tr style=\"text-align: right;\">\n",
       "      <th></th>\n",
       "      <th>years</th>\n",
       "      <th>percentage_tokens_mapped</th>\n",
       "      <th>num_tokens_matched</th>\n",
       "      <th>num_tokens_total</th>\n",
       "    </tr>\n",
       "  </thead>\n",
       "  <tbody>\n",
       "    <tr>\n",
       "      <th>0</th>\n",
       "      <td>2019</td>\n",
       "      <td>0.362154</td>\n",
       "      <td>205083</td>\n",
       "      <td>566286</td>\n",
       "    </tr>\n",
       "    <tr>\n",
       "      <th>1</th>\n",
       "      <td>2018</td>\n",
       "      <td>0.376278</td>\n",
       "      <td>213081</td>\n",
       "      <td>566286</td>\n",
       "    </tr>\n",
       "    <tr>\n",
       "      <th>2</th>\n",
       "      <td>2017</td>\n",
       "      <td>0.381459</td>\n",
       "      <td>216015</td>\n",
       "      <td>566286</td>\n",
       "    </tr>\n",
       "    <tr>\n",
       "      <th>3</th>\n",
       "      <td>2016</td>\n",
       "      <td>0.395007</td>\n",
       "      <td>223687</td>\n",
       "      <td>566286</td>\n",
       "    </tr>\n",
       "    <tr>\n",
       "      <th>4</th>\n",
       "      <td>2015</td>\n",
       "      <td>0.405168</td>\n",
       "      <td>229441</td>\n",
       "      <td>566286</td>\n",
       "    </tr>\n",
       "    <tr>\n",
       "      <th>5</th>\n",
       "      <td>2014</td>\n",
       "      <td>0.394507</td>\n",
       "      <td>209433</td>\n",
       "      <td>530873</td>\n",
       "    </tr>\n",
       "    <tr>\n",
       "      <th>6</th>\n",
       "      <td>2013</td>\n",
       "      <td>0.366697</td>\n",
       "      <td>171041</td>\n",
       "      <td>466437</td>\n",
       "    </tr>\n",
       "    <tr>\n",
       "      <th>7</th>\n",
       "      <td>2012</td>\n",
       "      <td>0.339261</td>\n",
       "      <td>142017</td>\n",
       "      <td>418607</td>\n",
       "    </tr>\n",
       "    <tr>\n",
       "      <th>8</th>\n",
       "      <td>2011</td>\n",
       "      <td>0.315867</td>\n",
       "      <td>119056</td>\n",
       "      <td>376918</td>\n",
       "    </tr>\n",
       "    <tr>\n",
       "      <th>9</th>\n",
       "      <td>2010</td>\n",
       "      <td>0.288721</td>\n",
       "      <td>94638</td>\n",
       "      <td>327784</td>\n",
       "    </tr>\n",
       "    <tr>\n",
       "      <th>10</th>\n",
       "      <td>2009</td>\n",
       "      <td>0.260858</td>\n",
       "      <td>73963</td>\n",
       "      <td>283537</td>\n",
       "    </tr>\n",
       "    <tr>\n",
       "      <th>11</th>\n",
       "      <td>2008</td>\n",
       "      <td>0.208679</td>\n",
       "      <td>42141</td>\n",
       "      <td>201942</td>\n",
       "    </tr>\n",
       "    <tr>\n",
       "      <th>12</th>\n",
       "      <td>2007</td>\n",
       "      <td>0.149528</td>\n",
       "      <td>17912</td>\n",
       "      <td>119790</td>\n",
       "    </tr>\n",
       "    <tr>\n",
       "      <th>13</th>\n",
       "      <td>2006</td>\n",
       "      <td>0.124830</td>\n",
       "      <td>11642</td>\n",
       "      <td>93263</td>\n",
       "    </tr>\n",
       "    <tr>\n",
       "      <th>14</th>\n",
       "      <td>2005</td>\n",
       "      <td>0.102061</td>\n",
       "      <td>7669</td>\n",
       "      <td>75141</td>\n",
       "    </tr>\n",
       "    <tr>\n",
       "      <th>15</th>\n",
       "      <td>2004</td>\n",
       "      <td>0.082760</td>\n",
       "      <td>4727</td>\n",
       "      <td>57117</td>\n",
       "    </tr>\n",
       "    <tr>\n",
       "      <th>16</th>\n",
       "      <td>2003</td>\n",
       "      <td>0.068616</td>\n",
       "      <td>3205</td>\n",
       "      <td>46709</td>\n",
       "    </tr>\n",
       "    <tr>\n",
       "      <th>17</th>\n",
       "      <td>2002</td>\n",
       "      <td>0.067823</td>\n",
       "      <td>3159</td>\n",
       "      <td>46577</td>\n",
       "    </tr>\n",
       "    <tr>\n",
       "      <th>18</th>\n",
       "      <td>2001</td>\n",
       "      <td>0.061789</td>\n",
       "      <td>2636</td>\n",
       "      <td>42661</td>\n",
       "    </tr>\n",
       "    <tr>\n",
       "      <th>19</th>\n",
       "      <td>2000</td>\n",
       "      <td>0.054128</td>\n",
       "      <td>1993</td>\n",
       "      <td>36820</td>\n",
       "    </tr>\n",
       "  </tbody>\n",
       "</table>\n",
       "</div>"
      ],
      "text/plain": [
       "   years  percentage_tokens_mapped  num_tokens_matched  num_tokens_total\n",
       "0   2019                  0.362154              205083            566286\n",
       "1   2018                  0.376278              213081            566286\n",
       "2   2017                  0.381459              216015            566286\n",
       "3   2016                  0.395007              223687            566286\n",
       "4   2015                  0.405168              229441            566286\n",
       "5   2014                  0.394507              209433            530873\n",
       "6   2013                  0.366697              171041            466437\n",
       "7   2012                  0.339261              142017            418607\n",
       "8   2011                  0.315867              119056            376918\n",
       "9   2010                  0.288721               94638            327784\n",
       "10  2009                  0.260858               73963            283537\n",
       "11  2008                  0.208679               42141            201942\n",
       "12  2007                  0.149528               17912            119790\n",
       "13  2006                  0.124830               11642             93263\n",
       "14  2005                  0.102061                7669             75141\n",
       "15  2004                  0.082760                4727             57117\n",
       "16  2003                  0.068616                3205             46709\n",
       "17  2002                  0.067823                3159             46577\n",
       "18  2001                  0.061789                2636             42661\n",
       "19  2000                  0.054128                1993             36820"
      ]
     },
     "execution_count": 4,
     "metadata": {},
     "output_type": "execute_result"
    }
   ],
   "source": [
    "token_overlap_df = pd.DataFrame.from_dict(data_rows)\n",
    "token_overlap_df"
   ]
  },
  {
   "cell_type": "code",
   "execution_count": 5,
   "metadata": {
    "ExecuteTime": {
     "end_time": "2021-06-04T17:12:13.984566Z",
     "start_time": "2021-06-04T17:12:12.651018Z"
    }
   },
   "outputs": [
    {
     "name": "stderr",
     "output_type": "stream",
     "text": [
      "/home/danich1/anaconda3/envs/biovectors/lib/python3.7/site-packages/plotnine/ggplot.py:721: PlotnineWarning: Saving 6.4 x 4.8 in image.\n",
      "/home/danich1/anaconda3/envs/biovectors/lib/python3.7/site-packages/plotnine/ggplot.py:722: PlotnineWarning: Filename: output/figures/subsampled_tokens_overlap.png\n"
     ]
    },
    {
     "data": {
      "image/png": "[encoded data removed]",
      "text/plain": [
       "<Figure size 640x480 with 1 Axes>"
      ]
     },
     "metadata": {},
     "output_type": "display_data"
    },
    {
     "name": "stdout",
     "output_type": "stream",
     "text": [
      "\n"
     ]
    }
   ],
   "source": [
    "g = (\n",
    "    p9.ggplot(\n",
    "        token_overlap_df,\n",
    "        p9.aes(x=\"years\", y=\"percentage_tokens_mapped\"),\n",
    "    )\n",
    "    + p9.geom_col(fill=\"#1f78b4\")\n",
    "    + p9.coord_flip()\n",
    "    + p9.labs(\n",
    "        title=\"Token Overlap across the Years (Subsampled)\",\n",
    "        x=\"Year\",\n",
    "        y=\"Fraction of Tokens Overlapped\",\n",
    "    )\n",
    ")\n",
    "g.save(\"output/figures/subsampled_tokens_overlap.png\", dpi=500)\n",
    "print(g)"
   ]
  },
  {
   "cell_type": "markdown",
   "metadata": {},
   "source": [
    "## Equal number of tokens across each Year"
   ]
  },
  {
   "cell_type": "code",
   "execution_count": 14,
   "metadata": {
    "ExecuteTime": {
     "end_time": "2021-06-04T17:18:43.324363Z",
     "start_time": "2021-06-04T17:18:41.506341Z"
    }
   },
   "outputs": [],
   "source": [
    "data_rows = []\n",
    "reversed_tokens = list(sorted(tokens_by_year.keys()))[::-1]\n",
    "np.random.seed(100)\n",
    "all_tokens = np.random.choice(\n",
    "    sorted(list(set(tokens_by_year[2020].keys()))), len(set(tokens_by_year[2000]))\n",
    ")\n",
    "all_tokens = set(all_tokens)\n",
    "\n",
    "for query_year in reversed_tokens[2:22]:\n",
    "    avail_tokens = list(tokens_by_year[query_year].keys())\n",
    "    query_year_vocab_set = set(avail_tokens)\n",
    "    tokens_matched = all_tokens & query_year_vocab_set\n",
    "\n",
    "    data_rows.append(\n",
    "        {\n",
    "            \"years\": str(query_year) if query_year != 2020 else \"2020\",\n",
    "            \"percentage_tokens_mapped\": len(tokens_matched) / len(total_tokens),\n",
    "            \"num_tokens_matched\": len(tokens_matched),\n",
    "            \"num_tokens_total\": len(total_tokens),\n",
    "        }\n",
    "    )"
   ]
  },
  {
   "cell_type": "code",
   "execution_count": 15,
   "metadata": {
    "ExecuteTime": {
     "end_time": "2021-06-04T17:18:43.355364Z",
     "start_time": "2021-06-04T17:18:43.328845Z"
    }
   },
   "outputs": [
    {
     "data": {
      "text/html": [
       "<div>\n",
       "<style scoped>\n",
       "    .dataframe tbody tr th:only-of-type {\n",
       "        vertical-align: middle;\n",
       "    }\n",
       "\n",
       "    .dataframe tbody tr th {\n",
       "        vertical-align: top;\n",
       "    }\n",
       "\n",
       "    .dataframe thead th {\n",
       "        text-align: right;\n",
       "    }\n",
       "</style>\n",
       "<table border=\"1\" class=\"dataframe\">\n",
       "  <thead>\n",
       "    <tr style=\"text-align: right;\">\n",
       "      <th></th>\n",
       "      <th>years</th>\n",
       "      <th>percentage_tokens_mapped</th>\n",
       "      <th>num_tokens_matched</th>\n",
       "      <th>num_tokens_total</th>\n",
       "    </tr>\n",
       "  </thead>\n",
       "  <tbody>\n",
       "    <tr>\n",
       "      <th>0</th>\n",
       "      <td>2019</td>\n",
       "      <td>0.477761</td>\n",
       "      <td>17025</td>\n",
       "      <td>35635</td>\n",
       "    </tr>\n",
       "    <tr>\n",
       "      <th>1</th>\n",
       "      <td>2018</td>\n",
       "      <td>0.461933</td>\n",
       "      <td>16461</td>\n",
       "      <td>35635</td>\n",
       "    </tr>\n",
       "    <tr>\n",
       "      <th>2</th>\n",
       "      <td>2017</td>\n",
       "      <td>0.449053</td>\n",
       "      <td>16002</td>\n",
       "      <td>35635</td>\n",
       "    </tr>\n",
       "    <tr>\n",
       "      <th>3</th>\n",
       "      <td>2016</td>\n",
       "      <td>0.429606</td>\n",
       "      <td>15309</td>\n",
       "      <td>35635</td>\n",
       "    </tr>\n",
       "    <tr>\n",
       "      <th>4</th>\n",
       "      <td>2015</td>\n",
       "      <td>0.413330</td>\n",
       "      <td>14729</td>\n",
       "      <td>35635</td>\n",
       "    </tr>\n",
       "    <tr>\n",
       "      <th>5</th>\n",
       "      <td>2014</td>\n",
       "      <td>0.393265</td>\n",
       "      <td>14014</td>\n",
       "      <td>35635</td>\n",
       "    </tr>\n",
       "    <tr>\n",
       "      <th>6</th>\n",
       "      <td>2013</td>\n",
       "      <td>0.363996</td>\n",
       "      <td>12971</td>\n",
       "      <td>35635</td>\n",
       "    </tr>\n",
       "    <tr>\n",
       "      <th>7</th>\n",
       "      <td>2012</td>\n",
       "      <td>0.335709</td>\n",
       "      <td>11963</td>\n",
       "      <td>35635</td>\n",
       "    </tr>\n",
       "    <tr>\n",
       "      <th>8</th>\n",
       "      <td>2011</td>\n",
       "      <td>0.311772</td>\n",
       "      <td>11110</td>\n",
       "      <td>35635</td>\n",
       "    </tr>\n",
       "    <tr>\n",
       "      <th>9</th>\n",
       "      <td>2010</td>\n",
       "      <td>0.283373</td>\n",
       "      <td>10098</td>\n",
       "      <td>35635</td>\n",
       "    </tr>\n",
       "    <tr>\n",
       "      <th>10</th>\n",
       "      <td>2009</td>\n",
       "      <td>0.259464</td>\n",
       "      <td>9246</td>\n",
       "      <td>35635</td>\n",
       "    </tr>\n",
       "    <tr>\n",
       "      <th>11</th>\n",
       "      <td>2008</td>\n",
       "      <td>0.206510</td>\n",
       "      <td>7359</td>\n",
       "      <td>35635</td>\n",
       "    </tr>\n",
       "    <tr>\n",
       "      <th>12</th>\n",
       "      <td>2007</td>\n",
       "      <td>0.147692</td>\n",
       "      <td>5263</td>\n",
       "      <td>35635</td>\n",
       "    </tr>\n",
       "    <tr>\n",
       "      <th>13</th>\n",
       "      <td>2006</td>\n",
       "      <td>0.119545</td>\n",
       "      <td>4260</td>\n",
       "      <td>35635</td>\n",
       "    </tr>\n",
       "    <tr>\n",
       "      <th>14</th>\n",
       "      <td>2005</td>\n",
       "      <td>0.101080</td>\n",
       "      <td>3602</td>\n",
       "      <td>35635</td>\n",
       "    </tr>\n",
       "    <tr>\n",
       "      <th>15</th>\n",
       "      <td>2004</td>\n",
       "      <td>0.082447</td>\n",
       "      <td>2938</td>\n",
       "      <td>35635</td>\n",
       "    </tr>\n",
       "    <tr>\n",
       "      <th>16</th>\n",
       "      <td>2003</td>\n",
       "      <td>0.067378</td>\n",
       "      <td>2401</td>\n",
       "      <td>35635</td>\n",
       "    </tr>\n",
       "    <tr>\n",
       "      <th>17</th>\n",
       "      <td>2002</td>\n",
       "      <td>0.066480</td>\n",
       "      <td>2369</td>\n",
       "      <td>35635</td>\n",
       "    </tr>\n",
       "    <tr>\n",
       "      <th>18</th>\n",
       "      <td>2001</td>\n",
       "      <td>0.059492</td>\n",
       "      <td>2120</td>\n",
       "      <td>35635</td>\n",
       "    </tr>\n",
       "    <tr>\n",
       "      <th>19</th>\n",
       "      <td>2000</td>\n",
       "      <td>0.051410</td>\n",
       "      <td>1832</td>\n",
       "      <td>35635</td>\n",
       "    </tr>\n",
       "  </tbody>\n",
       "</table>\n",
       "</div>"
      ],
      "text/plain": [
       "   years  percentage_tokens_mapped  num_tokens_matched  num_tokens_total\n",
       "0   2019                  0.477761               17025             35635\n",
       "1   2018                  0.461933               16461             35635\n",
       "2   2017                  0.449053               16002             35635\n",
       "3   2016                  0.429606               15309             35635\n",
       "4   2015                  0.413330               14729             35635\n",
       "5   2014                  0.393265               14014             35635\n",
       "6   2013                  0.363996               12971             35635\n",
       "7   2012                  0.335709               11963             35635\n",
       "8   2011                  0.311772               11110             35635\n",
       "9   2010                  0.283373               10098             35635\n",
       "10  2009                  0.259464                9246             35635\n",
       "11  2008                  0.206510                7359             35635\n",
       "12  2007                  0.147692                5263             35635\n",
       "13  2006                  0.119545                4260             35635\n",
       "14  2005                  0.101080                3602             35635\n",
       "15  2004                  0.082447                2938             35635\n",
       "16  2003                  0.067378                2401             35635\n",
       "17  2002                  0.066480                2369             35635\n",
       "18  2001                  0.059492                2120             35635\n",
       "19  2000                  0.051410                1832             35635"
      ]
     },
     "execution_count": 15,
     "metadata": {},
     "output_type": "execute_result"
    }
   ],
   "source": [
    "equal_token_overlap_df = pd.DataFrame.from_dict(data_rows)\n",
    "equal_token_overlap_df"
   ]
  },
  {
   "cell_type": "code",
   "execution_count": 16,
   "metadata": {
    "ExecuteTime": {
     "end_time": "2021-06-04T17:18:46.848165Z",
     "start_time": "2021-06-04T17:18:45.763003Z"
    }
   },
   "outputs": [
    {
     "name": "stderr",
     "output_type": "stream",
     "text": [
      "/home/danich1/anaconda3/envs/biovectors/lib/python3.7/site-packages/plotnine/ggplot.py:721: PlotnineWarning: Saving 6.4 x 4.8 in image.\n",
      "/home/danich1/anaconda3/envs/biovectors/lib/python3.7/site-packages/plotnine/ggplot.py:722: PlotnineWarning: Filename: output/figures/subsampled_tokens_overlap.png\n"
     ]
    },
    {
     "data": {
      "image/png": "[encoded data removed]",
      "text/plain": [
       "<Figure size 640x480 with 1 Axes>"
      ]
     },
     "metadata": {},
     "output_type": "display_data"
    },
    {
     "name": "stdout",
     "output_type": "stream",
     "text": [
      "\n"
     ]
    }
   ],
   "source": [
    "g = (\n",
    "    p9.ggplot(\n",
    "        equal_token_overlap_df,\n",
    "        p9.aes(x=\"years\", y=\"percentage_tokens_mapped\"),\n",
    "    )\n",
    "    + p9.geom_col(fill=\"#1f78b4\")\n",
    "    + p9.coord_flip()\n",
    "    + p9.labs(\n",
    "        title=\"Token Overlap across the Years (Subsampled)\",\n",
    "        x=\"Year\",\n",
    "        y=\"Fraction of Tokens Overlapped\",\n",
    "    )\n",
    ")\n",
    "g.save(\"output/figures/subsampled_tokens_overlap.png\", dpi=500)\n",
    "print(g)"
   ]
  },
  {
   "cell_type": "markdown",
   "metadata": {},
   "source": [
    "# Conclusions"
   ]
  },
  {
   "cell_type": "markdown",
   "metadata": {},
   "source": [
    "1. The small number of mismatches appear to be the result of not using a lemmatizer along with general changes in scientific publications overtime.\n",
    "2. Numbers could improve if I were to correct for the issues mentioned above; however, the overall message here is that earlier years have a bias that I nee"
   ]
  }
 ],
 "metadata": {
  "jupytext": {
   "formats": "ipynb,py"
  },
  "kernelspec": {
   "display_name": "Python [conda env:biovectors]",
   "language": "python",
   "name": "conda-env-biovectors-py"
  },
  "language_info": {
   "codemirror_mode": {
    "name": "ipython",
    "version": 3
   },
   "file_extension": ".py",
   "mimetype": "text/x-python",
   "name": "python",
   "nbconvert_exporter": "python",
   "pygments_lexer": "ipython3",
   "version": "3.7.2"
  },
  "toc": {
   "base_numbering": 1,
   "nav_menu": {},
   "number_sections": true,
   "sideBar": true,
   "skip_h1_title": false,
   "title_cell": "Table of Contents",
   "title_sidebar": "Contents",
   "toc_cell": false,
   "toc_position": {},
   "toc_section_display": true,
   "toc_window_display": false
  }
 },
 "nbformat": 4,
 "nbformat_minor": 2
}
