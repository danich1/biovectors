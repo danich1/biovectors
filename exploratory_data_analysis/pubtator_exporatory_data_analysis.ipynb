{
 "cells": [
  {
   "cell_type": "markdown",
   "metadata": {},
   "source": [
    "# Pubtator Central Update"
   ]
  },
  {
   "cell_type": "markdown",
   "metadata": {},
   "source": [
    "Pubtator Central updates their data monthly; however, they changed their data to be xml format instead of common text.\n",
    "Based on this update it is imperative to know what changes have been made/format this data to make future experiments easier to work with.\n",
    "This notebook is being created to make training word2vec a whole lot easier."
   ]
  },
  {
   "cell_type": "code",
   "execution_count": 1,
   "metadata": {
    "ExecuteTime": {
     "end_time": "2021-03-01T15:40:19.211052Z",
     "start_time": "2021-03-01T15:40:17.780058Z"
    }
   },
   "outputs": [],
   "source": [
    "from collections import defaultdict, Counter\n",
    "import csv\n",
    "import itertools\n",
    "import lzma\n",
    "from pathlib import Path\n",
    "import pickle\n",
    "import tarfile\n",
    "\n",
    "import lxml.etree as ET\n",
    "import numpy as np\n",
    "import pandas as pd\n",
    "import plotnine as p9\n",
    "import tqdm\n",
    "\n",
    "from biovectors_modules.word2vec_run_helper import (\n",
    "    PubMedSentencesIterator,\n",
    "    PubtatorTarIterator,\n",
    "    chunks,\n",
    ")"
   ]
  },
  {
   "cell_type": "markdown",
   "metadata": {
    "ExecuteTime": {
     "end_time": "2021-02-14T17:47:18.089567Z",
     "start_time": "2021-02-14T17:47:18.084433Z"
    }
   },
   "source": [
    "# Look at xml example"
   ]
  },
  {
   "cell_type": "markdown",
   "metadata": {},
   "source": [
    "Lets look at an example entry for each tagged document. Looks like it is regular BioCXML format which is good for processing."
   ]
  },
  {
   "cell_type": "code",
   "execution_count": 2,
   "metadata": {
    "ExecuteTime": {
     "end_time": "2021-03-01T15:40:19.215736Z",
     "start_time": "2021-03-01T15:40:19.212526Z"
    }
   },
   "outputs": [
    {
     "name": "stdout",
     "output_type": "stream",
     "text": [
      "10\n"
     ]
    }
   ],
   "source": [
    "pubtator_abstract_batch = list(Path(\"../pubtator_abstracts\").rglob(\"*.gz\"))\n",
    "print(len(pubtator_abstract_batch))"
   ]
  },
  {
   "cell_type": "code",
   "execution_count": 3,
   "metadata": {
    "ExecuteTime": {
     "end_time": "2021-03-01T15:40:19.274011Z",
     "start_time": "2021-03-01T15:40:19.217241Z"
    },
    "scrolled": false
   },
   "outputs": [
    {
     "name": "stdout",
     "output_type": "stream",
     "text": [
      "<passage>\n",
      "  <infon key=\"section_type\">ABSTRACT</infon>\n",
      "  <infon key=\"type\">abstract</infon>\n",
      "  <offset>127</offset>\n",
      "  <text>CuA is a dinuclear mixed-valence center located in subunit 2 of the ba3 type cytochrome oxidase from Thermus thermophilus. The assembly of this site within the periplasmic membrane is believed to be mediated by the copper chaperones Sco and/or PCuAC, but the biological mechanisms are still poorly understood, thereby stimulating interest in the mechanisms of CuA formation from inorganic ions. The formulation of the CuA center as an electron-delocalized Cu1.5 - Cu1.5 system, implicates both Cu(II) and Cu(I) states in the metalation process. In earlier work we showed that selenomethionine (SeM) substitution of the coordinated M160 residue provided a ligand-directed probe for studying the copper coordination environment via the Se XAS signal, which was particularly useful for interrogating the Cu(I) states where other spectroscopic probes are absent. In the present study we have investigated the formation of mixed-valence CuA and its M160SeM derivative by stopped-flow UV-vis, EPR, and XAS at both Cu and Se edges, while the formation of fully reduced di-Cu(I) CuA has been studied by XAS alone. Our results establish the presence of previously undetected mononuclear intermediates, and show important differences from the metalation reactions of purple CuA azurin. XAS spectroscopy at Cu and Se edges has allowed us to extend mechanistic inferences to formation of the di-Cu(I) state which may be more relevant to biological CuA assembly. In particular, we find that T. thermophilus CuA assembles more rapidly than reported for other CuA systems, and that the dominant intermediate along the pathway to mixed-valence is a new green species with lambdamax = 460 nm. This intermediate has been isolated in a homogeneous state, and shown to be a mononuclear Cu(II)-(His)(Cys)2 species with no observable Cu(II)-(Met) interaction. Reduction with dithionite generates its Cu(I) homologue which is again mononuclear, but now shows a strong interaction with the Met160 thioether. The results are discussed within the framework of (i) the \"coupled distortion\" model for Cu(II) thiolates, and (ii) their relevance to biological metalation reactions of the CuA center.</text>\n",
      "  <annotation id=\"24\">\n",
      "    <infon key=\"identifier\">274</infon>\n",
      "    <infon key=\"type\">Species</infon>\n",
      "    <location offset=\"228\" length=\"20\"/>\n",
      "    <text>Thermus thermophilus</text>\n",
      "  </annotation>\n",
      "  <annotation id=\"25\">\n",
      "    <infon key=\"identifier\">274</infon>\n",
      "    <infon key=\"type\">Species</infon>\n",
      "    <location offset=\"1605\" length=\"15\"/>\n",
      "    <text>T. thermophilus</text>\n",
      "  </annotation>\n",
      "  <annotation id=\"26\">\n",
      "    <infon key=\"identifier\">-</infon>\n",
      "    <infon key=\"type\">Chemical</infon>\n",
      "    <location offset=\"371\" length=\"5\"/>\n",
      "    <text>PCuAC</text>\n",
      "  </annotation>\n",
      "  <annotation id=\"27\">\n",
      "    <infon key=\"identifier\">-</infon>\n",
      "    <infon key=\"type\">Chemical</infon>\n",
      "    <location offset=\"632\" length=\"5\"/>\n",
      "    <text>Cu(I)</text>\n",
      "  </annotation>\n",
      "  <annotation id=\"28\">\n",
      "    <infon key=\"identifier\">MESH:D003545</infon>\n",
      "    <infon key=\"type\">Chemical</infon>\n",
      "    <location offset=\"1906\" length=\"3\"/>\n",
      "    <text>Cys</text>\n",
      "  </annotation>\n",
      "  <annotation id=\"29\">\n",
      "    <infon key=\"identifier\">-</infon>\n",
      "    <infon key=\"type\">Chemical</infon>\n",
      "    <location offset=\"1893\" length=\"6\"/>\n",
      "    <text>Cu(II)</text>\n",
      "  </annotation>\n",
      "  <annotation id=\"30\">\n",
      "    <infon key=\"identifier\">-</infon>\n",
      "    <infon key=\"type\">Chemical</infon>\n",
      "    <location offset=\"2200\" length=\"16\"/>\n",
      "    <text>Cu(II) thiolates</text>\n",
      "  </annotation>\n",
      "  <annotation id=\"31\">\n",
      "    <infon key=\"identifier\">-</infon>\n",
      "    <infon key=\"type\">Chemical</infon>\n",
      "    <location offset=\"621\" length=\"6\"/>\n",
      "    <text>Cu(II)</text>\n",
      "  </annotation>\n",
      "  <annotation id=\"32\">\n",
      "    <infon key=\"identifier\">MESH:D003300</infon>\n",
      "    <infon key=\"type\">Chemical</infon>\n",
      "    <location offset=\"342\" length=\"6\"/>\n",
      "    <text>copper</text>\n",
      "  </annotation>\n",
      "  <annotation id=\"33\">\n",
      "    <infon key=\"identifier\">MESH:D004227</infon>\n",
      "    <infon key=\"type\">Chemical</infon>\n",
      "    <location offset=\"1980\" length=\"10\"/>\n",
      "    <text>dithionite</text>\n",
      "  </annotation>\n",
      "  <annotation id=\"34\">\n",
      "    <infon key=\"identifier\">-</infon>\n",
      "    <infon key=\"type\">Chemical</infon>\n",
      "    <location offset=\"2093\" length=\"16\"/>\n",
      "    <text>Met160 thioether</text>\n",
      "  </annotation>\n",
      "  <annotation id=\"35\">\n",
      "    <infon key=\"identifier\">MESH:D003300</infon>\n",
      "    <infon key=\"type\">Chemical</infon>\n",
      "    <location offset=\"821\" length=\"6\"/>\n",
      "    <text>copper</text>\n",
      "  </annotation>\n",
      "  <annotation id=\"36\">\n",
      "    <infon key=\"identifier\">MESH:D006639</infon>\n",
      "    <infon key=\"type\">Chemical</infon>\n",
      "    <location offset=\"1901\" length=\"3\"/>\n",
      "    <text>His</text>\n",
      "  </annotation>\n",
      "  <annotation id=\"37\">\n",
      "    <infon key=\"identifier\">-</infon>\n",
      "    <infon key=\"type\">Chemical</infon>\n",
      "    <location offset=\"1391\" length=\"10\"/>\n",
      "    <text>CuA azurin</text>\n",
      "  </annotation>\n",
      "  <annotation id=\"38\">\n",
      "    <infon key=\"identifier\">-</infon>\n",
      "    <infon key=\"type\">Chemical</infon>\n",
      "    <location offset=\"487\" length=\"3\"/>\n",
      "    <text>CuA</text>\n",
      "  </annotation>\n",
      "  <annotation id=\"39\">\n",
      "    <infon key=\"identifier\">MESH:D012645</infon>\n",
      "    <infon key=\"type\">Chemical</infon>\n",
      "    <location offset=\"703\" length=\"16\"/>\n",
      "    <text>selenomethionine</text>\n",
      "  </annotation>\n",
      "  <annotation id=\"40\">\n",
      "    <infon key=\"identifier\">-</infon>\n",
      "    <infon key=\"type\">Chemical</infon>\n",
      "    <location offset=\"1939\" length=\"6\"/>\n",
      "    <text>Cu(II)</text>\n",
      "  </annotation>\n",
      "  <annotation id=\"41\">\n",
      "    <infon key=\"identifier\">-</infon>\n",
      "    <infon key=\"type\">Chemical</infon>\n",
      "    <location offset=\"545\" length=\"3\"/>\n",
      "    <text>CuA</text>\n",
      "  </annotation>\n",
      "</passage>\n",
      "\n"
     ]
    }
   ],
   "source": [
    "for batch_directory in pubtator_abstract_batch:\n",
    "    for doc_obj in PubtatorTarIterator(batch_directory):\n",
    "        passages = doc_obj.xpath(\"//passage\")\n",
    "        lxml_str = ET.tostring(passages[1], pretty_print=True)\n",
    "        print(lxml_str.decode(\"utf-8\"))\n",
    "        break\n",
    "    break"
   ]
  },
  {
   "cell_type": "markdown",
   "metadata": {},
   "source": [
    "# Grab Document Metadata"
   ]
  },
  {
   "cell_type": "code",
   "execution_count": 4,
   "metadata": {
    "ExecuteTime": {
     "end_time": "2021-03-01T15:40:19.284063Z",
     "start_time": "2021-03-01T15:40:19.278442Z"
    },
    "lines_to_next_cell": 2,
    "scrolled": false
   },
   "outputs": [],
   "source": [
    "if not Path(\"output/pmc_metadata.tsv.xz\").exists():\n",
    "    with lzma.open(\"output/pmc_metadata.tsv.xz\", \"wt\") as outfile:\n",
    "        writer = csv.DictWriter(\n",
    "            outfile,\n",
    "            fieldnames=[\n",
    "                \"batch_folder\",\n",
    "                \"doc_id\",\n",
    "                \"doi\",\n",
    "                \"pmc\",\n",
    "                \"pmid\",\n",
    "                \"section\",\n",
    "                \"published_year\",\n",
    "            ],\n",
    "            delimiter=\"\\t\",\n",
    "        )\n",
    "        writer.writeheader()\n",
    "\n",
    "        # Cycle through each batch file\n",
    "        for batch_directory in pubtator_abstract_batch:\n",
    "\n",
    "            # Cycle through each document\n",
    "            for doc_obj in tqdm.tqdm(PubtatorTarIterator(batch_directory)):\n",
    "                doc_id = doc_obj.xpath(\"id/text()\")\n",
    "                doi = doc_obj.xpath(\"passage/infon[@key='article-id_doi']/text()\")\n",
    "                pmc_id = doc_obj.xpath(\"passage/infon[@key='article-id_pmc']/text()\")\n",
    "                pmid = doc_obj.xpath(\"passage/infon[@key='article-id_pmid']/text()\")\n",
    "                sections = doc_obj.xpath(\"passage/infon[@key='section_type']/text()\")\n",
    "                section_type = doc_obj.xpath(\"passage/infon[@key='type']/text()\")\n",
    "                year = doc_obj.xpath(\"passage/infon[@key='year']/text()\")\n",
    "\n",
    "                section_headers = \"|\".join(sorted(list(set(sections))))\n",
    "                section_headers_type = \"|\".join(\n",
    "                    sorted(list(set(map(lambda x: x.upper(), section_type))))\n",
    "                )\n",
    "\n",
    "                writer.writerow(\n",
    "                    {\n",
    "                        \"batch_folder\": batch_directory.name,\n",
    "                        \"doc_id\": doc_id[0],\n",
    "                        \"doi\": doi[0] if len(doi) > 0 else \"\",\n",
    "                        \"pmc\": pmc_id[0] if len(pmc_id) > 0 else \"\",\n",
    "                        \"pmid\": pmid[0] if len(pmid) > 0 else \"\",\n",
    "                        \"section\": section_headers\n",
    "                        if len(section_headers) > 0\n",
    "                        else section_headers_type,\n",
    "                        \"published_year\": year[0]\n",
    "                        if len(year) > 0\n",
    "                        else 0,  # Shouldnt get to the else statement\n",
    "                    }\n",
    "                )"
   ]
  },
  {
   "cell_type": "markdown",
   "metadata": {},
   "source": [
    "# Analyze Abstract/Full Text Dataset"
   ]
  },
  {
   "cell_type": "code",
   "execution_count": 5,
   "metadata": {
    "ExecuteTime": {
     "end_time": "2021-03-01T15:40:41.844383Z",
     "start_time": "2021-03-01T15:40:19.285232Z"
    }
   },
   "outputs": [
    {
     "name": "stderr",
     "output_type": "stream",
     "text": [
      "/home/danich1/anaconda3/envs/biovectors/lib/python3.7/site-packages/IPython/core/interactiveshell.py:3156: DtypeWarning: Columns (3) have mixed types.Specify dtype option on import or set low_memory=False.\n"
     ]
    },
    {
     "name": "stdout",
     "output_type": "stream",
     "text": [
      "(30697637, 7)\n"
     ]
    },
    {
     "data": {
      "text/html": [
       "<div>\n",
       "<style scoped>\n",
       "    .dataframe tbody tr th:only-of-type {\n",
       "        vertical-align: middle;\n",
       "    }\n",
       "\n",
       "    .dataframe tbody tr th {\n",
       "        vertical-align: top;\n",
       "    }\n",
       "\n",
       "    .dataframe thead th {\n",
       "        text-align: right;\n",
       "    }\n",
       "</style>\n",
       "<table border=\"1\" class=\"dataframe\">\n",
       "  <thead>\n",
       "    <tr style=\"text-align: right;\">\n",
       "      <th></th>\n",
       "      <th>batch_folder</th>\n",
       "      <th>doc_id</th>\n",
       "      <th>doi</th>\n",
       "      <th>pmc</th>\n",
       "      <th>pmid</th>\n",
       "      <th>section</th>\n",
       "      <th>published_year</th>\n",
       "    </tr>\n",
       "  </thead>\n",
       "  <tbody>\n",
       "    <tr>\n",
       "      <th>0</th>\n",
       "      <td>BioCXML.3.gz</td>\n",
       "      <td>3616644</td>\n",
       "      <td>10.1021/ja307276z</td>\n",
       "      <td>3616644</td>\n",
       "      <td>22946616.0</td>\n",
       "      <td>ABSTRACT|DISCUSS|FIG|INTRO|METHODS|REF|RESULTS...</td>\n",
       "      <td>2012</td>\n",
       "    </tr>\n",
       "    <tr>\n",
       "      <th>1</th>\n",
       "      <td>BioCXML.3.gz</td>\n",
       "      <td>3616678</td>\n",
       "      <td>10.1097/ADT.0b013e31815c2ded</td>\n",
       "      <td>3616678</td>\n",
       "      <td>23565053.0</td>\n",
       "      <td>ABSTRACT|DISCUSS|INTRO|METHODS|REF|RESULTS|TAB...</td>\n",
       "      <td>2008</td>\n",
       "    </tr>\n",
       "    <tr>\n",
       "      <th>2</th>\n",
       "      <td>BioCXML.3.gz</td>\n",
       "      <td>3616697</td>\n",
       "      <td>10.1093/nar/gkt072</td>\n",
       "      <td>3616697</td>\n",
       "      <td>23396444.0</td>\n",
       "      <td>ABSTRACT|ACK_FUND|CONCL|FIG|INTRO|METHODS|REF|...</td>\n",
       "      <td>2013</td>\n",
       "    </tr>\n",
       "    <tr>\n",
       "      <th>3</th>\n",
       "      <td>BioCXML.3.gz</td>\n",
       "      <td>3616698</td>\n",
       "      <td>10.1093/nar/gkt006</td>\n",
       "      <td>3616698</td>\n",
       "      <td>23335781.0</td>\n",
       "      <td>ABSTRACT|ACK_FUND|DISCUSS|FIG|INTRO|METHODS|RE...</td>\n",
       "      <td>2013</td>\n",
       "    </tr>\n",
       "    <tr>\n",
       "      <th>4</th>\n",
       "      <td>BioCXML.3.gz</td>\n",
       "      <td>3616699</td>\n",
       "      <td>10.1093/nar/gkt030</td>\n",
       "      <td>3616699</td>\n",
       "      <td>23393190.0</td>\n",
       "      <td>ABSTRACT|ACK_FUND|DISCUSS|FIG|INTRO|METHODS|RE...</td>\n",
       "      <td>2013</td>\n",
       "    </tr>\n",
       "  </tbody>\n",
       "</table>\n",
       "</div>"
      ],
      "text/plain": [
       "   batch_folder   doc_id                           doi      pmc        pmid  \\\n",
       "0  BioCXML.3.gz  3616644             10.1021/ja307276z  3616644  22946616.0   \n",
       "1  BioCXML.3.gz  3616678  10.1097/ADT.0b013e31815c2ded  3616678  23565053.0   \n",
       "2  BioCXML.3.gz  3616697            10.1093/nar/gkt072  3616697  23396444.0   \n",
       "3  BioCXML.3.gz  3616698            10.1093/nar/gkt006  3616698  23335781.0   \n",
       "4  BioCXML.3.gz  3616699            10.1093/nar/gkt030  3616699  23393190.0   \n",
       "\n",
       "                                             section  published_year  \n",
       "0  ABSTRACT|DISCUSS|FIG|INTRO|METHODS|REF|RESULTS...            2012  \n",
       "1  ABSTRACT|DISCUSS|INTRO|METHODS|REF|RESULTS|TAB...            2008  \n",
       "2  ABSTRACT|ACK_FUND|CONCL|FIG|INTRO|METHODS|REF|...            2013  \n",
       "3  ABSTRACT|ACK_FUND|DISCUSS|FIG|INTRO|METHODS|RE...            2013  \n",
       "4  ABSTRACT|ACK_FUND|DISCUSS|FIG|INTRO|METHODS|RE...            2013  "
      ]
     },
     "execution_count": 5,
     "metadata": {},
     "output_type": "execute_result"
    }
   ],
   "source": [
    "pubtator_central_metadata_df = pd.read_csv(\"output/pmc_metadata.tsv.xz\", sep=\"\\t\")\n",
    "print(pubtator_central_metadata_df.shape)\n",
    "pubtator_central_metadata_df.head()"
   ]
  },
  {
   "cell_type": "markdown",
   "metadata": {},
   "source": [
    "## Sanity Check the data"
   ]
  },
  {
   "cell_type": "code",
   "execution_count": 6,
   "metadata": {
    "ExecuteTime": {
     "end_time": "2021-03-01T15:40:41.967207Z",
     "start_time": "2021-03-01T15:40:41.845663Z"
    }
   },
   "outputs": [
    {
     "data": {
      "text/plain": [
       "(0, 7)"
      ]
     },
     "execution_count": 6,
     "metadata": {},
     "output_type": "execute_result"
    }
   ],
   "source": [
    "# Sanity check that all documents have a published year\n",
    "(pubtator_central_metadata_df.query(\"published_year.isnull()\").shape)"
   ]
  },
  {
   "cell_type": "code",
   "execution_count": 7,
   "metadata": {
    "ExecuteTime": {
     "end_time": "2021-03-01T15:40:42.061924Z",
     "start_time": "2021-03-01T15:40:41.968370Z"
    }
   },
   "outputs": [
    {
     "data": {
      "text/plain": [
       "(0, 7)"
      ]
     },
     "execution_count": 7,
     "metadata": {},
     "output_type": "execute_result"
    }
   ],
   "source": [
    "# Do all documents have an id?\n",
    "(pubtator_central_metadata_df.query(\"doc_id.isnull()\").shape)"
   ]
  },
  {
   "cell_type": "code",
   "execution_count": 8,
   "metadata": {
    "ExecuteTime": {
     "end_time": "2021-03-01T15:40:43.593961Z",
     "start_time": "2021-03-01T15:40:42.063912Z"
    }
   },
   "outputs": [
    {
     "data": {
      "text/plain": [
       "(27244927, 7)"
      ]
     },
     "execution_count": 8,
     "metadata": {},
     "output_type": "execute_result"
    }
   ],
   "source": [
    "# Do all documents have a pmid?\n",
    "(pubtator_central_metadata_df.query(\"pmid.isnull()\").shape)"
   ]
  },
  {
   "cell_type": "code",
   "execution_count": 9,
   "metadata": {
    "ExecuteTime": {
     "end_time": "2021-03-01T15:40:45.559580Z",
     "start_time": "2021-03-01T15:40:43.595584Z"
    }
   },
   "outputs": [
    {
     "data": {
      "text/plain": [
       "(24449017, 7)"
      ]
     },
     "execution_count": 9,
     "metadata": {},
     "output_type": "execute_result"
    }
   ],
   "source": [
    "# Do all documents have a pmc id?\n",
    "(pubtator_central_metadata_df.query(\"pmc.isnull()\").shape)"
   ]
  },
  {
   "cell_type": "code",
   "execution_count": 10,
   "metadata": {
    "ExecuteTime": {
     "end_time": "2021-03-01T15:40:47.662333Z",
     "start_time": "2021-03-01T15:40:45.560834Z"
    }
   },
   "outputs": [
    {
     "data": {
      "text/plain": [
       "(27517661, 7)"
      ]
     },
     "execution_count": 10,
     "metadata": {},
     "output_type": "execute_result"
    }
   ],
   "source": [
    "# Do all documents have a doi?\n",
    "(pubtator_central_metadata_df.query(\"doi.isnull()\").shape)"
   ]
  },
  {
   "cell_type": "markdown",
   "metadata": {},
   "source": [
    "## Published Year Distribution"
   ]
  },
  {
   "cell_type": "code",
   "execution_count": 11,
   "metadata": {
    "ExecuteTime": {
     "end_time": "2021-03-01T15:40:50.847878Z",
     "start_time": "2021-03-01T15:40:47.663727Z"
    }
   },
   "outputs": [
    {
     "data": {
      "text/plain": [
       "array([   0, 1781, 1782, 1783, 1784, 1785, 1786, 1787, 1788, 1789, 1790,\n",
       "       1791, 1792, 1793, 1794, 1795, 1796, 1797, 1798, 1799, 1800, 1801,\n",
       "       1802, 1803, 1804, 1805, 1806, 1807, 1808, 1809, 1810, 1811, 1812,\n",
       "       1813, 1814, 1815, 1816, 1817, 1818, 1819, 1820, 1821, 1822, 1823,\n",
       "       1824, 1825, 1826, 1827, 1828, 1829, 1830, 1831, 1832, 1833, 1834,\n",
       "       1835, 1836, 1837, 1838, 1839, 1840, 1841, 1842, 1843, 1844, 1845,\n",
       "       1846, 1847, 1848, 1849, 1850, 1851, 1852, 1853, 1854, 1855, 1856,\n",
       "       1857, 1858, 1859, 1860, 1861, 1862, 1863, 1864, 1865, 1866, 1867,\n",
       "       1868, 1869, 1870, 1871, 1872, 1873, 1874, 1875, 1876, 1877, 1878,\n",
       "       1879, 1880, 1881, 1882, 1883, 1884, 1885, 1886, 1887, 1888, 1889,\n",
       "       1890, 1891, 1892, 1893, 1894, 1895, 1896, 1897, 1898, 1899, 1900,\n",
       "       1901, 1902, 1903, 1904, 1905, 1906, 1907, 1908, 1909, 1910, 1911,\n",
       "       1912, 1913, 1914, 1915, 1916, 1917, 1918, 1919, 1920, 1921, 1922,\n",
       "       1923, 1924, 1925, 1926, 1927, 1928, 1929, 1930, 1931, 1932, 1933,\n",
       "       1934, 1935, 1936, 1937, 1938, 1939, 1940, 1941, 1942, 1943, 1944,\n",
       "       1945, 1946, 1947, 1948, 1949, 1950, 1951, 1952, 1953, 1954, 1955,\n",
       "       1956, 1957, 1958, 1959, 1960, 1961, 1962, 1963, 1964, 1965, 1966,\n",
       "       1967, 1968, 1969, 1970, 1971, 1972, 1973, 1974, 1975, 1976, 1977,\n",
       "       1978, 1979, 1980, 1981, 1982, 1983, 1984, 1985, 1986, 1987, 1988,\n",
       "       1989, 1990, 1991, 1992, 1993, 1994, 1995, 1996, 1997, 1998, 1999,\n",
       "       2000, 2001, 2002, 2003, 2004, 2005, 2006, 2007, 2008, 2009, 2010,\n",
       "       2011, 2012, 2013, 2014, 2015, 2016, 2017, 2018, 2019, 2020, 2021])"
      ]
     },
     "execution_count": 11,
     "metadata": {},
     "output_type": "execute_result"
    }
   ],
   "source": [
    "(pubtator_central_metadata_df.sort_values(\"published_year\").published_year.unique())"
   ]
  },
  {
   "cell_type": "code",
   "execution_count": 12,
   "metadata": {
    "ExecuteTime": {
     "end_time": "2021-03-01T15:40:51.223639Z",
     "start_time": "2021-03-01T15:40:50.849472Z"
    }
   },
   "outputs": [
    {
     "data": {
      "text/html": [
       "<div>\n",
       "<style scoped>\n",
       "    .dataframe tbody tr th:only-of-type {\n",
       "        vertical-align: middle;\n",
       "    }\n",
       "\n",
       "    .dataframe tbody tr th {\n",
       "        vertical-align: top;\n",
       "    }\n",
       "\n",
       "    .dataframe thead th {\n",
       "        text-align: right;\n",
       "    }\n",
       "</style>\n",
       "<table border=\"1\" class=\"dataframe\">\n",
       "  <thead>\n",
       "    <tr style=\"text-align: right;\">\n",
       "      <th></th>\n",
       "      <th>published_year</th>\n",
       "      <th>doc_count</th>\n",
       "    </tr>\n",
       "  </thead>\n",
       "  <tbody>\n",
       "    <tr>\n",
       "      <th>0</th>\n",
       "      <td>0</td>\n",
       "      <td>43010</td>\n",
       "    </tr>\n",
       "    <tr>\n",
       "      <th>1</th>\n",
       "      <td>1781</td>\n",
       "      <td>68</td>\n",
       "    </tr>\n",
       "    <tr>\n",
       "      <th>2</th>\n",
       "      <td>1782</td>\n",
       "      <td>22</td>\n",
       "    </tr>\n",
       "    <tr>\n",
       "      <th>3</th>\n",
       "      <td>1783</td>\n",
       "      <td>26</td>\n",
       "    </tr>\n",
       "    <tr>\n",
       "      <th>4</th>\n",
       "      <td>1784</td>\n",
       "      <td>31</td>\n",
       "    </tr>\n",
       "  </tbody>\n",
       "</table>\n",
       "</div>"
      ],
      "text/plain": [
       "   published_year  doc_count\n",
       "0               0      43010\n",
       "1            1781         68\n",
       "2            1782         22\n",
       "3            1783         26\n",
       "4            1784         31"
      ]
     },
     "execution_count": 12,
     "metadata": {},
     "output_type": "execute_result"
    }
   ],
   "source": [
    "doc_count_df = (\n",
    "    pubtator_central_metadata_df.groupby(\"published_year\")\n",
    "    .agg({\"published_year\": \"size\"})\n",
    "    .rename(index=str, columns={\"published_year\": \"doc_count\"})\n",
    "    .reset_index()\n",
    "    .astype({\"published_year\": int, \"doc_count\": int})\n",
    ")\n",
    "doc_count_df.head()"
   ]
  },
  {
   "cell_type": "code",
   "execution_count": 13,
   "metadata": {
    "ExecuteTime": {
     "end_time": "2021-03-01T15:40:52.026056Z",
     "start_time": "2021-03-01T15:40:51.225130Z"
    }
   },
   "outputs": [
    {
     "name": "stderr",
     "output_type": "stream",
     "text": [
      "/home/danich1/anaconda3/envs/biovectors/lib/python3.7/site-packages/plotnine/ggplot.py:729: PlotnineWarning: Saving 6.4 x 4.8 in image.\n",
      "/home/danich1/anaconda3/envs/biovectors/lib/python3.7/site-packages/plotnine/ggplot.py:730: PlotnineWarning: Filename: output/figures/pre_1950_doc_count.png\n"
     ]
    },
    {
     "data": {
      "image/png": "[encoded data removed]",
      "text/plain": [
       "<Figure size 640x480 with 1 Axes>"
      ]
     },
     "metadata": {},
     "output_type": "display_data"
    },
    {
     "name": "stdout",
     "output_type": "stream",
     "text": [
      "<ggplot: (-9223363301645782791)>\n"
     ]
    }
   ],
   "source": [
    "g = (\n",
    "    p9.ggplot(\n",
    "        doc_count_df.query(\"published_year > 0& published_year < 1950\"),\n",
    "        p9.aes(x=\"published_year\", y=\"doc_count\"),\n",
    "    )\n",
    "    + p9.geom_col(position=p9.position_dodge(width=0.9), fill=\"#1f78b4\")\n",
    "    + p9.labs(\n",
    "        title=\"Number of Abstracts Pre 1950\", x=\"Publication Year\", y=\"Document Count\"\n",
    "    )\n",
    ")\n",
    "g.save(\"output/figures/pre_1950_doc_count.png\", dpi=500)\n",
    "print(g)"
   ]
  },
  {
   "cell_type": "code",
   "execution_count": 14,
   "metadata": {
    "ExecuteTime": {
     "end_time": "2021-03-01T15:40:52.786442Z",
     "start_time": "2021-03-01T15:40:52.027380Z"
    }
   },
   "outputs": [
    {
     "name": "stderr",
     "output_type": "stream",
     "text": [
      "/home/danich1/anaconda3/envs/biovectors/lib/python3.7/site-packages/plotnine/ggplot.py:729: PlotnineWarning: Saving 6.4 x 4.8 in image.\n",
      "/home/danich1/anaconda3/envs/biovectors/lib/python3.7/site-packages/plotnine/ggplot.py:730: PlotnineWarning: Filename: output/figures/post_1950_doc_count.png\n"
     ]
    },
    {
     "data": {
      "image/png": "[encoded data removed]",
      "text/plain": [
       "<Figure size 640x480 with 1 Axes>"
      ]
     },
     "metadata": {},
     "output_type": "display_data"
    },
    {
     "name": "stdout",
     "output_type": "stream",
     "text": [
      "<ggplot: (-9223363301650090068)>\n"
     ]
    }
   ],
   "source": [
    "g = (\n",
    "    p9.ggplot(\n",
    "        doc_count_df.query(\"published_year >= 1950\"),\n",
    "        p9.aes(x=\"published_year\", y=\"doc_count\"),\n",
    "    )\n",
    "    + p9.geom_col(position=p9.position_dodge(width=0.9), fill=\"#1f78b4\")\n",
    "    + p9.labs(\n",
    "        title=\"Number of Abstracts Post 1950\", x=\"Publication Year\", y=\"Document Count\"\n",
    "    )\n",
    ")\n",
    "g.save(\"output/figures/post_1950_doc_count.png\", dpi=500)\n",
    "print(g)"
   ]
  },
  {
   "cell_type": "markdown",
   "metadata": {
    "ExecuteTime": {
     "end_time": "2021-02-25T17:23:28.046940Z",
     "start_time": "2021-02-25T17:23:28.041919Z"
    }
   },
   "source": [
    "# Shared Tokens Across Time"
   ]
  },
  {
   "cell_type": "code",
   "execution_count": 15,
   "metadata": {
    "ExecuteTime": {
     "end_time": "2021-03-01T15:40:52.790377Z",
     "start_time": "2021-03-01T15:40:52.787863Z"
    }
   },
   "outputs": [],
   "source": [
    "tokens_by_year = defaultdict(Counter)\n",
    "sentence_iterator = PubMedSentencesIterator(\n",
    "    pubtator_abstract_batch, year_filter=list(range(1990, 2022, 1)), return_year=True\n",
    ")"
   ]
  },
  {
   "cell_type": "code",
   "execution_count": 16,
   "metadata": {
    "ExecuteTime": {
     "end_time": "2021-03-01T15:40:52.872192Z",
     "start_time": "2021-03-01T15:40:52.791644Z"
    }
   },
   "outputs": [],
   "source": [
    "if not Path(\"output/unique_tokens_by_year.pkl\").exists():\n",
    "    for year, sentence in tqdm.tqdm(sentence_iterator):\n",
    "        tokens_by_year[year].update(Counter(sentence))"
   ]
  },
  {
   "cell_type": "code",
   "execution_count": 17,
   "metadata": {
    "ExecuteTime": {
     "end_time": "2021-03-01T15:40:55.346164Z",
     "start_time": "2021-03-01T15:40:52.877381Z"
    }
   },
   "outputs": [],
   "source": [
    "if not Path(\"output/unique_tokens_by_year.pkl\").exists():\n",
    "    pickle.dump(tokens_by_year, open(\"output/unique_tokens_by_year.pkl\", \"wb\"))\n",
    "else:\n",
    "    tokens_by_year = pickle.load(open(\"output/unique_tokens_by_year.pkl\", \"rb\"))"
   ]
  },
  {
   "cell_type": "markdown",
   "metadata": {},
   "source": [
    "## Unique Tokens Available per Year"
   ]
  },
  {
   "cell_type": "code",
   "execution_count": 18,
   "metadata": {
    "ExecuteTime": {
     "end_time": "2021-03-01T15:40:55.349774Z",
     "start_time": "2021-03-01T15:40:55.347340Z"
    }
   },
   "outputs": [],
   "source": [
    "data_rows = []\n",
    "\n",
    "for query_year in tokens_by_year:\n",
    "\n",
    "    data_rows.append(\n",
    "        {\n",
    "            \"year\": query_year,\n",
    "            \"num_tokens\": len(tokens_by_year[query_year]),\n",
    "        }\n",
    "    )"
   ]
  },
  {
   "cell_type": "code",
   "execution_count": 19,
   "metadata": {
    "ExecuteTime": {
     "end_time": "2021-03-01T15:40:55.377846Z",
     "start_time": "2021-03-01T15:40:55.350911Z"
    }
   },
   "outputs": [
    {
     "data": {
      "text/html": [
       "<div>\n",
       "<style scoped>\n",
       "    .dataframe tbody tr th:only-of-type {\n",
       "        vertical-align: middle;\n",
       "    }\n",
       "\n",
       "    .dataframe tbody tr th {\n",
       "        vertical-align: top;\n",
       "    }\n",
       "\n",
       "    .dataframe thead th {\n",
       "        text-align: right;\n",
       "    }\n",
       "</style>\n",
       "<table border=\"1\" class=\"dataframe\">\n",
       "  <thead>\n",
       "    <tr style=\"text-align: right;\">\n",
       "      <th></th>\n",
       "      <th>year</th>\n",
       "      <th>num_tokens</th>\n",
       "    </tr>\n",
       "  </thead>\n",
       "  <tbody>\n",
       "    <tr>\n",
       "      <th>0</th>\n",
       "      <td>2012</td>\n",
       "      <td>468397</td>\n",
       "    </tr>\n",
       "    <tr>\n",
       "      <th>1</th>\n",
       "      <td>2008</td>\n",
       "      <td>223728</td>\n",
       "    </tr>\n",
       "    <tr>\n",
       "      <th>2</th>\n",
       "      <td>2013</td>\n",
       "      <td>523002</td>\n",
       "    </tr>\n",
       "    <tr>\n",
       "      <th>3</th>\n",
       "      <td>2014</td>\n",
       "      <td>595254</td>\n",
       "    </tr>\n",
       "    <tr>\n",
       "      <th>4</th>\n",
       "      <td>2009</td>\n",
       "      <td>317222</td>\n",
       "    </tr>\n",
       "    <tr>\n",
       "      <th>5</th>\n",
       "      <td>2010</td>\n",
       "      <td>366843</td>\n",
       "    </tr>\n",
       "    <tr>\n",
       "      <th>6</th>\n",
       "      <td>2011</td>\n",
       "      <td>421909</td>\n",
       "    </tr>\n",
       "    <tr>\n",
       "      <th>7</th>\n",
       "      <td>2002</td>\n",
       "      <td>49926</td>\n",
       "    </tr>\n",
       "    <tr>\n",
       "      <th>8</th>\n",
       "      <td>2006</td>\n",
       "      <td>101090</td>\n",
       "    </tr>\n",
       "    <tr>\n",
       "      <th>9</th>\n",
       "      <td>2007</td>\n",
       "      <td>130669</td>\n",
       "    </tr>\n",
       "    <tr>\n",
       "      <th>10</th>\n",
       "      <td>1993</td>\n",
       "      <td>30515</td>\n",
       "    </tr>\n",
       "    <tr>\n",
       "      <th>11</th>\n",
       "      <td>1995</td>\n",
       "      <td>32379</td>\n",
       "    </tr>\n",
       "    <tr>\n",
       "      <th>12</th>\n",
       "      <td>2015</td>\n",
       "      <td>649185</td>\n",
       "    </tr>\n",
       "    <tr>\n",
       "      <th>13</th>\n",
       "      <td>2003</td>\n",
       "      <td>50182</td>\n",
       "    </tr>\n",
       "    <tr>\n",
       "      <th>14</th>\n",
       "      <td>2004</td>\n",
       "      <td>61363</td>\n",
       "    </tr>\n",
       "    <tr>\n",
       "      <th>15</th>\n",
       "      <td>2005</td>\n",
       "      <td>81137</td>\n",
       "    </tr>\n",
       "    <tr>\n",
       "      <th>16</th>\n",
       "      <td>2016</td>\n",
       "      <td>694527</td>\n",
       "    </tr>\n",
       "    <tr>\n",
       "      <th>17</th>\n",
       "      <td>1990</td>\n",
       "      <td>26602</td>\n",
       "    </tr>\n",
       "    <tr>\n",
       "      <th>18</th>\n",
       "      <td>2001</td>\n",
       "      <td>45626</td>\n",
       "    </tr>\n",
       "    <tr>\n",
       "      <th>19</th>\n",
       "      <td>1998</td>\n",
       "      <td>36519</td>\n",
       "    </tr>\n",
       "    <tr>\n",
       "      <th>20</th>\n",
       "      <td>1994</td>\n",
       "      <td>32482</td>\n",
       "    </tr>\n",
       "    <tr>\n",
       "      <th>21</th>\n",
       "      <td>1996</td>\n",
       "      <td>33551</td>\n",
       "    </tr>\n",
       "    <tr>\n",
       "      <th>22</th>\n",
       "      <td>1991</td>\n",
       "      <td>27942</td>\n",
       "    </tr>\n",
       "    <tr>\n",
       "      <th>23</th>\n",
       "      <td>1999</td>\n",
       "      <td>36681</td>\n",
       "    </tr>\n",
       "    <tr>\n",
       "      <th>24</th>\n",
       "      <td>2000</td>\n",
       "      <td>39512</td>\n",
       "    </tr>\n",
       "    <tr>\n",
       "      <th>25</th>\n",
       "      <td>2017</td>\n",
       "      <td>751465</td>\n",
       "    </tr>\n",
       "    <tr>\n",
       "      <th>26</th>\n",
       "      <td>1997</td>\n",
       "      <td>34733</td>\n",
       "    </tr>\n",
       "    <tr>\n",
       "      <th>27</th>\n",
       "      <td>1992</td>\n",
       "      <td>28279</td>\n",
       "    </tr>\n",
       "    <tr>\n",
       "      <th>28</th>\n",
       "      <td>2018</td>\n",
       "      <td>784327</td>\n",
       "    </tr>\n",
       "    <tr>\n",
       "      <th>29</th>\n",
       "      <td>2019</td>\n",
       "      <td>848092</td>\n",
       "    </tr>\n",
       "    <tr>\n",
       "      <th>30</th>\n",
       "      <td>2020</td>\n",
       "      <td>610813</td>\n",
       "    </tr>\n",
       "    <tr>\n",
       "      <th>31</th>\n",
       "      <td>2021</td>\n",
       "      <td>2284</td>\n",
       "    </tr>\n",
       "  </tbody>\n",
       "</table>\n",
       "</div>"
      ],
      "text/plain": [
       "    year  num_tokens\n",
       "0   2012      468397\n",
       "1   2008      223728\n",
       "2   2013      523002\n",
       "3   2014      595254\n",
       "4   2009      317222\n",
       "5   2010      366843\n",
       "6   2011      421909\n",
       "7   2002       49926\n",
       "8   2006      101090\n",
       "9   2007      130669\n",
       "10  1993       30515\n",
       "11  1995       32379\n",
       "12  2015      649185\n",
       "13  2003       50182\n",
       "14  2004       61363\n",
       "15  2005       81137\n",
       "16  2016      694527\n",
       "17  1990       26602\n",
       "18  2001       45626\n",
       "19  1998       36519\n",
       "20  1994       32482\n",
       "21  1996       33551\n",
       "22  1991       27942\n",
       "23  1999       36681\n",
       "24  2000       39512\n",
       "25  2017      751465\n",
       "26  1997       34733\n",
       "27  1992       28279\n",
       "28  2018      784327\n",
       "29  2019      848092\n",
       "30  2020      610813\n",
       "31  2021        2284"
      ]
     },
     "execution_count": 19,
     "metadata": {},
     "output_type": "execute_result"
    }
   ],
   "source": [
    "unique_token_df = pd.DataFrame.from_records(data_rows)\n",
    "unique_token_df"
   ]
  },
  {
   "cell_type": "code",
   "execution_count": 20,
   "metadata": {
    "ExecuteTime": {
     "end_time": "2021-03-01T15:40:56.235509Z",
     "start_time": "2021-03-01T15:40:55.378948Z"
    }
   },
   "outputs": [
    {
     "name": "stderr",
     "output_type": "stream",
     "text": [
      "/home/danich1/anaconda3/envs/biovectors/lib/python3.7/site-packages/plotnine/ggplot.py:729: PlotnineWarning: Saving 6.4 x 4.8 in image.\n",
      "/home/danich1/anaconda3/envs/biovectors/lib/python3.7/site-packages/plotnine/ggplot.py:730: PlotnineWarning: Filename: output/figures/post_1990_unique_tokens.png\n"
     ]
    },
    {
     "data": {
      "image/png": "[encoded data removed]",
      "text/plain": [
       "<Figure size 640x480 with 1 Axes>"
      ]
     },
     "metadata": {},
     "output_type": "display_data"
    },
    {
     "name": "stdout",
     "output_type": "stream",
     "text": [
      "<ggplot: (8735124837510)>\n"
     ]
    }
   ],
   "source": [
    "g = (\n",
    "    p9.ggplot(unique_token_df, p9.aes(x=\"year\", y=\"num_tokens\"))\n",
    "    + p9.geom_col(fill=\"#1f78b4\")\n",
    "    + p9.coord_flip()\n",
    "    + p9.labs(\n",
    "        title=\"Number of Tokens Available Post 1990\", x=\"Year\", y=\"# Unique Tokens\"\n",
    "    )\n",
    ")\n",
    "g.save(\"output/figures/post_1990_unique_tokens.png\", dpi=500)\n",
    "print(g)"
   ]
  },
  {
   "cell_type": "markdown",
   "metadata": {},
   "source": [
    "## Shared tokens across years"
   ]
  },
  {
   "cell_type": "code",
   "execution_count": 21,
   "metadata": {
    "ExecuteTime": {
     "end_time": "2021-03-01T15:40:57.549681Z",
     "start_time": "2021-03-01T15:40:56.237095Z"
    }
   },
   "outputs": [],
   "source": [
    "data_rows = []\n",
    "reversed_tokens = list(sorted(tokens_by_year.keys()))[::-1]\n",
    "all_tokens = set(tokens_by_year[2021].keys()) | set(tokens_by_year[2020].keys())\n",
    "\n",
    "for query_year in reversed_tokens[1:]:\n",
    "    query_year_vocab_set = set(tokens_by_year[query_year].keys())\n",
    "    tokens_matched = all_tokens & query_year_vocab_set\n",
    "\n",
    "    data_rows.append(\n",
    "        {\n",
    "            \"years\": str(query_year) if query_year != 2020 else \"2020-21\",\n",
    "            \"percentage_tokens_mapped\": len(tokens_matched) / len(all_tokens),\n",
    "            \"num_tokens_matched\": len(tokens_matched),\n",
    "            \"num_tokens_total\": len(all_tokens),\n",
    "        }\n",
    "    )"
   ]
  },
  {
   "cell_type": "code",
   "execution_count": 22,
   "metadata": {
    "ExecuteTime": {
     "end_time": "2021-03-01T15:40:57.561951Z",
     "start_time": "2021-03-01T15:40:57.550864Z"
    }
   },
   "outputs": [
    {
     "data": {
      "text/html": [
       "<div>\n",
       "<style scoped>\n",
       "    .dataframe tbody tr th:only-of-type {\n",
       "        vertical-align: middle;\n",
       "    }\n",
       "\n",
       "    .dataframe tbody tr th {\n",
       "        vertical-align: top;\n",
       "    }\n",
       "\n",
       "    .dataframe thead th {\n",
       "        text-align: right;\n",
       "    }\n",
       "</style>\n",
       "<table border=\"1\" class=\"dataframe\">\n",
       "  <thead>\n",
       "    <tr style=\"text-align: right;\">\n",
       "      <th></th>\n",
       "      <th>years</th>\n",
       "      <th>percentage_tokens_mapped</th>\n",
       "      <th>num_tokens_matched</th>\n",
       "      <th>num_tokens_total</th>\n",
       "    </tr>\n",
       "  </thead>\n",
       "  <tbody>\n",
       "    <tr>\n",
       "      <th>0</th>\n",
       "      <td>2020-21</td>\n",
       "      <td>0.999902</td>\n",
       "      <td>610813</td>\n",
       "      <td>610873</td>\n",
       "    </tr>\n",
       "    <tr>\n",
       "      <th>1</th>\n",
       "      <td>2019</td>\n",
       "      <td>0.462802</td>\n",
       "      <td>282713</td>\n",
       "      <td>610873</td>\n",
       "    </tr>\n",
       "    <tr>\n",
       "      <th>2</th>\n",
       "      <td>2018</td>\n",
       "      <td>0.438325</td>\n",
       "      <td>267761</td>\n",
       "      <td>610873</td>\n",
       "    </tr>\n",
       "    <tr>\n",
       "      <th>3</th>\n",
       "      <td>2017</td>\n",
       "      <td>0.424186</td>\n",
       "      <td>259124</td>\n",
       "      <td>610873</td>\n",
       "    </tr>\n",
       "    <tr>\n",
       "      <th>4</th>\n",
       "      <td>2016</td>\n",
       "      <td>0.404197</td>\n",
       "      <td>246913</td>\n",
       "      <td>610873</td>\n",
       "    </tr>\n",
       "    <tr>\n",
       "      <th>5</th>\n",
       "      <td>2015</td>\n",
       "      <td>0.387955</td>\n",
       "      <td>236991</td>\n",
       "      <td>610873</td>\n",
       "    </tr>\n",
       "    <tr>\n",
       "      <th>6</th>\n",
       "      <td>2014</td>\n",
       "      <td>0.369147</td>\n",
       "      <td>225502</td>\n",
       "      <td>610873</td>\n",
       "    </tr>\n",
       "    <tr>\n",
       "      <th>7</th>\n",
       "      <td>2013</td>\n",
       "      <td>0.341700</td>\n",
       "      <td>208735</td>\n",
       "      <td>610873</td>\n",
       "    </tr>\n",
       "    <tr>\n",
       "      <th>8</th>\n",
       "      <td>2012</td>\n",
       "      <td>0.315814</td>\n",
       "      <td>192922</td>\n",
       "      <td>610873</td>\n",
       "    </tr>\n",
       "    <tr>\n",
       "      <th>9</th>\n",
       "      <td>2011</td>\n",
       "      <td>0.293285</td>\n",
       "      <td>179160</td>\n",
       "      <td>610873</td>\n",
       "    </tr>\n",
       "    <tr>\n",
       "      <th>10</th>\n",
       "      <td>2010</td>\n",
       "      <td>0.267740</td>\n",
       "      <td>163555</td>\n",
       "      <td>610873</td>\n",
       "    </tr>\n",
       "    <tr>\n",
       "      <th>11</th>\n",
       "      <td>2009</td>\n",
       "      <td>0.242001</td>\n",
       "      <td>147832</td>\n",
       "      <td>610873</td>\n",
       "    </tr>\n",
       "    <tr>\n",
       "      <th>12</th>\n",
       "      <td>2008</td>\n",
       "      <td>0.192989</td>\n",
       "      <td>117892</td>\n",
       "      <td>610873</td>\n",
       "    </tr>\n",
       "    <tr>\n",
       "      <th>13</th>\n",
       "      <td>2007</td>\n",
       "      <td>0.135557</td>\n",
       "      <td>82808</td>\n",
       "      <td>610873</td>\n",
       "    </tr>\n",
       "    <tr>\n",
       "      <th>14</th>\n",
       "      <td>2006</td>\n",
       "      <td>0.111588</td>\n",
       "      <td>68166</td>\n",
       "      <td>610873</td>\n",
       "    </tr>\n",
       "    <tr>\n",
       "      <th>15</th>\n",
       "      <td>2005</td>\n",
       "      <td>0.092820</td>\n",
       "      <td>56701</td>\n",
       "      <td>610873</td>\n",
       "    </tr>\n",
       "    <tr>\n",
       "      <th>16</th>\n",
       "      <td>2004</td>\n",
       "      <td>0.074376</td>\n",
       "      <td>45434</td>\n",
       "      <td>610873</td>\n",
       "    </tr>\n",
       "    <tr>\n",
       "      <th>17</th>\n",
       "      <td>2003</td>\n",
       "      <td>0.061720</td>\n",
       "      <td>37703</td>\n",
       "      <td>610873</td>\n",
       "    </tr>\n",
       "    <tr>\n",
       "      <th>18</th>\n",
       "      <td>2002</td>\n",
       "      <td>0.060214</td>\n",
       "      <td>36783</td>\n",
       "      <td>610873</td>\n",
       "    </tr>\n",
       "    <tr>\n",
       "      <th>19</th>\n",
       "      <td>2001</td>\n",
       "      <td>0.055458</td>\n",
       "      <td>33878</td>\n",
       "      <td>610873</td>\n",
       "    </tr>\n",
       "    <tr>\n",
       "      <th>20</th>\n",
       "      <td>2000</td>\n",
       "      <td>0.047948</td>\n",
       "      <td>29290</td>\n",
       "      <td>610873</td>\n",
       "    </tr>\n",
       "    <tr>\n",
       "      <th>21</th>\n",
       "      <td>1999</td>\n",
       "      <td>0.044684</td>\n",
       "      <td>27296</td>\n",
       "      <td>610873</td>\n",
       "    </tr>\n",
       "    <tr>\n",
       "      <th>22</th>\n",
       "      <td>1998</td>\n",
       "      <td>0.043474</td>\n",
       "      <td>26557</td>\n",
       "      <td>610873</td>\n",
       "    </tr>\n",
       "    <tr>\n",
       "      <th>23</th>\n",
       "      <td>1997</td>\n",
       "      <td>0.041524</td>\n",
       "      <td>25366</td>\n",
       "      <td>610873</td>\n",
       "    </tr>\n",
       "    <tr>\n",
       "      <th>24</th>\n",
       "      <td>1996</td>\n",
       "      <td>0.040175</td>\n",
       "      <td>24542</td>\n",
       "      <td>610873</td>\n",
       "    </tr>\n",
       "    <tr>\n",
       "      <th>25</th>\n",
       "      <td>1995</td>\n",
       "      <td>0.039236</td>\n",
       "      <td>23968</td>\n",
       "      <td>610873</td>\n",
       "    </tr>\n",
       "    <tr>\n",
       "      <th>26</th>\n",
       "      <td>1994</td>\n",
       "      <td>0.038566</td>\n",
       "      <td>23559</td>\n",
       "      <td>610873</td>\n",
       "    </tr>\n",
       "    <tr>\n",
       "      <th>27</th>\n",
       "      <td>1993</td>\n",
       "      <td>0.036780</td>\n",
       "      <td>22468</td>\n",
       "      <td>610873</td>\n",
       "    </tr>\n",
       "    <tr>\n",
       "      <th>28</th>\n",
       "      <td>1992</td>\n",
       "      <td>0.034009</td>\n",
       "      <td>20775</td>\n",
       "      <td>610873</td>\n",
       "    </tr>\n",
       "    <tr>\n",
       "      <th>29</th>\n",
       "      <td>1991</td>\n",
       "      <td>0.034256</td>\n",
       "      <td>20926</td>\n",
       "      <td>610873</td>\n",
       "    </tr>\n",
       "    <tr>\n",
       "      <th>30</th>\n",
       "      <td>1990</td>\n",
       "      <td>0.032729</td>\n",
       "      <td>19993</td>\n",
       "      <td>610873</td>\n",
       "    </tr>\n",
       "  </tbody>\n",
       "</table>\n",
       "</div>"
      ],
      "text/plain": [
       "      years  percentage_tokens_mapped  num_tokens_matched  num_tokens_total\n",
       "0   2020-21                  0.999902              610813            610873\n",
       "1      2019                  0.462802              282713            610873\n",
       "2      2018                  0.438325              267761            610873\n",
       "3      2017                  0.424186              259124            610873\n",
       "4      2016                  0.404197              246913            610873\n",
       "5      2015                  0.387955              236991            610873\n",
       "6      2014                  0.369147              225502            610873\n",
       "7      2013                  0.341700              208735            610873\n",
       "8      2012                  0.315814              192922            610873\n",
       "9      2011                  0.293285              179160            610873\n",
       "10     2010                  0.267740              163555            610873\n",
       "11     2009                  0.242001              147832            610873\n",
       "12     2008                  0.192989              117892            610873\n",
       "13     2007                  0.135557               82808            610873\n",
       "14     2006                  0.111588               68166            610873\n",
       "15     2005                  0.092820               56701            610873\n",
       "16     2004                  0.074376               45434            610873\n",
       "17     2003                  0.061720               37703            610873\n",
       "18     2002                  0.060214               36783            610873\n",
       "19     2001                  0.055458               33878            610873\n",
       "20     2000                  0.047948               29290            610873\n",
       "21     1999                  0.044684               27296            610873\n",
       "22     1998                  0.043474               26557            610873\n",
       "23     1997                  0.041524               25366            610873\n",
       "24     1996                  0.040175               24542            610873\n",
       "25     1995                  0.039236               23968            610873\n",
       "26     1994                  0.038566               23559            610873\n",
       "27     1993                  0.036780               22468            610873\n",
       "28     1992                  0.034009               20775            610873\n",
       "29     1991                  0.034256               20926            610873\n",
       "30     1990                  0.032729               19993            610873"
      ]
     },
     "execution_count": 22,
     "metadata": {},
     "output_type": "execute_result"
    }
   ],
   "source": [
    "token_overlap_df = pd.DataFrame.from_dict(data_rows)\n",
    "token_overlap_df"
   ]
  },
  {
   "cell_type": "code",
   "execution_count": 23,
   "metadata": {
    "ExecuteTime": {
     "end_time": "2021-03-01T15:40:58.693188Z",
     "start_time": "2021-03-01T15:40:57.564052Z"
    }
   },
   "outputs": [
    {
     "name": "stderr",
     "output_type": "stream",
     "text": [
      "/home/danich1/anaconda3/envs/biovectors/lib/python3.7/site-packages/plotnine/ggplot.py:729: PlotnineWarning: Saving 6.4 x 4.8 in image.\n",
      "/home/danich1/anaconda3/envs/biovectors/lib/python3.7/site-packages/plotnine/ggplot.py:730: PlotnineWarning: Filename: output/figures/tokens_overlap_with_2020-21.png\n"
     ]
    },
    {
     "data": {
      "image/png": "[encoded data removed]",
      "text/plain": [
       "<Figure size 640x480 with 1 Axes>"
      ]
     },
     "metadata": {},
     "output_type": "display_data"
    },
    {
     "name": "stdout",
     "output_type": "stream",
     "text": [
      "<ggplot: (8735124840950)>\n"
     ]
    }
   ],
   "source": [
    "g = (\n",
    "    p9.ggplot(\n",
    "        token_overlap_df.iloc[1:, :], p9.aes(x=\"years\", y=\"percentage_tokens_mapped\")\n",
    "    )\n",
    "    + p9.geom_col(fill=\"#1f78b4\")\n",
    "    + p9.coord_flip()\n",
    "    + p9.labs(\n",
    "        title=\"Token Overlap with 2020-2021 Abstracts\",\n",
    "        x=\"Year\",\n",
    "        y=\"% Tokens Overlapped\",\n",
    "    )\n",
    ")\n",
    "g.save(\"output/figures/tokens_overlap_with_2020-21.png\", dpi=500)\n",
    "print(g)"
   ]
  }
 ],
 "metadata": {
  "jupytext": {
   "formats": "ipynb,py"
  },
  "kernelspec": {
   "display_name": "Python [conda env:biovectors]",
   "language": "python",
   "name": "conda-env-biovectors-py"
  },
  "language_info": {
   "codemirror_mode": {
    "name": "ipython",
    "version": 3
   },
   "file_extension": ".py",
   "mimetype": "text/x-python",
   "name": "python",
   "nbconvert_exporter": "python",
   "pygments_lexer": "ipython3",
   "version": "3.7.2"
  },
  "toc": {
   "base_numbering": 1,
   "nav_menu": {},
   "number_sections": true,
   "sideBar": true,
   "skip_h1_title": false,
   "title_cell": "Table of Contents",
   "title_sidebar": "Contents",
   "toc_cell": false,
   "toc_position": {},
   "toc_section_display": true,
   "toc_window_display": false
  }
 },
 "nbformat": 4,
 "nbformat_minor": 2
}
