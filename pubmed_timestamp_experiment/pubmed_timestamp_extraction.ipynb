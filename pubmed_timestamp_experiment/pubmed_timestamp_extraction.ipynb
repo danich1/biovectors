{
 "cells": [
  {
   "cell_type": "markdown",
   "metadata": {},
   "source": [
    "# Get Publication Times for Pubmed Abstracts"
   ]
  },
  {
   "cell_type": "code",
   "execution_count": 1,
   "metadata": {
    "ExecuteTime": {
     "end_time": "2020-12-02T21:31:34.764609Z",
     "start_time": "2020-12-02T21:31:26.595782Z"
    }
   },
   "outputs": [],
   "source": [
    "import csv\n",
    "from pathlib import Path\n",
    "import time\n",
    "\n",
    "import pandas as pd\n",
    "import requests\n",
    "import tqdm"
   ]
  },
  {
   "cell_type": "code",
   "execution_count": 2,
   "metadata": {
    "ExecuteTime": {
     "end_time": "2020-12-02T21:31:34.773022Z",
     "start_time": "2020-12-02T21:31:34.767842Z"
    }
   },
   "outputs": [],
   "source": [
    "# Write the api caller function\n",
    "def call_entrez(pubmed_ids):\n",
    "    while True:\n",
    "        try:\n",
    "            url = \"https://eutils.ncbi.nlm.nih.gov/entrez/eutils/esummary.fcgi?db=pubmed&retmode=json&id=\"\n",
    "            responses = []\n",
    "            id_str = \",\".join(map(str, pubmed_ids))\n",
    "            response = requests.get(f\"{url}{id_str}&api_key=691e69e351f883545c190eba28c4b792b308\")\n",
    "            assert response.status_code == 200\n",
    "            response = response.json()\n",
    "            return response['result']\n",
    "\n",
    "        except Exception as e:\n",
    "            print(e)\n",
    "            print(\"Had an error will try again in thirty minutes!!\")\n",
    "            time.sleep(1800)"
   ]
  },
  {
   "cell_type": "code",
   "execution_count": 3,
   "metadata": {
    "ExecuteTime": {
     "end_time": "2020-12-02T21:31:45.738693Z",
     "start_time": "2020-12-02T21:31:34.774647Z"
    }
   },
   "outputs": [
    {
     "name": "stdout",
     "output_type": "stream",
     "text": [
      "(31553495, 1)\n"
     ]
    },
    {
     "data": {
      "text/html": [
       "<div>\n",
       "<style scoped>\n",
       "    .dataframe tbody tr th:only-of-type {\n",
       "        vertical-align: middle;\n",
       "    }\n",
       "\n",
       "    .dataframe tbody tr th {\n",
       "        vertical-align: top;\n",
       "    }\n",
       "\n",
       "    .dataframe thead th {\n",
       "        text-align: right;\n",
       "    }\n",
       "</style>\n",
       "<table border=\"1\" class=\"dataframe\">\n",
       "  <thead>\n",
       "    <tr style=\"text-align: right;\">\n",
       "      <th></th>\n",
       "      <th>pmid</th>\n",
       "    </tr>\n",
       "  </thead>\n",
       "  <tbody>\n",
       "    <tr>\n",
       "      <th>0</th>\n",
       "      <td>5333265</td>\n",
       "    </tr>\n",
       "    <tr>\n",
       "      <th>1</th>\n",
       "      <td>5333264</td>\n",
       "    </tr>\n",
       "    <tr>\n",
       "      <th>2</th>\n",
       "      <td>5333267</td>\n",
       "    </tr>\n",
       "    <tr>\n",
       "      <th>3</th>\n",
       "      <td>5333266</td>\n",
       "    </tr>\n",
       "    <tr>\n",
       "      <th>4</th>\n",
       "      <td>5333261</td>\n",
       "    </tr>\n",
       "  </tbody>\n",
       "</table>\n",
       "</div>"
      ],
      "text/plain": [
       "      pmid\n",
       "0  5333265\n",
       "1  5333264\n",
       "2  5333267\n",
       "3  5333266\n",
       "4  5333261"
      ]
     },
     "execution_count": 3,
     "metadata": {},
     "output_type": "execute_result"
    }
   ],
   "source": [
    "pmid_df = pd.read_csv(\n",
    "    \"output/pmid.tsv\", \n",
    "    sep=\"\\t\",\n",
    "    names=[\"pmid\"]\n",
    ")\n",
    "print(pmid_df.shape)\n",
    "pmid_df.head()"
   ]
  },
  {
   "cell_type": "code",
   "execution_count": 4,
   "metadata": {
    "ExecuteTime": {
     "end_time": "2020-12-02T21:32:15.538672Z",
     "start_time": "2020-12-02T21:31:45.740060Z"
    }
   },
   "outputs": [
    {
     "name": "stdout",
     "output_type": "stream",
     "text": [
      "(64677, 1)\n"
     ]
    }
   ],
   "source": [
    "if Path(\"output/pmid_to_pub_date.tsv\").exists():\n",
    "    # Start from checkpoint incase something goes wrong\n",
    "    parsed_ids = pd.read_csv(\"output/pmid_to_pub_date.tsv\", sep=\"\\t\")\n",
    "    parsed_ids_set = set(parsed_ids.pmid.tolist())\n",
    "    remaining_ids = set(pmid_df.pmid.tolist()) - parsed_ids_set\n",
    "    pmid_df = pd.DataFrame(remaining_ids, columns=[\"pmid\"])\n",
    "    print(pmid_df.shape)\n",
    "    \n",
    "    outfile = open(\"output/pmid_to_pub_date.tsv\", \"a\")\n",
    "    writer = csv.DictWriter(\n",
    "        outfile, \n",
    "        fieldnames=[\"pmid\", \"pub_date\"],\n",
    "        delimiter=\"\\t\",\n",
    "    )\n",
    "    \n",
    "else:\n",
    "    # Start from scratch\n",
    "    outfile = open(\"output/pmid_to_pub_date.tsv\", \"w\")\n",
    "    writer = csv.DictWriter(\n",
    "        outfile, \n",
    "        fieldnames=[\"pmid\", \"pub_date\"],\n",
    "        delimiter=\"\\t\",\n",
    "    )\n",
    "    writer.writeheader()"
   ]
  },
  {
   "cell_type": "code",
   "execution_count": 5,
   "metadata": {
    "ExecuteTime": {
     "end_time": "2020-12-02T21:32:15.544360Z",
     "start_time": "2020-12-02T21:32:15.540170Z"
    }
   },
   "outputs": [],
   "source": [
    "chunk_size = 100\n",
    "maxsize = pmid_df.shape[0]"
   ]
  },
  {
   "cell_type": "code",
   "execution_count": 6,
   "metadata": {
    "ExecuteTime": {
     "end_time": "2020-12-02T21:38:14.178683Z",
     "start_time": "2020-12-02T21:32:15.547231Z"
    },
    "scrolled": false
   },
   "outputs": [
    {
     "name": "stderr",
     "output_type": "stream",
     "text": [
      "100%|██████████| 647/647 [05:58<00:00,  1.81it/s]\n"
     ]
    }
   ],
   "source": [
    "for batch in tqdm.tqdm(range(0, maxsize, chunk_size)):\n",
    "    doc_ids = (\n",
    "        pmid_df\n",
    "        .sort_values(\"pmid\")\n",
    "        .pmid.values[batch:batch+chunk_size]\n",
    "    )\n",
    "    \n",
    "    records = call_entrez(doc_ids)\n",
    "\n",
    "    # Parse the initial query\n",
    "    for record in records['uids']:\n",
    "        if 'pubdate' not in records[record]:\n",
    "            writer.writerow({\n",
    "                \"pmid\": records[record]['uid'], \n",
    "                \"pub_date\": ''\n",
    "            })\n",
    "        else:\n",
    "            writer.writerow({\n",
    "                \"pmid\": records[record]['uid'], \n",
    "                \"pub_date\": records[record]['pubdate']\n",
    "            })"
   ]
  },
  {
   "cell_type": "code",
   "execution_count": 7,
   "metadata": {
    "ExecuteTime": {
     "end_time": "2020-12-02T21:38:14.182353Z",
     "start_time": "2020-12-02T21:38:14.180122Z"
    }
   },
   "outputs": [],
   "source": [
    "outfile.close()"
   ]
  }
 ],
 "metadata": {
  "kernelspec": {
   "display_name": "Python [conda env:biovectors]",
   "language": "python",
   "name": "conda-env-biovectors-py"
  },
  "language_info": {
   "codemirror_mode": {
    "name": "ipython",
    "version": 3
   },
   "file_extension": ".py",
   "mimetype": "text/x-python",
   "name": "python",
   "nbconvert_exporter": "python",
   "pygments_lexer": "ipython3",
   "version": "3.7.2"
  },
  "toc": {
   "base_numbering": 1,
   "nav_menu": {},
   "number_sections": true,
   "sideBar": true,
   "skip_h1_title": false,
   "title_cell": "Table of Contents",
   "title_sidebar": "Contents",
   "toc_cell": false,
   "toc_position": {},
   "toc_section_display": true,
   "toc_window_display": false
  }
 },
 "nbformat": 4,
 "nbformat_minor": 2
}
