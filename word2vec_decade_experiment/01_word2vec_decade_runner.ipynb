{
 "cells": [
  {
   "cell_type": "markdown",
   "metadata": {},
   "source": [
    "# Run Word2vec on abstracts for each Decade"
   ]
  },
  {
   "cell_type": "code",
   "execution_count": null,
   "metadata": {},
   "outputs": [],
   "source": [
    "from pathlib import Path\n",
    "\n",
    "from gensim.models import Word2Vec, KeyedVectors\n",
    "from sklearn.dummy import DummyClassifier\n",
    "from sklearn.model_selection import train_test_split\n",
    "import pandas as pd\n",
    "import random\n",
    "import re\n",
    "import tqdm\n",
    "\n",
    "from biovectors_modules.word2vec_run_helper import (\n",
    "    get_gene_disease_pairs,\n",
    "    SentencesIterator,\n",
    "    similarity_score,\n",
    ")"
   ]
  },
  {
   "cell_type": "code",
   "execution_count": null,
   "metadata": {},
   "outputs": [],
   "source": [
    "def get_year(pub_date):\n",
    "    \"\"\"\n",
    "    Extracts four-digit year from publication's date string.\n",
    "    \"\"\"\n",
    "    return re.search(r\"\\d\\d\\d\\d\", pub_date).group()"
   ]
  },
  {
   "cell_type": "markdown",
   "metadata": {},
   "source": [
    "## Set up the Data"
   ]
  },
  {
   "cell_type": "code",
   "execution_count": null,
   "metadata": {},
   "outputs": [],
   "source": [
    "pairs = get_gene_disease_pairs(\n",
    "    Path(\"output/hetnet_gene_disease_pairs.tsv\"), Path(\"output/DO-slim-to-mesh.tsv\")\n",
    ")\n",
    "pairs[0:10]"
   ]
  },
  {
   "cell_type": "code",
   "execution_count": null,
   "metadata": {},
   "outputs": [],
   "source": [
    "dates_df = pd.read_csv(\n",
    "    Path(\"../pubmed_timestamp_experiment/output\") / Path(\"pmid_to_pub_date.tsv.xz\"),\n",
    "    compression=\"xz\",\n",
    "    sep=\"\\t\",\n",
    ")\n",
    "print(dates_df.shape)\n",
    "dates_df.head()"
   ]
  },
  {
   "cell_type": "code",
   "execution_count": null,
   "metadata": {},
   "outputs": [],
   "source": [
    "dates_df = (\n",
    "    dates_df.dropna(subset=[\"pub_date\"])\n",
    "    .assign(pub_date=lambda x: x.pub_date.apply(get_year).astype(int))\n",
    "    .query(\"~pub_date.isnull()\")\n",
    ")\n",
    "print(dates_df.shape)\n",
    "dates_df.head()"
   ]
  },
  {
   "cell_type": "markdown",
   "metadata": {},
   "source": [
    "## Run the Models"
   ]
  },
  {
   "cell_type": "code",
   "execution_count": null,
   "metadata": {},
   "outputs": [],
   "source": [
    "# iterate through abstracts from 1971-2020 by decade\n",
    "years = [1971, 1981, 1991, 2001, 2011]\n",
    "Path(\"output/decades\").mkdir(exists_ok=True)\n",
    "Path(\"output/decades/models\").mkdir(exists_ok=True)"
   ]
  },
  {
   "cell_type": "code",
   "execution_count": null,
   "metadata": {},
   "outputs": [],
   "source": [
    "for year in years:\n",
    "    print(f\"----- {str(year)} - {str(year+9)} -----\")\n",
    "\n",
    "    pmids = set(\n",
    "        dates_df.loc[dates_df[\"pub_date\"].between(year, year + 9), \"pmid\"].tolist()\n",
    "    )\n",
    "\n",
    "    if len(pmids) > 0:\n",
    "        print(f\"{len(pmids)} PMIDs from this time period\")\n",
    "        sentences = SentencesIterator(\n",
    "            Path(\"inputs/bioconcepts2pubtatorcentral.gz\"), pmids\n",
    "        )\n",
    "\n",
    "        # check if more than one abstract exists for year\n",
    "        count = 0\n",
    "        for sentence in tqdm.tqdm(sentences):\n",
    "            if count > 0:\n",
    "                break\n",
    "            count += 1\n",
    "\n",
    "        if count > 0:\n",
    "            print(\"At least one abstract available\")\n",
    "            print(\"Creating word2vec model\")\n",
    "            model = Word2Vec(sentences, size=500, window=5, min_count=1, workers=4)\n",
    "            model.save(\n",
    "                Path(f\"output/decades/models/word2vec_{str(year)}-{str(year+9)}.model\")\n",
    "            )\n",
    "            print(\"Saved word2vec model\")\n",
    "\n",
    "            (\n",
    "                similarity_score(model, pairs, years).to_csv(\n",
    "                    f\"outputs/decades/similarity_scores_{str(year)}-{str(year+9)}.tsv\",\n",
    "                    sep=\"\\t\",\n",
    "                    index=False,\n",
    "                )\n",
    "            )\n",
    "\n",
    "        else:\n",
    "            print(\"No abstracts available\")\n",
    "    else:\n",
    "        print(\"No PMIDs from this time period\")"
   ]
  }
 ],
 "metadata": {
  "jupytext": {
   "formats": "ipynb,py"
  },
  "kernelspec": {
   "display_name": "Python [conda env:biovectors]",
   "language": "python",
   "name": "conda-env-biovectors-py"
  },
  "language_info": {
   "codemirror_mode": {
    "name": "ipython",
    "version": 3
   },
   "file_extension": ".py",
   "mimetype": "text/x-python",
   "name": "python",
   "nbconvert_exporter": "python",
   "pygments_lexer": "ipython3",
   "version": "3.7.2"
  },
  "toc": {
   "base_numbering": 1,
   "nav_menu": {},
   "number_sections": true,
   "sideBar": true,
   "skip_h1_title": false,
   "title_cell": "Table of Contents",
   "title_sidebar": "Contents",
   "toc_cell": false,
   "toc_position": {},
   "toc_section_display": true,
   "toc_window_display": false
  }
 },
 "nbformat": 4,
 "nbformat_minor": 2
}
