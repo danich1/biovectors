{
 "cells": [
  {
   "cell_type": "markdown",
   "metadata": {},
   "source": [
    "# Analyze Word2Vec by Decades Run"
   ]
  },
  {
   "cell_type": "markdown",
   "metadata": {},
   "source": [
    "This notebook is designed to calculate statistics on fully trained word2vec models trained in [01_word2vec_decade_runner.ipynb](01_word2vec_decade_runner.ipynb). The statistics calculated are the cosine distance between tokens on a global level and a local level. Cosine distance is a helpful metric as it isn't affected by the magnitude of vectors."
   ]
  },
  {
   "cell_type": "code",
   "execution_count": 1,
   "metadata": {
    "ExecuteTime": {
     "end_time": "2021-05-08T04:09:55.258535Z",
     "start_time": "2021-05-08T04:09:40.630328Z"
    }
   },
   "outputs": [],
   "source": [
    "%load_ext autoreload\n",
    "%autoreload 2\n",
    "\n",
    "from pathlib import Path\n",
    "import pickle\n",
    "import itertools\n",
    "\n",
    "from gensim.models import Word2Vec\n",
    "import numpy as np\n",
    "import pandas as pd\n",
    "from scipy.spatial.distance import cdist, pdist, squareform\n",
    "from scipy.linalg import orthogonal_procrustes\n",
    "import tqdm\n",
    "import plotnine as p9\n",
    "\n",
    "from biovectors_modules.word2vec_analysis_helper import (\n",
    "    get_global_distance,\n",
    "    get_local_distance,\n",
    ")"
   ]
  },
  {
   "cell_type": "markdown",
   "metadata": {},
   "source": [
    "## Load Models and Parse Performance"
   ]
  },
  {
   "cell_type": "code",
   "execution_count": 2,
   "metadata": {
    "ExecuteTime": {
     "end_time": "2021-05-08T04:09:55.285898Z",
     "start_time": "2021-05-08T04:09:55.259942Z"
    }
   },
   "outputs": [],
   "source": [
    "# Align word2vec Models since cutoff year\n",
    "year_cutoff = 2005\n",
    "latest_year = 2020\n",
    "aligned_model_file_path = (\n",
    "    f\"output/aligned_word_vectors_{year_cutoff}_{latest_year}_replace.pkl\"\n",
    ")\n",
    "token_occurence_file = \"output/earliest_token_occurence.tsv\""
   ]
  },
  {
   "cell_type": "code",
   "execution_count": 3,
   "metadata": {
    "ExecuteTime": {
     "end_time": "2021-05-08T04:09:55.335807Z",
     "start_time": "2021-05-08T04:09:55.287584Z"
    }
   },
   "outputs": [
    {
     "name": "stdout",
     "output_type": "stream",
     "text": [
      "[PosixPath('output/models/word2vec_2020.model'), PosixPath('output/models/word2vec_2019.model'), PosixPath('output/models/word2vec_2018.model'), PosixPath('output/models/word2vec_2017.model'), PosixPath('output/models/word2vec_2016.model'), PosixPath('output/models/word2vec_2015.model'), PosixPath('output/models/word2vec_2014.model'), PosixPath('output/models/word2vec_2013.model'), PosixPath('output/models/word2vec_2012.model'), PosixPath('output/models/word2vec_2011.model'), PosixPath('output/models/word2vec_2010.model'), PosixPath('output/models/word2vec_2009.model'), PosixPath('output/models/word2vec_2008.model'), PosixPath('output/models/word2vec_2007.model'), PosixPath('output/models/word2vec_2006.model'), PosixPath('output/models/word2vec_2005.model')]\n"
     ]
    }
   ],
   "source": [
    "# Skip 2021 as that model is too small to analyze\n",
    "# Try again December 2021\n",
    "word_models = filter(\n",
    "    lambda x: int(x.stem.split(\"_\")[1]) >= year_cutoff\n",
    "    and int(x.stem.split(\"_\")[1]) != 2021,\n",
    "    list(Path(\"output/models\").rglob(\"*model\")),\n",
    ")\n",
    "word_models = sorted(word_models, key=lambda x: int(x.stem.split(\"_\")[1]), reverse=True)\n",
    "print(word_models)"
   ]
  },
  {
   "cell_type": "code",
   "execution_count": 4,
   "metadata": {
    "ExecuteTime": {
     "end_time": "2021-05-08T04:09:55.406235Z",
     "start_time": "2021-05-08T04:09:55.337248Z"
    }
   },
   "outputs": [],
   "source": [
    "if not Path(token_occurence_file).exists():\n",
    "    earliest_token_occurence = dict()\n",
    "    for model in reversed(word_models):\n",
    "        year = model.stem.split(\"_\")[1]\n",
    "        model = Word2Vec.load(str(model))\n",
    "        for token in model.wv.vocab.keys():\n",
    "            if token not in earliest_token_occurence:\n",
    "                earliest_token_occurence[token] = f\"{year}\"\n",
    "            else:\n",
    "                earliest_token_occurence[token] += f\"|{year}\"\n",
    "        (\n",
    "            pd.DataFrame(\n",
    "                list(earliest_token_occurence.items()),\n",
    "                columns=[\"token\", \"year_occured\"],\n",
    "            ).to_csv(token_occurence_file, sep=\"\\t\", index=False)\n",
    "        )"
   ]
  },
  {
   "cell_type": "code",
   "execution_count": 5,
   "metadata": {
    "ExecuteTime": {
     "end_time": "2021-05-08T04:10:49.120145Z",
     "start_time": "2021-05-08T04:09:55.411272Z"
    }
   },
   "outputs": [],
   "source": [
    "if not Path(aligned_model_file_path).exists():\n",
    "    word_model_dict = dict()\n",
    "    shared_tokens = set()\n",
    "    for model in word_models:\n",
    "        year = model.stem.split(\"_\")[1]\n",
    "        word_model_dict[year] = Word2Vec.load(str(model))\n",
    "        if len(shared_tokens) == 0:\n",
    "            shared_tokens = set(word_model_dict[year].wv.vocab.keys())\n",
    "        else:\n",
    "            shared_tokens &= set(word_model_dict[year].wv.vocab.keys())\n",
    "\n",
    "    shared_tokens = sorted(list(shared_tokens))"
   ]
  },
  {
   "cell_type": "markdown",
   "metadata": {},
   "source": [
    "## Calculate Global and Local Distances Between Time Periods"
   ]
  },
  {
   "cell_type": "markdown",
   "metadata": {},
   "source": [
    "### Align Models via Orthogonal Procrustes"
   ]
  },
  {
   "cell_type": "code",
   "execution_count": 6,
   "metadata": {
    "ExecuteTime": {
     "end_time": "2021-05-08T04:10:54.584264Z",
     "start_time": "2021-05-08T04:10:49.121338Z"
    }
   },
   "outputs": [],
   "source": [
    "if not Path(aligned_model_file_path).exists():\n",
    "    years_analyzed = sorted(list(word_model_dict.keys()), reverse=True)\n",
    "    latest_year = str(latest_year)\n",
    "    aligned_models = {}\n",
    "\n",
    "    # Years must be in sorted descending order\n",
    "    for year in years_analyzed:\n",
    "\n",
    "        if year == latest_year:\n",
    "            aligned_models[year] = word_model_dict[year].wv[shared_tokens]\n",
    "\n",
    "        else:\n",
    "\n",
    "            # align A to B subject to transition matrix being\n",
    "            # orthogonal to preserve the cosine similarities\n",
    "            translation_matrix, scale = orthogonal_procrustes(\n",
    "                word_model_dict[year].wv[shared_tokens],\n",
    "                word_model_dict[latest_year].wv[shared_tokens],\n",
    "            )\n",
    "\n",
    "            # Matrix Multiplication to project year onto 2020\n",
    "            aligned_models[year] = (\n",
    "                word_model_dict[year].wv[shared_tokens] @ translation_matrix\n",
    "            )\n",
    "\n",
    "    aligned_models[\"shared_tokens\"] = shared_tokens"
   ]
  },
  {
   "cell_type": "code",
   "execution_count": 7,
   "metadata": {
    "ExecuteTime": {
     "end_time": "2021-05-08T04:10:55.210815Z",
     "start_time": "2021-05-08T04:10:54.585304Z"
    }
   },
   "outputs": [],
   "source": [
    "if not Path(aligned_model_file_path).exists():\n",
    "    pickle.dump(aligned_models, open(aligned_model_file_path, \"wb\"))"
   ]
  },
  {
   "cell_type": "markdown",
   "metadata": {},
   "source": [
    "### Calculate the Global and Local Distances between Words"
   ]
  },
  {
   "cell_type": "code",
   "execution_count": 8,
   "metadata": {
    "ExecuteTime": {
     "end_time": "2021-05-08T04:10:55.739049Z",
     "start_time": "2021-05-08T04:10:55.212493Z"
    }
   },
   "outputs": [],
   "source": [
    "aligned_models = pickle.load(open(aligned_model_file_path, \"rb\"))\n",
    "years_analyzed = sorted(list(aligned_models.keys()), reverse=True)[1:]\n",
    "origin_year = years_analyzed[-1]  # grab the earliest year to date\n",
    "n_neighbors = 25\n",
    "year_distance_folder = f\"year_distances_{year_cutoff}_{latest_year}\""
   ]
  },
  {
   "cell_type": "code",
   "execution_count": 9,
   "metadata": {
    "ExecuteTime": {
     "end_time": "2021-05-08T06:49:28.145533Z",
     "start_time": "2021-05-08T04:10:55.740339Z"
    }
   },
   "outputs": [
    {
     "name": "stderr",
     "output_type": "stream",
     "text": [
      "100%|██████████| 15/15 [2:38:32<00:00, 634.16s/it] \n"
     ]
    }
   ],
   "source": [
    "shared_tokens = sorted(aligned_models[\"shared_tokens\"])\n",
    "for key in tqdm.tqdm(years_analyzed[:-1]):\n",
    "\n",
    "    global_distance = get_global_distance(\n",
    "        aligned_models[origin_year],\n",
    "        aligned_models[key],\n",
    "        aligned_models[\"shared_tokens\"],\n",
    "    )\n",
    "\n",
    "    local_distance = get_local_distance(\n",
    "        aligned_models[origin_year],\n",
    "        aligned_models[key],\n",
    "        aligned_models[\"shared_tokens\"],\n",
    "        neighbors=n_neighbors,\n",
    "    )\n",
    "\n",
    "    label = f\"{origin_year}_{key}\"\n",
    "    output_filepath = Path(f\"output/{year_distance_folder}\") / Path(f\"{label}_dist.tsv\")\n",
    "\n",
    "    (\n",
    "        global_distance.merge(local_distance)\n",
    "        .assign(shift=lambda x: x.global_dist.values - x.local_dist.values)\n",
    "        .to_csv(str(output_filepath), index=False, sep=\"\\t\")\n",
    "    )"
   ]
  }
 ],
 "metadata": {
  "jupytext": {
   "formats": "ipynb,py"
  },
  "kernelspec": {
   "display_name": "Python [conda env:biovectors]",
   "language": "python",
   "name": "conda-env-biovectors-py"
  },
  "language_info": {
   "codemirror_mode": {
    "name": "ipython",
    "version": 3
   },
   "file_extension": ".py",
   "mimetype": "text/x-python",
   "name": "python",
   "nbconvert_exporter": "python",
   "pygments_lexer": "ipython3",
   "version": "3.7.2"
  },
  "toc": {
   "base_numbering": 1,
   "nav_menu": {},
   "number_sections": true,
   "sideBar": true,
   "skip_h1_title": false,
   "title_cell": "Table of Contents",
   "title_sidebar": "Contents",
   "toc_cell": false,
   "toc_position": {},
   "toc_section_display": true,
   "toc_window_display": false
  }
 },
 "nbformat": 4,
 "nbformat_minor": 2
}
