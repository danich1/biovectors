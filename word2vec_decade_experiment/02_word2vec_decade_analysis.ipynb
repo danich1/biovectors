{
 "cells": [
  {
   "cell_type": "markdown",
   "metadata": {},
   "source": [
    "# Analyze Word2Vec by Decades Run"
   ]
  },
  {
   "cell_type": "code",
   "execution_count": null,
   "metadata": {},
   "outputs": [],
   "source": [
    "from pathlib import Path\n",
    "\n",
    "import numpy as np\n",
    "import pandas as pd\n",
    "import plotnine as p9\n",
    "from sklearn.metrics import (\n",
    "    auc,\n",
    "    roc_curve,\n",
    "    precision_recall_curve,\n",
    ")"
   ]
  },
  {
   "cell_type": "markdown",
   "metadata": {},
   "source": [
    "## Load and Parse the performance data"
   ]
  },
  {
   "cell_type": "code",
   "execution_count": null,
   "metadata": {},
   "outputs": [],
   "source": [
    "decade_df_dict = {}\n",
    "years = [1971, 1981, 1991, 2001, 2011]"
   ]
  },
  {
   "cell_type": "code",
   "execution_count": null,
   "metadata": {},
   "outputs": [],
   "source": [
    "# iterate through results from 1971-2020 by decade\n",
    "for year in years:\n",
    "    scores_df = pd.read_csv(\n",
    "        Path(f\"outputs/decades/similarity_scores_{str(year)}-{str(year+9)}.tsv\"),\n",
    "        sep=\"\\t\",\n",
    "    )\n",
    "\n",
    "    fp, tp, _ = roc_curve(\n",
    "        scores_df[\"class\"].values.tolist(), scores_df.score.values.tolist()\n",
    "    )\n",
    "\n",
    "    precision, recall, _ = precision_recall_curve(\n",
    "        scores_df[\"class\"].values.tolist(), scores_df.score.values.tolist()\n",
    "    )\n",
    "\n",
    "    decade_df_dict[f\"{str(year)}-{str(year+9)}\"] = pd.DataFrame(\n",
    "        {\"fp\": fp, \"tp\": tp, \"precision\": precision, \"recall\": recall}\n",
    "    )"
   ]
  },
  {
   "cell_type": "markdown",
   "metadata": {},
   "source": [
    "## Plot Performance"
   ]
  },
  {
   "cell_type": "code",
   "execution_count": null,
   "metadata": {},
   "outputs": [],
   "source": [
    "year = 2001"
   ]
  },
  {
   "cell_type": "code",
   "execution_count": null,
   "metadata": {},
   "outputs": [],
   "source": [
    "g = (\n",
    "    p9.ggplot(decade_df_dict[f\"{str(year)}-{str(year+9)}\"], p9.aes(x=\"fp\", y=\"tp\"))\n",
    "    + p9.geom_point()\n",
    "    + p9.geom_line(p9.aes(x=[0, 1], y=[0, 1]), linetype=\"dashed\")\n",
    ")\n",
    "print(g)"
   ]
  },
  {
   "cell_type": "code",
   "execution_count": null,
   "metadata": {},
   "outputs": [],
   "source": [
    "g = (\n",
    "    p9.ggplot(\n",
    "        decade_df_dict[f\"{str(year)}-{str(year+9)}\"],\n",
    "        p9.aes(x=\"recall\", y=\"precision\"),\n",
    "    )\n",
    "    + p9.geom_point()\n",
    ")\n",
    "print(g)"
   ]
  }
 ],
 "metadata": {
  "jupytext": {
   "formats": "ipynb,py"
  },
  "kernelspec": {
   "display_name": "Python [conda env:biovectors]",
   "language": "python",
   "name": "conda-env-biovectors-py"
  },
  "language_info": {
   "codemirror_mode": {
    "name": "ipython",
    "version": 3
   },
   "file_extension": ".py",
   "mimetype": "text/x-python",
   "name": "python",
   "nbconvert_exporter": "python",
   "pygments_lexer": "ipython3",
   "version": "3.7.2"
  },
  "toc": {
   "base_numbering": 1,
   "nav_menu": {},
   "number_sections": true,
   "sideBar": true,
   "skip_h1_title": false,
   "title_cell": "Table of Contents",
   "title_sidebar": "Contents",
   "toc_cell": false,
   "toc_position": {},
   "toc_section_display": true,
   "toc_window_display": false
  }
 },
 "nbformat": 4,
 "nbformat_minor": 2
}
